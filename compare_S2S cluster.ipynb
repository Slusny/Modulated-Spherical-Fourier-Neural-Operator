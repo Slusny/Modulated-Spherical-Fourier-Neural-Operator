{
 "cells": [
  {
   "cell_type": "code",
   "execution_count": 9,
   "metadata": {},
   "outputs": [],
   "source": [
    "import xarray as xr\n",
    "import matplotlib.pyplot as plt\n",
    "import os\n",
    "import numpy as np\n",
    "# import metview as mv"
   ]
  },
  {
   "cell_type": "code",
   "execution_count": null,
   "metadata": {},
   "outputs": [],
   "source": [
    "basePath = \"/mnt/qb/goswami/data/era5\"\n",
    "# path = os.path.join(basePath, 'single_pressure_level', sfc)\n",
    "print(\"loading data\")\n",
    "ds = xr.open_mfdataset(os.path.join(basePath, 'single_pressure_level', '10m_v_component_of_wind', \"10m_v_component_of_wind_????.nc\"),parallel=True)\n",
    "print(\"ds: \")\n",
    "print(ds.info())\n",
    "print(\"fin loading\")"
   ]
  },
  {
   "cell_type": "code",
   "execution_count": null,
   "metadata": {},
   "outputs": [],
   "source": [
    "basePath_sfno = \"/mnt/qb/work2/goswami0/gkd965/outputs/sfno\"\n",
    "file = \"v10_SFNO_HalfYearForecast_startfrom_2022-01-01.nc\"\n",
    "# path = os.path.join(basePath, 'single_pressure_level', sfc)\n",
    "print(\"loading sfno data\")\n",
    "ds_sfno = xr.open_dataset(os.path.join(basePath_sfno,file), chunks={\"step\": 4})\n",
    "print(\"ds sfno: \")\n",
    "print(ds_sfno.info())\n",
    "print(\"fin loading\")"
   ]
  },
  {
   "cell_type": "code",
   "execution_count": null,
   "metadata": {},
   "outputs": [],
   "source": [
    "Model = ds.drop([np.datetime64('02-29')], dim='time')"
   ]
  },
  {
   "cell_type": "code",
   "execution_count": null,
   "metadata": {},
   "outputs": [],
   "source": []
  },
  {
   "cell_type": "code",
   "execution_count": null,
   "metadata": {},
   "outputs": [],
   "source": [
    "ds['hourofyear'] = xr.DataArray(ds.time.dt.strftime('%m-%d %H'), coords=ds.time.coords)\n",
    "ds_hourofyear = ds.groupby(\"hourofyear\")\n",
    "mean_temps = ds_hourofyear.mean()"
   ]
  },
  {
   "cell_type": "code",
   "execution_count": null,
   "metadata": {},
   "outputs": [],
   "source": [
    "Ref = mean_temps.to_array(dim='2m_temperature')\n",
    "Model = ds_sfno.to_array(dim='2t')"
   ]
  },
  {
   "cell_type": "code",
   "execution_count": null,
   "metadata": {},
   "outputs": [],
   "source": [
    "RMSE = 1 - Model / Ref"
   ]
  }
 ],
 "metadata": {
  "kernelspec": {
   "display_name": "weather",
   "language": "python",
   "name": "python3"
  },
  "language_info": {
   "codemirror_mode": {
    "name": "ipython",
    "version": 3
   },
   "file_extension": ".py",
   "mimetype": "text/x-python",
   "name": "python",
   "nbconvert_exporter": "python",
   "pygments_lexer": "ipython3",
   "version": "3.12.0"
  }
 },
 "nbformat": 4,
 "nbformat_minor": 2
}
