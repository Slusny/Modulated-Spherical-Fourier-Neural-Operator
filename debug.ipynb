{
 "cells": [
  {
   "cell_type": "code",
   "execution_count": 1,
   "metadata": {},
   "outputs": [
    {
     "name": "stderr",
     "output_type": "stream",
     "text": [
      "/home/lenny/miniconda3/envs/model/lib/python3.11/site-packages/tqdm/auto.py:21: TqdmWarning: IProgress not found. Please update jupyter and ipywidgets. See https://ipywidgets.readthedocs.io/en/stable/user_install.html\n",
      "  from .autonotebook import tqdm as notebook_tqdm\n"
     ]
    }
   ],
   "source": [
    "import xarray as xr\n",
    "import climetlab as cml\n",
    "import numpy as np"
   ]
  },
  {
   "cell_type": "code",
   "execution_count": 2,
   "metadata": {},
   "outputs": [],
   "source": [
    "template = cml.load_source(\"file\", \"/mnt/ssd2/Master/S2S_on_SFNO/inputs/ClimateInputData_202101010.grib\")"
   ]
  },
  {
   "cell_type": "code",
   "execution_count": 4,
   "metadata": {},
   "outputs": [
    {
     "name": "stdout",
     "output_type": "stream",
     "text": [
      "k:  0 , fs:  GribField(10u,None,20210101,0,0,0)\n",
      "k:  1 , fs:  GribField(10v,None,20210101,0,0,0)\n",
      "k:  2 , fs:  GribField(2t,None,20210101,0,0,0)\n",
      "k:  3 , fs:  GribField(sp,None,20210101,0,0,0)\n",
      "k:  4 , fs:  GribField(msl,None,20210101,0,0,0)\n",
      "k:  5 , fs:  GribField(tcwv,None,20210101,0,0,0)\n",
      "k:  6 , fs:  GribField(100u,None,20210101,0,0,0)\n",
      "k:  7 , fs:  GribField(100v,None,20210101,0,0,0)\n",
      "k:  8 , fs:  GribField(t,1000,20210101,0,0,0)\n",
      "k:  9 , fs:  GribField(u,1000,20210101,0,0,0)\n",
      "k:  10 , fs:  GribField(v,1000,20210101,0,0,0)\n",
      "k:  11 , fs:  GribField(z,1000,20210101,0,0,0)\n",
      "k:  12 , fs:  GribField(r,1000,20210101,0,0,0)\n",
      "k:  13 , fs:  GribField(t,925,20210101,0,0,0)\n",
      "k:  14 , fs:  GribField(u,925,20210101,0,0,0)\n",
      "k:  15 , fs:  GribField(v,925,20210101,0,0,0)\n",
      "k:  16 , fs:  GribField(z,925,20210101,0,0,0)\n",
      "k:  17 , fs:  GribField(r,925,20210101,0,0,0)\n",
      "k:  18 , fs:  GribField(t,850,20210101,0,0,0)\n",
      "k:  19 , fs:  GribField(u,850,20210101,0,0,0)\n",
      "k:  20 , fs:  GribField(v,850,20210101,0,0,0)\n",
      "k:  21 , fs:  GribField(z,850,20210101,0,0,0)\n",
      "k:  22 , fs:  GribField(r,850,20210101,0,0,0)\n",
      "k:  23 , fs:  GribField(t,700,20210101,0,0,0)\n",
      "k:  24 , fs:  GribField(u,700,20210101,0,0,0)\n",
      "k:  25 , fs:  GribField(v,700,20210101,0,0,0)\n",
      "k:  26 , fs:  GribField(z,700,20210101,0,0,0)\n",
      "k:  27 , fs:  GribField(r,700,20210101,0,0,0)\n",
      "k:  28 , fs:  GribField(t,600,20210101,0,0,0)\n",
      "k:  29 , fs:  GribField(u,600,20210101,0,0,0)\n",
      "k:  30 , fs:  GribField(v,600,20210101,0,0,0)\n",
      "k:  31 , fs:  GribField(z,600,20210101,0,0,0)\n",
      "k:  32 , fs:  GribField(r,600,20210101,0,0,0)\n",
      "k:  33 , fs:  GribField(t,500,20210101,0,0,0)\n",
      "k:  34 , fs:  GribField(u,500,20210101,0,0,0)\n",
      "k:  35 , fs:  GribField(v,500,20210101,0,0,0)\n",
      "k:  36 , fs:  GribField(z,500,20210101,0,0,0)\n",
      "k:  37 , fs:  GribField(r,500,20210101,0,0,0)\n",
      "k:  38 , fs:  GribField(t,400,20210101,0,0,0)\n",
      "k:  39 , fs:  GribField(u,400,20210101,0,0,0)\n",
      "k:  40 , fs:  GribField(v,400,20210101,0,0,0)\n",
      "k:  41 , fs:  GribField(z,400,20210101,0,0,0)\n",
      "k:  42 , fs:  GribField(r,400,20210101,0,0,0)\n",
      "k:  43 , fs:  GribField(t,300,20210101,0,0,0)\n",
      "k:  44 , fs:  GribField(u,300,20210101,0,0,0)\n",
      "k:  45 , fs:  GribField(v,300,20210101,0,0,0)\n",
      "k:  46 , fs:  GribField(z,300,20210101,0,0,0)\n",
      "k:  47 , fs:  GribField(r,300,20210101,0,0,0)\n",
      "k:  48 , fs:  GribField(t,250,20210101,0,0,0)\n",
      "k:  49 , fs:  GribField(u,250,20210101,0,0,0)\n",
      "k:  50 , fs:  GribField(v,250,20210101,0,0,0)\n",
      "k:  51 , fs:  GribField(z,250,20210101,0,0,0)\n",
      "k:  52 , fs:  GribField(r,250,20210101,0,0,0)\n",
      "k:  53 , fs:  GribField(t,200,20210101,0,0,0)\n",
      "k:  54 , fs:  GribField(u,200,20210101,0,0,0)\n",
      "k:  55 , fs:  GribField(v,200,20210101,0,0,0)\n",
      "k:  56 , fs:  GribField(z,200,20210101,0,0,0)\n",
      "k:  57 , fs:  GribField(r,200,20210101,0,0,0)\n",
      "k:  58 , fs:  GribField(t,150,20210101,0,0,0)\n",
      "k:  59 , fs:  GribField(u,150,20210101,0,0,0)\n",
      "k:  60 , fs:  GribField(v,150,20210101,0,0,0)\n",
      "k:  61 , fs:  GribField(z,150,20210101,0,0,0)\n",
      "k:  62 , fs:  GribField(r,150,20210101,0,0,0)\n",
      "k:  63 , fs:  GribField(t,100,20210101,0,0,0)\n",
      "k:  64 , fs:  GribField(u,100,20210101,0,0,0)\n",
      "k:  65 , fs:  GribField(v,100,20210101,0,0,0)\n",
      "k:  66 , fs:  GribField(z,100,20210101,0,0,0)\n",
      "k:  67 , fs:  GribField(r,100,20210101,0,0,0)\n",
      "k:  68 , fs:  GribField(t,50,20210101,0,0,0)\n",
      "k:  69 , fs:  GribField(u,50,20210101,0,0,0)\n",
      "k:  70 , fs:  GribField(v,50,20210101,0,0,0)\n",
      "k:  71 , fs:  GribField(z,50,20210101,0,0,0)\n",
      "k:  72 , fs:  GribField(r,50,20210101,0,0,0)\n"
     ]
    }
   ],
   "source": [
    "for k, fs in enumerate(template):\n",
    "    print(\"k: \", k,\", fs: \", fs)"
   ]
  },
  {
   "cell_type": "code",
   "execution_count": 3,
   "metadata": {},
   "outputs": [],
   "source": [
    "tnc = template.to_xarray()"
   ]
  },
  {
   "cell_type": "code",
   "execution_count": 5,
   "metadata": {},
   "outputs": [
    {
     "data": {
      "text/plain": [
       "Frozen({'number': 1, 'time': 1, 'step': 1, 'surface': 1, 'latitude': 721, 'longitude': 1440, 'isobaricInhPa': 13})"
      ]
     },
     "execution_count": 5,
     "metadata": {},
     "output_type": "execute_result"
    }
   ],
   "source": [
    "tnc.dims"
   ]
  },
  {
   "cell_type": "code",
   "execution_count": 6,
   "metadata": {},
   "outputs": [
    {
     "data": {
      "text/plain": [
       "Coordinates:\n",
       "  * number         (number) int64 0\n",
       "  * time           (time) datetime64[ns] 2021-01-01\n",
       "  * step           (step) timedelta64[ns] 00:00:00\n",
       "  * surface        (surface) float64 0.0\n",
       "  * latitude       (latitude) float64 90.0 89.75 89.5 ... -89.5 -89.75 -90.0\n",
       "  * longitude      (longitude) float64 0.0 0.25 0.5 0.75 ... 359.2 359.5 359.8\n",
       "    valid_time     (time, step) datetime64[ns] ...\n",
       "  * isobaricInhPa  (isobaricInhPa) float64 1e+03 925.0 850.0 ... 100.0 50.0"
      ]
     },
     "execution_count": 6,
     "metadata": {},
     "output_type": "execute_result"
    }
   ],
   "source": [
    "tnc.coords"
   ]
  },
  {
   "cell_type": "code",
   "execution_count": 4,
   "metadata": {},
   "outputs": [
    {
     "name": "stdout",
     "output_type": "stream",
     "text": [
      "xarray.Dataset {\n",
      "dimensions:\n",
      "\tnumber = 1 ;\n",
      "\ttime = 1 ;\n",
      "\tstep = 1 ;\n",
      "\tsurface = 1 ;\n",
      "\tlatitude = 721 ;\n",
      "\tlongitude = 1440 ;\n",
      "\tisobaricInhPa = 13 ;\n",
      "\n",
      "variables:\n",
      "\tint64 number(number) ;\n",
      "\t\tnumber:long_name = ensemble member numerical id ;\n",
      "\t\tnumber:units = 1 ;\n",
      "\t\tnumber:standard_name = realization ;\n",
      "\tdatetime64[ns] time(time) ;\n",
      "\t\ttime:long_name = initial time of forecast ;\n",
      "\t\ttime:standard_name = forecast_reference_time ;\n",
      "\ttimedelta64[ns] step(step) ;\n",
      "\t\tstep:long_name = time since forecast_reference_time ;\n",
      "\t\tstep:standard_name = forecast_period ;\n",
      "\tfloat64 surface(surface) ;\n",
      "\t\tsurface:long_name = original GRIB coordinate for key: level(surface) ;\n",
      "\t\tsurface:units = 1 ;\n",
      "\tfloat64 latitude(latitude) ;\n",
      "\t\tlatitude:units = degrees_north ;\n",
      "\t\tlatitude:standard_name = latitude ;\n",
      "\t\tlatitude:long_name = latitude ;\n",
      "\t\tlatitude:stored_direction = decreasing ;\n",
      "\tfloat64 longitude(longitude) ;\n",
      "\t\tlongitude:units = degrees_east ;\n",
      "\t\tlongitude:standard_name = longitude ;\n",
      "\t\tlongitude:long_name = longitude ;\n",
      "\tdatetime64[ns] valid_time(time, step) ;\n",
      "\t\tvalid_time:standard_name = time ;\n",
      "\t\tvalid_time:long_name = time ;\n",
      "\tfloat32 u10(number, time, step, surface, latitude, longitude) ;\n",
      "\t\tu10:GRIB_paramId = 165 ;\n",
      "\t\tu10:GRIB_dataType = an ;\n",
      "\t\tu10:GRIB_numberOfPoints = 1038240 ;\n",
      "\t\tu10:GRIB_typeOfLevel = surface ;\n",
      "\t\tu10:GRIB_stepUnits = 1 ;\n",
      "\t\tu10:GRIB_stepType = instant ;\n",
      "\t\tu10:GRIB_gridType = regular_ll ;\n",
      "\t\tu10:GRIB_NV = 0 ;\n",
      "\t\tu10:GRIB_Nx = 1440 ;\n",
      "\t\tu10:GRIB_Ny = 721 ;\n",
      "\t\tu10:GRIB_cfName = unknown ;\n",
      "\t\tu10:GRIB_cfVarName = u10 ;\n",
      "\t\tu10:GRIB_gridDefinitionDescription = Latitude/Longitude Grid ;\n",
      "\t\tu10:GRIB_iDirectionIncrementInDegrees = 0.25 ;\n",
      "\t\tu10:GRIB_iScansNegatively = 0 ;\n",
      "\t\tu10:GRIB_jDirectionIncrementInDegrees = 0.25 ;\n",
      "\t\tu10:GRIB_jPointsAreConsecutive = 0 ;\n",
      "\t\tu10:GRIB_jScansPositively = 0 ;\n",
      "\t\tu10:GRIB_latitudeOfFirstGridPointInDegrees = 90.0 ;\n",
      "\t\tu10:GRIB_latitudeOfLastGridPointInDegrees = -90.0 ;\n",
      "\t\tu10:GRIB_longitudeOfFirstGridPointInDegrees = 0.0 ;\n",
      "\t\tu10:GRIB_longitudeOfLastGridPointInDegrees = 359.75 ;\n",
      "\t\tu10:GRIB_missingValue = 9999 ;\n",
      "\t\tu10:GRIB_name = 10 metre U wind component ;\n",
      "\t\tu10:GRIB_shortName = 10u ;\n",
      "\t\tu10:GRIB_totalNumber = 0 ;\n",
      "\t\tu10:GRIB_units = m s**-1 ;\n",
      "\t\tu10:long_name = 10 metre U wind component ;\n",
      "\t\tu10:units = m s**-1 ;\n",
      "\t\tu10:standard_name = unknown ;\n",
      "\tfloat32 v10(number, time, step, surface, latitude, longitude) ;\n",
      "\t\tv10:GRIB_paramId = 166 ;\n",
      "\t\tv10:GRIB_dataType = an ;\n",
      "\t\tv10:GRIB_numberOfPoints = 1038240 ;\n",
      "\t\tv10:GRIB_typeOfLevel = surface ;\n",
      "\t\tv10:GRIB_stepUnits = 1 ;\n",
      "\t\tv10:GRIB_stepType = instant ;\n",
      "\t\tv10:GRIB_gridType = regular_ll ;\n",
      "\t\tv10:GRIB_NV = 0 ;\n",
      "\t\tv10:GRIB_Nx = 1440 ;\n",
      "\t\tv10:GRIB_Ny = 721 ;\n",
      "\t\tv10:GRIB_cfName = unknown ;\n",
      "\t\tv10:GRIB_cfVarName = v10 ;\n",
      "\t\tv10:GRIB_gridDefinitionDescription = Latitude/Longitude Grid ;\n",
      "\t\tv10:GRIB_iDirectionIncrementInDegrees = 0.25 ;\n",
      "\t\tv10:GRIB_iScansNegatively = 0 ;\n",
      "\t\tv10:GRIB_jDirectionIncrementInDegrees = 0.25 ;\n",
      "\t\tv10:GRIB_jPointsAreConsecutive = 0 ;\n",
      "\t\tv10:GRIB_jScansPositively = 0 ;\n",
      "\t\tv10:GRIB_latitudeOfFirstGridPointInDegrees = 90.0 ;\n",
      "\t\tv10:GRIB_latitudeOfLastGridPointInDegrees = -90.0 ;\n",
      "\t\tv10:GRIB_longitudeOfFirstGridPointInDegrees = 0.0 ;\n",
      "\t\tv10:GRIB_longitudeOfLastGridPointInDegrees = 359.75 ;\n",
      "\t\tv10:GRIB_missingValue = 9999 ;\n",
      "\t\tv10:GRIB_name = 10 metre V wind component ;\n",
      "\t\tv10:GRIB_shortName = 10v ;\n",
      "\t\tv10:GRIB_totalNumber = 0 ;\n",
      "\t\tv10:GRIB_units = m s**-1 ;\n",
      "\t\tv10:long_name = 10 metre V wind component ;\n",
      "\t\tv10:units = m s**-1 ;\n",
      "\t\tv10:standard_name = unknown ;\n",
      "\tfloat32 t2m(number, time, step, surface, latitude, longitude) ;\n",
      "\t\tt2m:GRIB_paramId = 167 ;\n",
      "\t\tt2m:GRIB_dataType = an ;\n",
      "\t\tt2m:GRIB_numberOfPoints = 1038240 ;\n",
      "\t\tt2m:GRIB_typeOfLevel = surface ;\n",
      "\t\tt2m:GRIB_stepUnits = 1 ;\n",
      "\t\tt2m:GRIB_stepType = instant ;\n",
      "\t\tt2m:GRIB_gridType = regular_ll ;\n",
      "\t\tt2m:GRIB_NV = 0 ;\n",
      "\t\tt2m:GRIB_Nx = 1440 ;\n",
      "\t\tt2m:GRIB_Ny = 721 ;\n",
      "\t\tt2m:GRIB_cfName = unknown ;\n",
      "\t\tt2m:GRIB_cfVarName = t2m ;\n",
      "\t\tt2m:GRIB_gridDefinitionDescription = Latitude/Longitude Grid ;\n",
      "\t\tt2m:GRIB_iDirectionIncrementInDegrees = 0.25 ;\n",
      "\t\tt2m:GRIB_iScansNegatively = 0 ;\n",
      "\t\tt2m:GRIB_jDirectionIncrementInDegrees = 0.25 ;\n",
      "\t\tt2m:GRIB_jPointsAreConsecutive = 0 ;\n",
      "\t\tt2m:GRIB_jScansPositively = 0 ;\n",
      "\t\tt2m:GRIB_latitudeOfFirstGridPointInDegrees = 90.0 ;\n",
      "\t\tt2m:GRIB_latitudeOfLastGridPointInDegrees = -90.0 ;\n",
      "\t\tt2m:GRIB_longitudeOfFirstGridPointInDegrees = 0.0 ;\n",
      "\t\tt2m:GRIB_longitudeOfLastGridPointInDegrees = 359.75 ;\n",
      "\t\tt2m:GRIB_missingValue = 9999 ;\n",
      "\t\tt2m:GRIB_name = 2 metre temperature ;\n",
      "\t\tt2m:GRIB_shortName = 2t ;\n",
      "\t\tt2m:GRIB_totalNumber = 0 ;\n",
      "\t\tt2m:GRIB_units = K ;\n",
      "\t\tt2m:long_name = 2 metre temperature ;\n",
      "\t\tt2m:units = K ;\n",
      "\t\tt2m:standard_name = unknown ;\n",
      "\tfloat32 sp(number, time, step, surface, latitude, longitude) ;\n",
      "\t\tsp:GRIB_paramId = 134 ;\n",
      "\t\tsp:GRIB_dataType = an ;\n",
      "\t\tsp:GRIB_numberOfPoints = 1038240 ;\n",
      "\t\tsp:GRIB_typeOfLevel = surface ;\n",
      "\t\tsp:GRIB_stepUnits = 1 ;\n",
      "\t\tsp:GRIB_stepType = instant ;\n",
      "\t\tsp:GRIB_gridType = regular_ll ;\n",
      "\t\tsp:GRIB_NV = 0 ;\n",
      "\t\tsp:GRIB_Nx = 1440 ;\n",
      "\t\tsp:GRIB_Ny = 721 ;\n",
      "\t\tsp:GRIB_cfName = surface_air_pressure ;\n",
      "\t\tsp:GRIB_cfVarName = sp ;\n",
      "\t\tsp:GRIB_gridDefinitionDescription = Latitude/Longitude Grid ;\n",
      "\t\tsp:GRIB_iDirectionIncrementInDegrees = 0.25 ;\n",
      "\t\tsp:GRIB_iScansNegatively = 0 ;\n",
      "\t\tsp:GRIB_jDirectionIncrementInDegrees = 0.25 ;\n",
      "\t\tsp:GRIB_jPointsAreConsecutive = 0 ;\n",
      "\t\tsp:GRIB_jScansPositively = 0 ;\n",
      "\t\tsp:GRIB_latitudeOfFirstGridPointInDegrees = 90.0 ;\n",
      "\t\tsp:GRIB_latitudeOfLastGridPointInDegrees = -90.0 ;\n",
      "\t\tsp:GRIB_longitudeOfFirstGridPointInDegrees = 0.0 ;\n",
      "\t\tsp:GRIB_longitudeOfLastGridPointInDegrees = 359.75 ;\n",
      "\t\tsp:GRIB_missingValue = 9999 ;\n",
      "\t\tsp:GRIB_name = Surface pressure ;\n",
      "\t\tsp:GRIB_shortName = sp ;\n",
      "\t\tsp:GRIB_totalNumber = 0 ;\n",
      "\t\tsp:GRIB_units = Pa ;\n",
      "\t\tsp:long_name = Surface pressure ;\n",
      "\t\tsp:units = Pa ;\n",
      "\t\tsp:standard_name = surface_air_pressure ;\n",
      "\tfloat32 msl(number, time, step, surface, latitude, longitude) ;\n",
      "\t\tmsl:GRIB_paramId = 151 ;\n",
      "\t\tmsl:GRIB_dataType = an ;\n",
      "\t\tmsl:GRIB_numberOfPoints = 1038240 ;\n",
      "\t\tmsl:GRIB_typeOfLevel = surface ;\n",
      "\t\tmsl:GRIB_stepUnits = 1 ;\n",
      "\t\tmsl:GRIB_stepType = instant ;\n",
      "\t\tmsl:GRIB_gridType = regular_ll ;\n",
      "\t\tmsl:GRIB_NV = 0 ;\n",
      "\t\tmsl:GRIB_Nx = 1440 ;\n",
      "\t\tmsl:GRIB_Ny = 721 ;\n",
      "\t\tmsl:GRIB_cfName = air_pressure_at_mean_sea_level ;\n",
      "\t\tmsl:GRIB_cfVarName = msl ;\n",
      "\t\tmsl:GRIB_gridDefinitionDescription = Latitude/Longitude Grid ;\n",
      "\t\tmsl:GRIB_iDirectionIncrementInDegrees = 0.25 ;\n",
      "\t\tmsl:GRIB_iScansNegatively = 0 ;\n",
      "\t\tmsl:GRIB_jDirectionIncrementInDegrees = 0.25 ;\n",
      "\t\tmsl:GRIB_jPointsAreConsecutive = 0 ;\n",
      "\t\tmsl:GRIB_jScansPositively = 0 ;\n",
      "\t\tmsl:GRIB_latitudeOfFirstGridPointInDegrees = 90.0 ;\n",
      "\t\tmsl:GRIB_latitudeOfLastGridPointInDegrees = -90.0 ;\n",
      "\t\tmsl:GRIB_longitudeOfFirstGridPointInDegrees = 0.0 ;\n",
      "\t\tmsl:GRIB_longitudeOfLastGridPointInDegrees = 359.75 ;\n",
      "\t\tmsl:GRIB_missingValue = 9999 ;\n",
      "\t\tmsl:GRIB_name = Mean sea level pressure ;\n",
      "\t\tmsl:GRIB_shortName = msl ;\n",
      "\t\tmsl:GRIB_totalNumber = 0 ;\n",
      "\t\tmsl:GRIB_units = Pa ;\n",
      "\t\tmsl:long_name = Mean sea level pressure ;\n",
      "\t\tmsl:units = Pa ;\n",
      "\t\tmsl:standard_name = air_pressure_at_mean_sea_level ;\n",
      "\tfloat32 tcwv(number, time, step, surface, latitude, longitude) ;\n",
      "\t\ttcwv:GRIB_paramId = 137 ;\n",
      "\t\ttcwv:GRIB_dataType = an ;\n",
      "\t\ttcwv:GRIB_numberOfPoints = 1038240 ;\n",
      "\t\ttcwv:GRIB_typeOfLevel = surface ;\n",
      "\t\ttcwv:GRIB_stepUnits = 1 ;\n",
      "\t\ttcwv:GRIB_stepType = instant ;\n",
      "\t\ttcwv:GRIB_gridType = regular_ll ;\n",
      "\t\ttcwv:GRIB_NV = 0 ;\n",
      "\t\ttcwv:GRIB_Nx = 1440 ;\n",
      "\t\ttcwv:GRIB_Ny = 721 ;\n",
      "\t\ttcwv:GRIB_cfName = lwe_thickness_of_atmosphere_mass_content_of_water_vapor ;\n",
      "\t\ttcwv:GRIB_cfVarName = tcwv ;\n",
      "\t\ttcwv:GRIB_gridDefinitionDescription = Latitude/Longitude Grid ;\n",
      "\t\ttcwv:GRIB_iDirectionIncrementInDegrees = 0.25 ;\n",
      "\t\ttcwv:GRIB_iScansNegatively = 0 ;\n",
      "\t\ttcwv:GRIB_jDirectionIncrementInDegrees = 0.25 ;\n",
      "\t\ttcwv:GRIB_jPointsAreConsecutive = 0 ;\n",
      "\t\ttcwv:GRIB_jScansPositively = 0 ;\n",
      "\t\ttcwv:GRIB_latitudeOfFirstGridPointInDegrees = 90.0 ;\n",
      "\t\ttcwv:GRIB_latitudeOfLastGridPointInDegrees = -90.0 ;\n",
      "\t\ttcwv:GRIB_longitudeOfFirstGridPointInDegrees = 0.0 ;\n",
      "\t\ttcwv:GRIB_longitudeOfLastGridPointInDegrees = 359.75 ;\n",
      "\t\ttcwv:GRIB_missingValue = 9999 ;\n",
      "\t\ttcwv:GRIB_name = Total column vertically-integrated water vapour ;\n",
      "\t\ttcwv:GRIB_shortName = tcwv ;\n",
      "\t\ttcwv:GRIB_totalNumber = 0 ;\n",
      "\t\ttcwv:GRIB_units = kg m**-2 ;\n",
      "\t\ttcwv:long_name = Total column vertically-integrated water vapour ;\n",
      "\t\ttcwv:units = kg m**-2 ;\n",
      "\t\ttcwv:standard_name = lwe_thickness_of_atmosphere_mass_content_of_water_vapor ;\n",
      "\tfloat32 u100(number, time, step, surface, latitude, longitude) ;\n",
      "\t\tu100:GRIB_paramId = 228246 ;\n",
      "\t\tu100:GRIB_dataType = an ;\n",
      "\t\tu100:GRIB_numberOfPoints = 1038240 ;\n",
      "\t\tu100:GRIB_typeOfLevel = surface ;\n",
      "\t\tu100:GRIB_stepUnits = 1 ;\n",
      "\t\tu100:GRIB_stepType = instant ;\n",
      "\t\tu100:GRIB_gridType = regular_ll ;\n",
      "\t\tu100:GRIB_NV = 0 ;\n",
      "\t\tu100:GRIB_Nx = 1440 ;\n",
      "\t\tu100:GRIB_Ny = 721 ;\n",
      "\t\tu100:GRIB_cfName = unknown ;\n",
      "\t\tu100:GRIB_cfVarName = u100 ;\n",
      "\t\tu100:GRIB_gridDefinitionDescription = Latitude/Longitude Grid ;\n",
      "\t\tu100:GRIB_iDirectionIncrementInDegrees = 0.25 ;\n",
      "\t\tu100:GRIB_iScansNegatively = 0 ;\n",
      "\t\tu100:GRIB_jDirectionIncrementInDegrees = 0.25 ;\n",
      "\t\tu100:GRIB_jPointsAreConsecutive = 0 ;\n",
      "\t\tu100:GRIB_jScansPositively = 0 ;\n",
      "\t\tu100:GRIB_latitudeOfFirstGridPointInDegrees = 90.0 ;\n",
      "\t\tu100:GRIB_latitudeOfLastGridPointInDegrees = -90.0 ;\n",
      "\t\tu100:GRIB_longitudeOfFirstGridPointInDegrees = 0.0 ;\n",
      "\t\tu100:GRIB_longitudeOfLastGridPointInDegrees = 359.75 ;\n",
      "\t\tu100:GRIB_missingValue = 9999 ;\n",
      "\t\tu100:GRIB_name = 100 metre U wind component ;\n",
      "\t\tu100:GRIB_shortName = 100u ;\n",
      "\t\tu100:GRIB_totalNumber = 0 ;\n",
      "\t\tu100:GRIB_units = m s**-1 ;\n",
      "\t\tu100:long_name = 100 metre U wind component ;\n",
      "\t\tu100:units = m s**-1 ;\n",
      "\t\tu100:standard_name = unknown ;\n",
      "\tfloat32 v100(number, time, step, surface, latitude, longitude) ;\n",
      "\t\tv100:GRIB_paramId = 228247 ;\n",
      "\t\tv100:GRIB_dataType = an ;\n",
      "\t\tv100:GRIB_numberOfPoints = 1038240 ;\n",
      "\t\tv100:GRIB_typeOfLevel = surface ;\n",
      "\t\tv100:GRIB_stepUnits = 1 ;\n",
      "\t\tv100:GRIB_stepType = instant ;\n",
      "\t\tv100:GRIB_gridType = regular_ll ;\n",
      "\t\tv100:GRIB_NV = 0 ;\n",
      "\t\tv100:GRIB_Nx = 1440 ;\n",
      "\t\tv100:GRIB_Ny = 721 ;\n",
      "\t\tv100:GRIB_cfName = unknown ;\n",
      "\t\tv100:GRIB_cfVarName = v100 ;\n",
      "\t\tv100:GRIB_gridDefinitionDescription = Latitude/Longitude Grid ;\n",
      "\t\tv100:GRIB_iDirectionIncrementInDegrees = 0.25 ;\n",
      "\t\tv100:GRIB_iScansNegatively = 0 ;\n",
      "\t\tv100:GRIB_jDirectionIncrementInDegrees = 0.25 ;\n",
      "\t\tv100:GRIB_jPointsAreConsecutive = 0 ;\n",
      "\t\tv100:GRIB_jScansPositively = 0 ;\n",
      "\t\tv100:GRIB_latitudeOfFirstGridPointInDegrees = 90.0 ;\n",
      "\t\tv100:GRIB_latitudeOfLastGridPointInDegrees = -90.0 ;\n",
      "\t\tv100:GRIB_longitudeOfFirstGridPointInDegrees = 0.0 ;\n",
      "\t\tv100:GRIB_longitudeOfLastGridPointInDegrees = 359.75 ;\n",
      "\t\tv100:GRIB_missingValue = 9999 ;\n",
      "\t\tv100:GRIB_name = 100 metre V wind component ;\n",
      "\t\tv100:GRIB_shortName = 100v ;\n",
      "\t\tv100:GRIB_totalNumber = 0 ;\n",
      "\t\tv100:GRIB_units = m s**-1 ;\n",
      "\t\tv100:long_name = 100 metre V wind component ;\n",
      "\t\tv100:units = m s**-1 ;\n",
      "\t\tv100:standard_name = unknown ;\n",
      "\tfloat64 isobaricInhPa(isobaricInhPa) ;\n",
      "\t\tisobaricInhPa:long_name = pressure ;\n",
      "\t\tisobaricInhPa:units = hPa ;\n",
      "\t\tisobaricInhPa:positive = down ;\n",
      "\t\tisobaricInhPa:stored_direction = decreasing ;\n",
      "\t\tisobaricInhPa:standard_name = air_pressure ;\n",
      "\tfloat32 t(number, time, step, isobaricInhPa, latitude, longitude) ;\n",
      "\t\tt:GRIB_paramId = 130 ;\n",
      "\t\tt:GRIB_dataType = an ;\n",
      "\t\tt:GRIB_numberOfPoints = 1038240 ;\n",
      "\t\tt:GRIB_typeOfLevel = isobaricInhPa ;\n",
      "\t\tt:GRIB_stepUnits = 1 ;\n",
      "\t\tt:GRIB_stepType = instant ;\n",
      "\t\tt:GRIB_gridType = regular_ll ;\n",
      "\t\tt:GRIB_NV = 0 ;\n",
      "\t\tt:GRIB_Nx = 1440 ;\n",
      "\t\tt:GRIB_Ny = 721 ;\n",
      "\t\tt:GRIB_cfName = air_temperature ;\n",
      "\t\tt:GRIB_cfVarName = t ;\n",
      "\t\tt:GRIB_gridDefinitionDescription = Latitude/Longitude Grid ;\n",
      "\t\tt:GRIB_iDirectionIncrementInDegrees = 0.25 ;\n",
      "\t\tt:GRIB_iScansNegatively = 0 ;\n",
      "\t\tt:GRIB_jDirectionIncrementInDegrees = 0.25 ;\n",
      "\t\tt:GRIB_jPointsAreConsecutive = 0 ;\n",
      "\t\tt:GRIB_jScansPositively = 0 ;\n",
      "\t\tt:GRIB_latitudeOfFirstGridPointInDegrees = 90.0 ;\n",
      "\t\tt:GRIB_latitudeOfLastGridPointInDegrees = -90.0 ;\n",
      "\t\tt:GRIB_longitudeOfFirstGridPointInDegrees = 0.0 ;\n",
      "\t\tt:GRIB_longitudeOfLastGridPointInDegrees = 359.75 ;\n",
      "\t\tt:GRIB_missingValue = 9999 ;\n",
      "\t\tt:GRIB_name = Temperature ;\n",
      "\t\tt:GRIB_shortName = t ;\n",
      "\t\tt:GRIB_totalNumber = 0 ;\n",
      "\t\tt:GRIB_units = K ;\n",
      "\t\tt:long_name = Temperature ;\n",
      "\t\tt:units = K ;\n",
      "\t\tt:standard_name = air_temperature ;\n",
      "\tfloat32 u(number, time, step, isobaricInhPa, latitude, longitude) ;\n",
      "\t\tu:GRIB_paramId = 131 ;\n",
      "\t\tu:GRIB_dataType = an ;\n",
      "\t\tu:GRIB_numberOfPoints = 1038240 ;\n",
      "\t\tu:GRIB_typeOfLevel = isobaricInhPa ;\n",
      "\t\tu:GRIB_stepUnits = 1 ;\n",
      "\t\tu:GRIB_stepType = instant ;\n",
      "\t\tu:GRIB_gridType = regular_ll ;\n",
      "\t\tu:GRIB_NV = 0 ;\n",
      "\t\tu:GRIB_Nx = 1440 ;\n",
      "\t\tu:GRIB_Ny = 721 ;\n",
      "\t\tu:GRIB_cfName = eastward_wind ;\n",
      "\t\tu:GRIB_cfVarName = u ;\n",
      "\t\tu:GRIB_gridDefinitionDescription = Latitude/Longitude Grid ;\n",
      "\t\tu:GRIB_iDirectionIncrementInDegrees = 0.25 ;\n",
      "\t\tu:GRIB_iScansNegatively = 0 ;\n",
      "\t\tu:GRIB_jDirectionIncrementInDegrees = 0.25 ;\n",
      "\t\tu:GRIB_jPointsAreConsecutive = 0 ;\n",
      "\t\tu:GRIB_jScansPositively = 0 ;\n",
      "\t\tu:GRIB_latitudeOfFirstGridPointInDegrees = 90.0 ;\n",
      "\t\tu:GRIB_latitudeOfLastGridPointInDegrees = -90.0 ;\n",
      "\t\tu:GRIB_longitudeOfFirstGridPointInDegrees = 0.0 ;\n",
      "\t\tu:GRIB_longitudeOfLastGridPointInDegrees = 359.75 ;\n",
      "\t\tu:GRIB_missingValue = 9999 ;\n",
      "\t\tu:GRIB_name = U component of wind ;\n",
      "\t\tu:GRIB_shortName = u ;\n",
      "\t\tu:GRIB_totalNumber = 0 ;\n",
      "\t\tu:GRIB_units = m s**-1 ;\n",
      "\t\tu:long_name = U component of wind ;\n",
      "\t\tu:units = m s**-1 ;\n",
      "\t\tu:standard_name = eastward_wind ;\n",
      "\tfloat32 v(number, time, step, isobaricInhPa, latitude, longitude) ;\n",
      "\t\tv:GRIB_paramId = 132 ;\n",
      "\t\tv:GRIB_dataType = an ;\n",
      "\t\tv:GRIB_numberOfPoints = 1038240 ;\n",
      "\t\tv:GRIB_typeOfLevel = isobaricInhPa ;\n",
      "\t\tv:GRIB_stepUnits = 1 ;\n",
      "\t\tv:GRIB_stepType = instant ;\n",
      "\t\tv:GRIB_gridType = regular_ll ;\n",
      "\t\tv:GRIB_NV = 0 ;\n",
      "\t\tv:GRIB_Nx = 1440 ;\n",
      "\t\tv:GRIB_Ny = 721 ;\n",
      "\t\tv:GRIB_cfName = northward_wind ;\n",
      "\t\tv:GRIB_cfVarName = v ;\n",
      "\t\tv:GRIB_gridDefinitionDescription = Latitude/Longitude Grid ;\n",
      "\t\tv:GRIB_iDirectionIncrementInDegrees = 0.25 ;\n",
      "\t\tv:GRIB_iScansNegatively = 0 ;\n",
      "\t\tv:GRIB_jDirectionIncrementInDegrees = 0.25 ;\n",
      "\t\tv:GRIB_jPointsAreConsecutive = 0 ;\n",
      "\t\tv:GRIB_jScansPositively = 0 ;\n",
      "\t\tv:GRIB_latitudeOfFirstGridPointInDegrees = 90.0 ;\n",
      "\t\tv:GRIB_latitudeOfLastGridPointInDegrees = -90.0 ;\n",
      "\t\tv:GRIB_longitudeOfFirstGridPointInDegrees = 0.0 ;\n",
      "\t\tv:GRIB_longitudeOfLastGridPointInDegrees = 359.75 ;\n",
      "\t\tv:GRIB_missingValue = 9999 ;\n",
      "\t\tv:GRIB_name = V component of wind ;\n",
      "\t\tv:GRIB_shortName = v ;\n",
      "\t\tv:GRIB_totalNumber = 0 ;\n",
      "\t\tv:GRIB_units = m s**-1 ;\n",
      "\t\tv:long_name = V component of wind ;\n",
      "\t\tv:units = m s**-1 ;\n",
      "\t\tv:standard_name = northward_wind ;\n",
      "\tfloat32 z(number, time, step, isobaricInhPa, latitude, longitude) ;\n",
      "\t\tz:GRIB_paramId = 129 ;\n",
      "\t\tz:GRIB_dataType = an ;\n",
      "\t\tz:GRIB_numberOfPoints = 1038240 ;\n",
      "\t\tz:GRIB_typeOfLevel = isobaricInhPa ;\n",
      "\t\tz:GRIB_stepUnits = 1 ;\n",
      "\t\tz:GRIB_stepType = instant ;\n",
      "\t\tz:GRIB_gridType = regular_ll ;\n",
      "\t\tz:GRIB_NV = 0 ;\n",
      "\t\tz:GRIB_Nx = 1440 ;\n",
      "\t\tz:GRIB_Ny = 721 ;\n",
      "\t\tz:GRIB_cfName = geopotential ;\n",
      "\t\tz:GRIB_cfVarName = z ;\n",
      "\t\tz:GRIB_gridDefinitionDescription = Latitude/Longitude Grid ;\n",
      "\t\tz:GRIB_iDirectionIncrementInDegrees = 0.25 ;\n",
      "\t\tz:GRIB_iScansNegatively = 0 ;\n",
      "\t\tz:GRIB_jDirectionIncrementInDegrees = 0.25 ;\n",
      "\t\tz:GRIB_jPointsAreConsecutive = 0 ;\n",
      "\t\tz:GRIB_jScansPositively = 0 ;\n",
      "\t\tz:GRIB_latitudeOfFirstGridPointInDegrees = 90.0 ;\n",
      "\t\tz:GRIB_latitudeOfLastGridPointInDegrees = -90.0 ;\n",
      "\t\tz:GRIB_longitudeOfFirstGridPointInDegrees = 0.0 ;\n",
      "\t\tz:GRIB_longitudeOfLastGridPointInDegrees = 359.75 ;\n",
      "\t\tz:GRIB_missingValue = 9999 ;\n",
      "\t\tz:GRIB_name = Geopotential ;\n",
      "\t\tz:GRIB_shortName = z ;\n",
      "\t\tz:GRIB_totalNumber = 0 ;\n",
      "\t\tz:GRIB_units = m**2 s**-2 ;\n",
      "\t\tz:long_name = Geopotential ;\n",
      "\t\tz:units = m**2 s**-2 ;\n",
      "\t\tz:standard_name = geopotential ;\n",
      "\tfloat32 r(number, time, step, isobaricInhPa, latitude, longitude) ;\n",
      "\t\tr:GRIB_paramId = 157 ;\n",
      "\t\tr:GRIB_dataType = an ;\n",
      "\t\tr:GRIB_numberOfPoints = 1038240 ;\n",
      "\t\tr:GRIB_typeOfLevel = isobaricInhPa ;\n",
      "\t\tr:GRIB_stepUnits = 1 ;\n",
      "\t\tr:GRIB_stepType = instant ;\n",
      "\t\tr:GRIB_gridType = regular_ll ;\n",
      "\t\tr:GRIB_NV = 0 ;\n",
      "\t\tr:GRIB_Nx = 1440 ;\n",
      "\t\tr:GRIB_Ny = 721 ;\n",
      "\t\tr:GRIB_cfName = relative_humidity ;\n",
      "\t\tr:GRIB_cfVarName = r ;\n",
      "\t\tr:GRIB_gridDefinitionDescription = Latitude/Longitude Grid ;\n",
      "\t\tr:GRIB_iDirectionIncrementInDegrees = 0.25 ;\n",
      "\t\tr:GRIB_iScansNegatively = 0 ;\n",
      "\t\tr:GRIB_jDirectionIncrementInDegrees = 0.25 ;\n",
      "\t\tr:GRIB_jPointsAreConsecutive = 0 ;\n",
      "\t\tr:GRIB_jScansPositively = 0 ;\n",
      "\t\tr:GRIB_latitudeOfFirstGridPointInDegrees = 90.0 ;\n",
      "\t\tr:GRIB_latitudeOfLastGridPointInDegrees = -90.0 ;\n",
      "\t\tr:GRIB_longitudeOfFirstGridPointInDegrees = 0.0 ;\n",
      "\t\tr:GRIB_longitudeOfLastGridPointInDegrees = 359.75 ;\n",
      "\t\tr:GRIB_missingValue = 9999 ;\n",
      "\t\tr:GRIB_name = Relative humidity ;\n",
      "\t\tr:GRIB_shortName = r ;\n",
      "\t\tr:GRIB_totalNumber = 0 ;\n",
      "\t\tr:GRIB_units = % ;\n",
      "\t\tr:long_name = Relative humidity ;\n",
      "\t\tr:units = % ;\n",
      "\t\tr:standard_name = relative_humidity ;\n",
      "\n",
      "// global attributes:\n",
      "\t:GRIB_edition = 1 ;\n",
      "\t:GRIB_centre = ecmf ;\n",
      "\t:GRIB_centreDescription = European Centre for Medium-Range Weather Forecasts ;\n",
      "\t:GRIB_subCentre = 0 ;\n",
      "\t:Conventions = CF-1.7 ;\n",
      "\t:institution = European Centre for Medium-Range Weather Forecasts ;\n",
      "\t:history = 2024-01-14T03:25 GRIB to CDM+CF via cfgrib-0.9.10.4/ecCodes-2.32.0 with {\"source\": \"N/A\", \"filter_by_keys\": {}, \"encode_cf\": [\"parameter\", \"time\", \"geography\", \"vertical\"]} ;\n",
      "}"
     ]
    }
   ],
   "source": [
    "tnc.info()"
   ]
  },
  {
   "cell_type": "code",
   "execution_count": 8,
   "metadata": {},
   "outputs": [
    {
     "ename": "ValueError",
     "evalue": "replacement data must match the Variable's shape. replacement data has shape (73, 721, 1440); Variable has shape (1, 1, 1, 1, 721, 1440)",
     "output_type": "error",
     "traceback": [
      "\u001b[0;31m---------------------------------------------------------------------------\u001b[0m",
      "\u001b[0;31mValueError\u001b[0m                                Traceback (most recent call last)",
      "Cell \u001b[0;32mIn[8], line 1\u001b[0m\n\u001b[0;32m----> 1\u001b[0m \u001b[43mtnc\u001b[49m\u001b[43m[\u001b[49m\u001b[38;5;124;43m\"\u001b[39;49m\u001b[38;5;124;43mu10\u001b[39;49m\u001b[38;5;124;43m\"\u001b[39;49m\u001b[43m]\u001b[49m\u001b[38;5;241;43m.\u001b[39;49m\u001b[43mvalues\u001b[49m \u001b[38;5;241m=\u001b[39m np\u001b[38;5;241m.\u001b[39mzeros((\u001b[38;5;241m73\u001b[39m,\u001b[38;5;241m721\u001b[39m,\u001b[38;5;241m1440\u001b[39m))\n",
      "File \u001b[0;32m~/miniconda3/envs/model/lib/python3.11/site-packages/xarray/core/common.py:306\u001b[0m, in \u001b[0;36mAttrAccessMixin.__setattr__\u001b[0;34m(self, name, value)\u001b[0m\n\u001b[1;32m    301\u001b[0m \u001b[38;5;250m\u001b[39m\u001b[38;5;124;03m\"\"\"Objects with ``__slots__`` raise AttributeError if you try setting an\u001b[39;00m\n\u001b[1;32m    302\u001b[0m \u001b[38;5;124;03mundeclared attribute. This is desirable, but the error message could use some\u001b[39;00m\n\u001b[1;32m    303\u001b[0m \u001b[38;5;124;03mimprovement.\u001b[39;00m\n\u001b[1;32m    304\u001b[0m \u001b[38;5;124;03m\"\"\"\u001b[39;00m\n\u001b[1;32m    305\u001b[0m \u001b[38;5;28;01mtry\u001b[39;00m:\n\u001b[0;32m--> 306\u001b[0m     \u001b[38;5;28;43mobject\u001b[39;49m\u001b[38;5;241;43m.\u001b[39;49m\u001b[38;5;21;43m__setattr__\u001b[39;49m\u001b[43m(\u001b[49m\u001b[38;5;28;43mself\u001b[39;49m\u001b[43m,\u001b[49m\u001b[43m \u001b[49m\u001b[43mname\u001b[49m\u001b[43m,\u001b[49m\u001b[43m \u001b[49m\u001b[43mvalue\u001b[49m\u001b[43m)\u001b[49m\n\u001b[1;32m    307\u001b[0m \u001b[38;5;28;01mexcept\u001b[39;00m \u001b[38;5;167;01mAttributeError\u001b[39;00m \u001b[38;5;28;01mas\u001b[39;00m e:\n\u001b[1;32m    308\u001b[0m     \u001b[38;5;66;03m# Don't accidentally shadow custom AttributeErrors, e.g.\u001b[39;00m\n\u001b[1;32m    309\u001b[0m     \u001b[38;5;66;03m# DataArray.dims.setter\u001b[39;00m\n\u001b[1;32m    310\u001b[0m     \u001b[38;5;28;01mif\u001b[39;00m \u001b[38;5;28mstr\u001b[39m(e) \u001b[38;5;241m!=\u001b[39m \u001b[38;5;124mf\u001b[39m\u001b[38;5;124m\"\u001b[39m\u001b[38;5;132;01m{\u001b[39;00m\u001b[38;5;28mtype\u001b[39m(\u001b[38;5;28mself\u001b[39m)\u001b[38;5;241m.\u001b[39m\u001b[38;5;18m__name__\u001b[39m\u001b[38;5;132;01m!r}\u001b[39;00m\u001b[38;5;124m object has no attribute \u001b[39m\u001b[38;5;132;01m{\u001b[39;00mname\u001b[38;5;132;01m!r}\u001b[39;00m\u001b[38;5;124m\"\u001b[39m:\n",
      "File \u001b[0;32m~/miniconda3/envs/model/lib/python3.11/site-packages/xarray/core/dataarray.py:775\u001b[0m, in \u001b[0;36mDataArray.values\u001b[0;34m(self, value)\u001b[0m\n\u001b[1;32m    773\u001b[0m \u001b[38;5;129m@values\u001b[39m\u001b[38;5;241m.\u001b[39msetter\n\u001b[1;32m    774\u001b[0m \u001b[38;5;28;01mdef\u001b[39;00m \u001b[38;5;21mvalues\u001b[39m(\u001b[38;5;28mself\u001b[39m, value: Any) \u001b[38;5;241m-\u001b[39m\u001b[38;5;241m>\u001b[39m \u001b[38;5;28;01mNone\u001b[39;00m:\n\u001b[0;32m--> 775\u001b[0m     \u001b[38;5;28;43mself\u001b[39;49m\u001b[38;5;241;43m.\u001b[39;49m\u001b[43mvariable\u001b[49m\u001b[38;5;241;43m.\u001b[39;49m\u001b[43mvalues\u001b[49m \u001b[38;5;241m=\u001b[39m value\n",
      "File \u001b[0;32m~/miniconda3/envs/model/lib/python3.11/site-packages/xarray/core/variable.py:560\u001b[0m, in \u001b[0;36mVariable.values\u001b[0;34m(self, values)\u001b[0m\n\u001b[1;32m    558\u001b[0m \u001b[38;5;129m@values\u001b[39m\u001b[38;5;241m.\u001b[39msetter\n\u001b[1;32m    559\u001b[0m \u001b[38;5;28;01mdef\u001b[39;00m \u001b[38;5;21mvalues\u001b[39m(\u001b[38;5;28mself\u001b[39m, values):\n\u001b[0;32m--> 560\u001b[0m     \u001b[38;5;28;43mself\u001b[39;49m\u001b[38;5;241;43m.\u001b[39;49m\u001b[43mdata\u001b[49m \u001b[38;5;241m=\u001b[39m values\n",
      "File \u001b[0;32m~/miniconda3/envs/model/lib/python3.11/site-packages/xarray/core/variable.py:423\u001b[0m, in \u001b[0;36mVariable.data\u001b[0;34m(self, data)\u001b[0m\n\u001b[1;32m    420\u001b[0m \u001b[38;5;129m@data\u001b[39m\u001b[38;5;241m.\u001b[39msetter\n\u001b[1;32m    421\u001b[0m \u001b[38;5;28;01mdef\u001b[39;00m \u001b[38;5;21mdata\u001b[39m(\u001b[38;5;28mself\u001b[39m, data: T_DuckArray \u001b[38;5;241m|\u001b[39m ArrayLike) \u001b[38;5;241m-\u001b[39m\u001b[38;5;241m>\u001b[39m \u001b[38;5;28;01mNone\u001b[39;00m:\n\u001b[1;32m    422\u001b[0m     data \u001b[38;5;241m=\u001b[39m as_compatible_data(data)\n\u001b[0;32m--> 423\u001b[0m     \u001b[38;5;28;43mself\u001b[39;49m\u001b[38;5;241;43m.\u001b[39;49m\u001b[43m_check_shape\u001b[49m\u001b[43m(\u001b[49m\u001b[43mdata\u001b[49m\u001b[43m)\u001b[49m\n\u001b[1;32m    424\u001b[0m     \u001b[38;5;28mself\u001b[39m\u001b[38;5;241m.\u001b[39m_data \u001b[38;5;241m=\u001b[39m data\n",
      "File \u001b[0;32m~/miniconda3/envs/model/lib/python3.11/site-packages/xarray/namedarray/core.py:499\u001b[0m, in \u001b[0;36mNamedArray._check_shape\u001b[0;34m(self, new_data)\u001b[0m\n\u001b[1;32m    497\u001b[0m \u001b[38;5;28;01mdef\u001b[39;00m \u001b[38;5;21m_check_shape\u001b[39m(\u001b[38;5;28mself\u001b[39m, new_data: duckarray[Any, _DType_co]) \u001b[38;5;241m-\u001b[39m\u001b[38;5;241m>\u001b[39m \u001b[38;5;28;01mNone\u001b[39;00m:\n\u001b[1;32m    498\u001b[0m     \u001b[38;5;28;01mif\u001b[39;00m new_data\u001b[38;5;241m.\u001b[39mshape \u001b[38;5;241m!=\u001b[39m \u001b[38;5;28mself\u001b[39m\u001b[38;5;241m.\u001b[39mshape:\n\u001b[0;32m--> 499\u001b[0m         \u001b[38;5;28;01mraise\u001b[39;00m \u001b[38;5;167;01mValueError\u001b[39;00m(\n\u001b[1;32m    500\u001b[0m             \u001b[38;5;124mf\u001b[39m\u001b[38;5;124m\"\u001b[39m\u001b[38;5;124mreplacement data must match the \u001b[39m\u001b[38;5;132;01m{\u001b[39;00m\u001b[38;5;28mself\u001b[39m\u001b[38;5;241m.\u001b[39m\u001b[38;5;18m__class__\u001b[39m\u001b[38;5;241m.\u001b[39m\u001b[38;5;18m__name__\u001b[39m\u001b[38;5;132;01m}\u001b[39;00m\u001b[38;5;124m'\u001b[39m\u001b[38;5;124ms shape. \u001b[39m\u001b[38;5;124m\"\u001b[39m\n\u001b[1;32m    501\u001b[0m             \u001b[38;5;124mf\u001b[39m\u001b[38;5;124m\"\u001b[39m\u001b[38;5;124mreplacement data has shape \u001b[39m\u001b[38;5;132;01m{\u001b[39;00mnew_data\u001b[38;5;241m.\u001b[39mshape\u001b[38;5;132;01m}\u001b[39;00m\u001b[38;5;124m; \u001b[39m\u001b[38;5;132;01m{\u001b[39;00m\u001b[38;5;28mself\u001b[39m\u001b[38;5;241m.\u001b[39m\u001b[38;5;18m__class__\u001b[39m\u001b[38;5;241m.\u001b[39m\u001b[38;5;18m__name__\u001b[39m\u001b[38;5;132;01m}\u001b[39;00m\u001b[38;5;124m has shape \u001b[39m\u001b[38;5;132;01m{\u001b[39;00m\u001b[38;5;28mself\u001b[39m\u001b[38;5;241m.\u001b[39mshape\u001b[38;5;132;01m}\u001b[39;00m\u001b[38;5;124m\"\u001b[39m\n\u001b[1;32m    502\u001b[0m         )\n",
      "\u001b[0;31mValueError\u001b[0m: replacement data must match the Variable's shape. replacement data has shape (73, 721, 1440); Variable has shape (1, 1, 1, 1, 721, 1440)"
     ]
    }
   ],
   "source": [
    "tnc[\"u10\"].values = np.zeros((73,721,1440))"
   ]
  },
  {
   "cell_type": "code",
   "execution_count": 13,
   "metadata": {},
   "outputs": [
    {
     "data": {
      "text/plain": [
       "6"
      ]
     },
     "execution_count": 13,
     "metadata": {},
     "output_type": "execute_result"
    }
   ],
   "source": [
    "len(tnc[\"u10\"].values.shape)"
   ]
  },
  {
   "cell_type": "code",
   "execution_count": 22,
   "metadata": {},
   "outputs": [
    {
     "data": {
      "text/plain": [
       "(1, 1, 1, 1, 721, 1440)"
      ]
     },
     "execution_count": 22,
     "metadata": {},
     "output_type": "execute_result"
    }
   ],
   "source": [
    "tnc[\"u10\"].values.shape\n"
   ]
  },
  {
   "cell_type": "code",
   "execution_count": 19,
   "metadata": {},
   "outputs": [
    {
     "data": {
      "text/plain": [
       "(0, 1, 2, 3)"
      ]
     },
     "execution_count": 19,
     "metadata": {},
     "output_type": "execute_result"
    }
   ],
   "source": [
    "tuple(range(4))"
   ]
  },
  {
   "cell_type": "code",
   "execution_count": 21,
   "metadata": {},
   "outputs": [
    {
     "data": {
      "text/plain": [
       "4"
      ]
     },
     "execution_count": 21,
     "metadata": {},
     "output_type": "execute_result"
    }
   ],
   "source": [
    "len(tnc[\"u10\"].shape) - 2"
   ]
  },
  {
   "cell_type": "code",
   "execution_count": 14,
   "metadata": {},
   "outputs": [
    {
     "data": {
      "text/plain": [
       "(1, 1, 1, 13, 721, 1440)"
      ]
     },
     "execution_count": 14,
     "metadata": {},
     "output_type": "execute_result"
    }
   ],
   "source": [
    "tnc[\"u\"].values.shape"
   ]
  },
  {
   "cell_type": "code",
   "execution_count": 12,
   "metadata": {},
   "outputs": [
    {
     "data": {
      "text/plain": [
       "Coordinates:\n",
       "  * number      (number) int64 0\n",
       "  * time        (time) datetime64[ns] 2021-01-01\n",
       "  * step        (step) timedelta64[ns] 00:00:00\n",
       "  * surface     (surface) float64 0.0\n",
       "  * latitude    (latitude) float64 90.0 89.75 89.5 89.25 ... -89.5 -89.75 -90.0\n",
       "  * longitude   (longitude) float64 0.0 0.25 0.5 0.75 ... 359.2 359.5 359.8\n",
       "    valid_time  (time, step) datetime64[ns] ..."
      ]
     },
     "execution_count": 12,
     "metadata": {},
     "output_type": "execute_result"
    }
   ],
   "source": [
    "tnc[\"u10\"].coords"
   ]
  },
  {
   "cell_type": "code",
   "execution_count": null,
   "metadata": {},
   "outputs": [],
   "source": [
    "tnc[\"u\"].sel(.values.shape"
   ]
  },
  {
   "cell_type": "code",
   "execution_count": 10,
   "metadata": {},
   "outputs": [],
   "source": [
    "output = np.zeros((73,721,1440))"
   ]
  },
  {
   "cell_type": "code",
   "execution_count": 11,
   "metadata": {},
   "outputs": [],
   "source": [
    "tnc = output"
   ]
  },
  {
   "cell_type": "code",
   "execution_count": 12,
   "metadata": {},
   "outputs": [
    {
     "data": {
      "text/plain": [
       "array([[[0., 0., 0., ..., 0., 0., 0.],\n",
       "        [0., 0., 0., ..., 0., 0., 0.],\n",
       "        [0., 0., 0., ..., 0., 0., 0.],\n",
       "        ...,\n",
       "        [0., 0., 0., ..., 0., 0., 0.],\n",
       "        [0., 0., 0., ..., 0., 0., 0.],\n",
       "        [0., 0., 0., ..., 0., 0., 0.]],\n",
       "\n",
       "       [[0., 0., 0., ..., 0., 0., 0.],\n",
       "        [0., 0., 0., ..., 0., 0., 0.],\n",
       "        [0., 0., 0., ..., 0., 0., 0.],\n",
       "        ...,\n",
       "        [0., 0., 0., ..., 0., 0., 0.],\n",
       "        [0., 0., 0., ..., 0., 0., 0.],\n",
       "        [0., 0., 0., ..., 0., 0., 0.]],\n",
       "\n",
       "       [[0., 0., 0., ..., 0., 0., 0.],\n",
       "        [0., 0., 0., ..., 0., 0., 0.],\n",
       "        [0., 0., 0., ..., 0., 0., 0.],\n",
       "        ...,\n",
       "        [0., 0., 0., ..., 0., 0., 0.],\n",
       "        [0., 0., 0., ..., 0., 0., 0.],\n",
       "        [0., 0., 0., ..., 0., 0., 0.]],\n",
       "\n",
       "       ...,\n",
       "\n",
       "       [[0., 0., 0., ..., 0., 0., 0.],\n",
       "        [0., 0., 0., ..., 0., 0., 0.],\n",
       "        [0., 0., 0., ..., 0., 0., 0.],\n",
       "        ...,\n",
       "        [0., 0., 0., ..., 0., 0., 0.],\n",
       "        [0., 0., 0., ..., 0., 0., 0.],\n",
       "        [0., 0., 0., ..., 0., 0., 0.]],\n",
       "\n",
       "       [[0., 0., 0., ..., 0., 0., 0.],\n",
       "        [0., 0., 0., ..., 0., 0., 0.],\n",
       "        [0., 0., 0., ..., 0., 0., 0.],\n",
       "        ...,\n",
       "        [0., 0., 0., ..., 0., 0., 0.],\n",
       "        [0., 0., 0., ..., 0., 0., 0.],\n",
       "        [0., 0., 0., ..., 0., 0., 0.]],\n",
       "\n",
       "       [[0., 0., 0., ..., 0., 0., 0.],\n",
       "        [0., 0., 0., ..., 0., 0., 0.],\n",
       "        [0., 0., 0., ..., 0., 0., 0.],\n",
       "        ...,\n",
       "        [0., 0., 0., ..., 0., 0., 0.],\n",
       "        [0., 0., 0., ..., 0., 0., 0.],\n",
       "        [0., 0., 0., ..., 0., 0., 0.]]])"
      ]
     },
     "execution_count": 12,
     "metadata": {},
     "output_type": "execute_result"
    }
   ],
   "source": [
    "tnc"
   ]
  },
  {
   "cell_type": "code",
   "execution_count": 10,
   "metadata": {},
   "outputs": [
    {
     "data": {
      "text/plain": [
       "(1, 1, 1, 721, 1440)"
      ]
     },
     "execution_count": 10,
     "metadata": {},
     "output_type": "execute_result"
    }
   ],
   "source": [
    "tnc[\"u\"].sel(isobaricInhPa=850).shape"
   ]
  },
  {
   "cell_type": "code",
   "execution_count": 11,
   "metadata": {},
   "outputs": [
    {
     "data": {
      "text/plain": [
       "(1, 1, 1, 13, 721, 1440)"
      ]
     },
     "execution_count": 11,
     "metadata": {},
     "output_type": "execute_result"
    }
   ],
   "source": [
    "tnc[\"u\"].shape"
   ]
  },
  {
   "cell_type": "code",
   "execution_count": 15,
   "metadata": {},
   "outputs": [
    {
     "name": "stdout",
     "output_type": "stream",
     "text": [
      "u10\n",
      "v10\n",
      "t2m\n",
      "sp\n",
      "msl\n",
      "tcwv\n",
      "u100\n",
      "v100\n",
      "t\n",
      "u\n",
      "v\n",
      "z\n",
      "r\n"
     ]
    }
   ],
   "source": [
    "for var in tnc:\n",
    "    print(var)"
   ]
  },
  {
   "cell_type": "code",
   "execution_count": 25,
   "metadata": {},
   "outputs": [
    {
     "data": {
      "text/plain": [
       "{'north': 90.0,\n",
       " 'south': -90.0,\n",
       " 'west': 0.0,\n",
       " 'east': 359.75,\n",
       " 'south_north_increment': 0.25,\n",
       " 'west_east_increment': 0.25,\n",
       " 'shortName': 't',\n",
       " 'units': 'K',\n",
       " 'paramId': '130',\n",
       " 'level': '1000',\n",
       " 'typeOfLevel': 'isobaricInhPa',\n",
       " 'marsClass': 'ea',\n",
       " 'marsStream': 'oper',\n",
       " 'marsType': 'an',\n",
       " 'number': '0',\n",
       " 'stepRange': '0',\n",
       " 'param': '130.128',\n",
       " 'levelist': '1000',\n",
       " 'shape': (721, 1440)}"
      ]
     },
     "execution_count": 25,
     "metadata": {},
     "output_type": "execute_result"
    }
   ],
   "source": [
    "template[8].field_metadata()"
   ]
  },
  {
   "cell_type": "code",
   "execution_count": null,
   "metadata": {},
   "outputs": [],
   "source": []
  }
 ],
 "metadata": {
  "kernelspec": {
   "display_name": "Python 3 (ipykernel)",
   "language": "python",
   "name": "python3"
  },
  "language_info": {
   "codemirror_mode": {
    "name": "ipython",
    "version": 3
   },
   "file_extension": ".py",
   "mimetype": "text/x-python",
   "name": "python",
   "nbconvert_exporter": "python",
   "pygments_lexer": "ipython3",
   "version": "3.11.6"
  }
 },
 "nbformat": 4,
 "nbformat_minor": 4
}
