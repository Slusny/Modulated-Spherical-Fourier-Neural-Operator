{
 "cells": [
  {
   "cell_type": "code",
   "execution_count": 1,
   "metadata": {},
   "outputs": [
    {
     "name": "stderr",
     "output_type": "stream",
     "text": [
      "/home/lenny/miniconda3/envs/model/lib/python3.11/site-packages/tqdm/auto.py:21: TqdmWarning: IProgress not found. Please update jupyter and ipywidgets. See https://ipywidgets.readthedocs.io/en/stable/user_install.html\n",
      "  from .autonotebook import tqdm as notebook_tqdm\n"
     ]
    }
   ],
   "source": [
    "import xarray as xr\n",
    "import climetlab as cml\n",
    "import numpy as np"
   ]
  },
  {
   "cell_type": "code",
   "execution_count": 2,
   "metadata": {},
   "outputs": [],
   "source": [
    "template = cml.load_source(\"file\", \"/mnt/ssd2/Master/S2S_on_SFNO/inputs/ClimateInputData_202101010.grib\")"
   ]
  },
  {
   "cell_type": "code",
   "execution_count": 4,
   "metadata": {},
   "outputs": [
    {
     "name": "stdout",
     "output_type": "stream",
     "text": [
      "k:  0 , fs:  GribField(10u,None,20210101,0,0,0)\n",
      "k:  1 , fs:  GribField(10v,None,20210101,0,0,0)\n",
      "k:  2 , fs:  GribField(2t,None,20210101,0,0,0)\n",
      "k:  3 , fs:  GribField(sp,None,20210101,0,0,0)\n",
      "k:  4 , fs:  GribField(msl,None,20210101,0,0,0)\n",
      "k:  5 , fs:  GribField(tcwv,None,20210101,0,0,0)\n",
      "k:  6 , fs:  GribField(100u,None,20210101,0,0,0)\n",
      "k:  7 , fs:  GribField(100v,None,20210101,0,0,0)\n",
      "k:  8 , fs:  GribField(t,1000,20210101,0,0,0)\n",
      "k:  9 , fs:  GribField(u,1000,20210101,0,0,0)\n",
      "k:  10 , fs:  GribField(v,1000,20210101,0,0,0)\n",
      "k:  11 , fs:  GribField(z,1000,20210101,0,0,0)\n",
      "k:  12 , fs:  GribField(r,1000,20210101,0,0,0)\n",
      "k:  13 , fs:  GribField(t,925,20210101,0,0,0)\n",
      "k:  14 , fs:  GribField(u,925,20210101,0,0,0)\n",
      "k:  15 , fs:  GribField(v,925,20210101,0,0,0)\n",
      "k:  16 , fs:  GribField(z,925,20210101,0,0,0)\n",
      "k:  17 , fs:  GribField(r,925,20210101,0,0,0)\n",
      "k:  18 , fs:  GribField(t,850,20210101,0,0,0)\n",
      "k:  19 , fs:  GribField(u,850,20210101,0,0,0)\n",
      "k:  20 , fs:  GribField(v,850,20210101,0,0,0)\n",
      "k:  21 , fs:  GribField(z,850,20210101,0,0,0)\n",
      "k:  22 , fs:  GribField(r,850,20210101,0,0,0)\n",
      "k:  23 , fs:  GribField(t,700,20210101,0,0,0)\n",
      "k:  24 , fs:  GribField(u,700,20210101,0,0,0)\n",
      "k:  25 , fs:  GribField(v,700,20210101,0,0,0)\n",
      "k:  26 , fs:  GribField(z,700,20210101,0,0,0)\n",
      "k:  27 , fs:  GribField(r,700,20210101,0,0,0)\n",
      "k:  28 , fs:  GribField(t,600,20210101,0,0,0)\n",
      "k:  29 , fs:  GribField(u,600,20210101,0,0,0)\n",
      "k:  30 , fs:  GribField(v,600,20210101,0,0,0)\n",
      "k:  31 , fs:  GribField(z,600,20210101,0,0,0)\n",
      "k:  32 , fs:  GribField(r,600,20210101,0,0,0)\n",
      "k:  33 , fs:  GribField(t,500,20210101,0,0,0)\n",
      "k:  34 , fs:  GribField(u,500,20210101,0,0,0)\n",
      "k:  35 , fs:  GribField(v,500,20210101,0,0,0)\n",
      "k:  36 , fs:  GribField(z,500,20210101,0,0,0)\n",
      "k:  37 , fs:  GribField(r,500,20210101,0,0,0)\n",
      "k:  38 , fs:  GribField(t,400,20210101,0,0,0)\n",
      "k:  39 , fs:  GribField(u,400,20210101,0,0,0)\n",
      "k:  40 , fs:  GribField(v,400,20210101,0,0,0)\n",
      "k:  41 , fs:  GribField(z,400,20210101,0,0,0)\n",
      "k:  42 , fs:  GribField(r,400,20210101,0,0,0)\n",
      "k:  43 , fs:  GribField(t,300,20210101,0,0,0)\n",
      "k:  44 , fs:  GribField(u,300,20210101,0,0,0)\n",
      "k:  45 , fs:  GribField(v,300,20210101,0,0,0)\n",
      "k:  46 , fs:  GribField(z,300,20210101,0,0,0)\n",
      "k:  47 , fs:  GribField(r,300,20210101,0,0,0)\n",
      "k:  48 , fs:  GribField(t,250,20210101,0,0,0)\n",
      "k:  49 , fs:  GribField(u,250,20210101,0,0,0)\n",
      "k:  50 , fs:  GribField(v,250,20210101,0,0,0)\n",
      "k:  51 , fs:  GribField(z,250,20210101,0,0,0)\n",
      "k:  52 , fs:  GribField(r,250,20210101,0,0,0)\n",
      "k:  53 , fs:  GribField(t,200,20210101,0,0,0)\n",
      "k:  54 , fs:  GribField(u,200,20210101,0,0,0)\n",
      "k:  55 , fs:  GribField(v,200,20210101,0,0,0)\n",
      "k:  56 , fs:  GribField(z,200,20210101,0,0,0)\n",
      "k:  57 , fs:  GribField(r,200,20210101,0,0,0)\n",
      "k:  58 , fs:  GribField(t,150,20210101,0,0,0)\n",
      "k:  59 , fs:  GribField(u,150,20210101,0,0,0)\n",
      "k:  60 , fs:  GribField(v,150,20210101,0,0,0)\n",
      "k:  61 , fs:  GribField(z,150,20210101,0,0,0)\n",
      "k:  62 , fs:  GribField(r,150,20210101,0,0,0)\n",
      "k:  63 , fs:  GribField(t,100,20210101,0,0,0)\n",
      "k:  64 , fs:  GribField(u,100,20210101,0,0,0)\n",
      "k:  65 , fs:  GribField(v,100,20210101,0,0,0)\n",
      "k:  66 , fs:  GribField(z,100,20210101,0,0,0)\n",
      "k:  67 , fs:  GribField(r,100,20210101,0,0,0)\n",
      "k:  68 , fs:  GribField(t,50,20210101,0,0,0)\n",
      "k:  69 , fs:  GribField(u,50,20210101,0,0,0)\n",
      "k:  70 , fs:  GribField(v,50,20210101,0,0,0)\n",
      "k:  71 , fs:  GribField(z,50,20210101,0,0,0)\n",
      "k:  72 , fs:  GribField(r,50,20210101,0,0,0)\n"
     ]
    }
   ],
   "source": [
    "for k, fs in enumerate(template):\n",
    "    print(\"k: \", k,\", fs: \", fs)"
   ]
  },
  {
   "cell_type": "code",
   "execution_count": 3,
   "metadata": {},
   "outputs": [],
   "source": [
    "tnc = template.to_xarray()"
   ]
  },
  {
   "cell_type": "code",
   "execution_count": 4,
   "metadata": {},
   "outputs": [
    {
     "data": {
      "text/plain": [
       "Frozen({'number': 1, 'time': 1, 'step': 1, 'surface': 1, 'latitude': 721, 'longitude': 1440, 'isobaricInhPa': 13})"
      ]
     },
     "execution_count": 4,
     "metadata": {},
     "output_type": "execute_result"
    }
   ],
   "source": [
    "tnc.dims"
   ]
  },
  {
   "cell_type": "code",
   "execution_count": 6,
   "metadata": {},
   "outputs": [
    {
     "data": {
      "text/plain": [
       "Coordinates:\n",
       "  * number         (number) int64 0\n",
       "  * time           (time) datetime64[ns] 2021-01-01\n",
       "  * step           (step) timedelta64[ns] 00:00:00\n",
       "  * surface        (surface) float64 0.0\n",
       "  * latitude       (latitude) float64 90.0 89.75 89.5 ... -89.5 -89.75 -90.0\n",
       "  * longitude      (longitude) float64 0.0 0.25 0.5 0.75 ... 359.2 359.5 359.8\n",
       "    valid_time     (time, step) datetime64[ns] ...\n",
       "  * isobaricInhPa  (isobaricInhPa) float64 1e+03 925.0 850.0 ... 100.0 50.0"
      ]
     },
     "execution_count": 6,
     "metadata": {},
     "output_type": "execute_result"
    }
   ],
   "source": [
    "tnc.coords"
   ]
  },
  {
   "cell_type": "code",
   "execution_count": 4,
   "metadata": {},
   "outputs": [
    {
     "name": "stdout",
     "output_type": "stream",
     "text": [
      "xarray.Dataset {\n",
      "dimensions:\n",
      "\tnumber = 1 ;\n",
      "\ttime = 1 ;\n",
      "\tstep = 1 ;\n",
      "\tsurface = 1 ;\n",
      "\tlatitude = 721 ;\n",
      "\tlongitude = 1440 ;\n",
      "\tisobaricInhPa = 13 ;\n",
      "\n",
      "variables:\n",
      "\tint64 number(number) ;\n",
      "\t\tnumber:long_name = ensemble member numerical id ;\n",
      "\t\tnumber:units = 1 ;\n",
      "\t\tnumber:standard_name = realization ;\n",
      "\tdatetime64[ns] time(time) ;\n",
      "\t\ttime:long_name = initial time of forecast ;\n",
      "\t\ttime:standard_name = forecast_reference_time ;\n",
      "\ttimedelta64[ns] step(step) ;\n",
      "\t\tstep:long_name = time since forecast_reference_time ;\n",
      "\t\tstep:standard_name = forecast_period ;\n",
      "\tfloat64 surface(surface) ;\n",
      "\t\tsurface:long_name = original GRIB coordinate for key: level(surface) ;\n",
      "\t\tsurface:units = 1 ;\n",
      "\tfloat64 latitude(latitude) ;\n",
      "\t\tlatitude:units = degrees_north ;\n",
      "\t\tlatitude:standard_name = latitude ;\n",
      "\t\tlatitude:long_name = latitude ;\n",
      "\t\tlatitude:stored_direction = decreasing ;\n",
      "\tfloat64 longitude(longitude) ;\n",
      "\t\tlongitude:units = degrees_east ;\n",
      "\t\tlongitude:standard_name = longitude ;\n",
      "\t\tlongitude:long_name = longitude ;\n",
      "\tdatetime64[ns] valid_time(time, step) ;\n",
      "\t\tvalid_time:standard_name = time ;\n",
      "\t\tvalid_time:long_name = time ;\n",
      "\tfloat32 u10(number, time, step, surface, latitude, longitude) ;\n",
      "\t\tu10:GRIB_paramId = 165 ;\n",
      "\t\tu10:GRIB_dataType = an ;\n",
      "\t\tu10:GRIB_numberOfPoints = 1038240 ;\n",
      "\t\tu10:GRIB_typeOfLevel = surface ;\n",
      "\t\tu10:GRIB_stepUnits = 1 ;\n",
      "\t\tu10:GRIB_stepType = instant ;\n",
      "\t\tu10:GRIB_gridType = regular_ll ;\n",
      "\t\tu10:GRIB_NV = 0 ;\n",
      "\t\tu10:GRIB_Nx = 1440 ;\n",
      "\t\tu10:GRIB_Ny = 721 ;\n",
      "\t\tu10:GRIB_cfName = unknown ;\n",
      "\t\tu10:GRIB_cfVarName = u10 ;\n",
      "\t\tu10:GRIB_gridDefinitionDescription = Latitude/Longitude Grid ;\n",
      "\t\tu10:GRIB_iDirectionIncrementInDegrees = 0.25 ;\n",
      "\t\tu10:GRIB_iScansNegatively = 0 ;\n",
      "\t\tu10:GRIB_jDirectionIncrementInDegrees = 0.25 ;\n",
      "\t\tu10:GRIB_jPointsAreConsecutive = 0 ;\n",
      "\t\tu10:GRIB_jScansPositively = 0 ;\n",
      "\t\tu10:GRIB_latitudeOfFirstGridPointInDegrees = 90.0 ;\n",
      "\t\tu10:GRIB_latitudeOfLastGridPointInDegrees = -90.0 ;\n",
      "\t\tu10:GRIB_longitudeOfFirstGridPointInDegrees = 0.0 ;\n",
      "\t\tu10:GRIB_longitudeOfLastGridPointInDegrees = 359.75 ;\n",
      "\t\tu10:GRIB_missingValue = 9999 ;\n",
      "\t\tu10:GRIB_name = 10 metre U wind component ;\n",
      "\t\tu10:GRIB_shortName = 10u ;\n",
      "\t\tu10:GRIB_totalNumber = 0 ;\n",
      "\t\tu10:GRIB_units = m s**-1 ;\n",
      "\t\tu10:long_name = 10 metre U wind component ;\n",
      "\t\tu10:units = m s**-1 ;\n",
      "\t\tu10:standard_name = unknown ;\n",
      "\tfloat32 v10(number, time, step, surface, latitude, longitude) ;\n",
      "\t\tv10:GRIB_paramId = 166 ;\n",
      "\t\tv10:GRIB_dataType = an ;\n",
      "\t\tv10:GRIB_numberOfPoints = 1038240 ;\n",
      "\t\tv10:GRIB_typeOfLevel = surface ;\n",
      "\t\tv10:GRIB_stepUnits = 1 ;\n",
      "\t\tv10:GRIB_stepType = instant ;\n",
      "\t\tv10:GRIB_gridType = regular_ll ;\n",
      "\t\tv10:GRIB_NV = 0 ;\n",
      "\t\tv10:GRIB_Nx = 1440 ;\n",
      "\t\tv10:GRIB_Ny = 721 ;\n",
      "\t\tv10:GRIB_cfName = unknown ;\n",
      "\t\tv10:GRIB_cfVarName = v10 ;\n",
      "\t\tv10:GRIB_gridDefinitionDescription = Latitude/Longitude Grid ;\n",
      "\t\tv10:GRIB_iDirectionIncrementInDegrees = 0.25 ;\n",
      "\t\tv10:GRIB_iScansNegatively = 0 ;\n",
      "\t\tv10:GRIB_jDirectionIncrementInDegrees = 0.25 ;\n",
      "\t\tv10:GRIB_jPointsAreConsecutive = 0 ;\n",
      "\t\tv10:GRIB_jScansPositively = 0 ;\n",
      "\t\tv10:GRIB_latitudeOfFirstGridPointInDegrees = 90.0 ;\n",
      "\t\tv10:GRIB_latitudeOfLastGridPointInDegrees = -90.0 ;\n",
      "\t\tv10:GRIB_longitudeOfFirstGridPointInDegrees = 0.0 ;\n",
      "\t\tv10:GRIB_longitudeOfLastGridPointInDegrees = 359.75 ;\n",
      "\t\tv10:GRIB_missingValue = 9999 ;\n",
      "\t\tv10:GRIB_name = 10 metre V wind component ;\n",
      "\t\tv10:GRIB_shortName = 10v ;\n",
      "\t\tv10:GRIB_totalNumber = 0 ;\n",
      "\t\tv10:GRIB_units = m s**-1 ;\n",
      "\t\tv10:long_name = 10 metre V wind component ;\n",
      "\t\tv10:units = m s**-1 ;\n",
      "\t\tv10:standard_name = unknown ;\n",
      "\tfloat32 t2m(number, time, step, surface, latitude, longitude) ;\n",
      "\t\tt2m:GRIB_paramId = 167 ;\n",
      "\t\tt2m:GRIB_dataType = an ;\n",
      "\t\tt2m:GRIB_numberOfPoints = 1038240 ;\n",
      "\t\tt2m:GRIB_typeOfLevel = surface ;\n",
      "\t\tt2m:GRIB_stepUnits = 1 ;\n",
      "\t\tt2m:GRIB_stepType = instant ;\n",
      "\t\tt2m:GRIB_gridType = regular_ll ;\n",
      "\t\tt2m:GRIB_NV = 0 ;\n",
      "\t\tt2m:GRIB_Nx = 1440 ;\n",
      "\t\tt2m:GRIB_Ny = 721 ;\n",
      "\t\tt2m:GRIB_cfName = unknown ;\n",
      "\t\tt2m:GRIB_cfVarName = t2m ;\n",
      "\t\tt2m:GRIB_gridDefinitionDescription = Latitude/Longitude Grid ;\n",
      "\t\tt2m:GRIB_iDirectionIncrementInDegrees = 0.25 ;\n",
      "\t\tt2m:GRIB_iScansNegatively = 0 ;\n",
      "\t\tt2m:GRIB_jDirectionIncrementInDegrees = 0.25 ;\n",
      "\t\tt2m:GRIB_jPointsAreConsecutive = 0 ;\n",
      "\t\tt2m:GRIB_jScansPositively = 0 ;\n",
      "\t\tt2m:GRIB_latitudeOfFirstGridPointInDegrees = 90.0 ;\n",
      "\t\tt2m:GRIB_latitudeOfLastGridPointInDegrees = -90.0 ;\n",
      "\t\tt2m:GRIB_longitudeOfFirstGridPointInDegrees = 0.0 ;\n",
      "\t\tt2m:GRIB_longitudeOfLastGridPointInDegrees = 359.75 ;\n",
      "\t\tt2m:GRIB_missingValue = 9999 ;\n",
      "\t\tt2m:GRIB_name = 2 metre temperature ;\n",
      "\t\tt2m:GRIB_shortName = 2t ;\n",
      "\t\tt2m:GRIB_totalNumber = 0 ;\n",
      "\t\tt2m:GRIB_units = K ;\n",
      "\t\tt2m:long_name = 2 metre temperature ;\n",
      "\t\tt2m:units = K ;\n",
      "\t\tt2m:standard_name = unknown ;\n",
      "\tfloat32 sp(number, time, step, surface, latitude, longitude) ;\n",
      "\t\tsp:GRIB_paramId = 134 ;\n",
      "\t\tsp:GRIB_dataType = an ;\n",
      "\t\tsp:GRIB_numberOfPoints = 1038240 ;\n",
      "\t\tsp:GRIB_typeOfLevel = surface ;\n",
      "\t\tsp:GRIB_stepUnits = 1 ;\n",
      "\t\tsp:GRIB_stepType = instant ;\n",
      "\t\tsp:GRIB_gridType = regular_ll ;\n",
      "\t\tsp:GRIB_NV = 0 ;\n",
      "\t\tsp:GRIB_Nx = 1440 ;\n",
      "\t\tsp:GRIB_Ny = 721 ;\n",
      "\t\tsp:GRIB_cfName = surface_air_pressure ;\n",
      "\t\tsp:GRIB_cfVarName = sp ;\n",
      "\t\tsp:GRIB_gridDefinitionDescription = Latitude/Longitude Grid ;\n",
      "\t\tsp:GRIB_iDirectionIncrementInDegrees = 0.25 ;\n",
      "\t\tsp:GRIB_iScansNegatively = 0 ;\n",
      "\t\tsp:GRIB_jDirectionIncrementInDegrees = 0.25 ;\n",
      "\t\tsp:GRIB_jPointsAreConsecutive = 0 ;\n",
      "\t\tsp:GRIB_jScansPositively = 0 ;\n",
      "\t\tsp:GRIB_latitudeOfFirstGridPointInDegrees = 90.0 ;\n",
      "\t\tsp:GRIB_latitudeOfLastGridPointInDegrees = -90.0 ;\n",
      "\t\tsp:GRIB_longitudeOfFirstGridPointInDegrees = 0.0 ;\n",
      "\t\tsp:GRIB_longitudeOfLastGridPointInDegrees = 359.75 ;\n",
      "\t\tsp:GRIB_missingValue = 9999 ;\n",
      "\t\tsp:GRIB_name = Surface pressure ;\n",
      "\t\tsp:GRIB_shortName = sp ;\n",
      "\t\tsp:GRIB_totalNumber = 0 ;\n",
      "\t\tsp:GRIB_units = Pa ;\n",
      "\t\tsp:long_name = Surface pressure ;\n",
      "\t\tsp:units = Pa ;\n",
      "\t\tsp:standard_name = surface_air_pressure ;\n",
      "\tfloat32 msl(number, time, step, surface, latitude, longitude) ;\n",
      "\t\tmsl:GRIB_paramId = 151 ;\n",
      "\t\tmsl:GRIB_dataType = an ;\n",
      "\t\tmsl:GRIB_numberOfPoints = 1038240 ;\n",
      "\t\tmsl:GRIB_typeOfLevel = surface ;\n",
      "\t\tmsl:GRIB_stepUnits = 1 ;\n",
      "\t\tmsl:GRIB_stepType = instant ;\n",
      "\t\tmsl:GRIB_gridType = regular_ll ;\n",
      "\t\tmsl:GRIB_NV = 0 ;\n",
      "\t\tmsl:GRIB_Nx = 1440 ;\n",
      "\t\tmsl:GRIB_Ny = 721 ;\n",
      "\t\tmsl:GRIB_cfName = air_pressure_at_mean_sea_level ;\n",
      "\t\tmsl:GRIB_cfVarName = msl ;\n",
      "\t\tmsl:GRIB_gridDefinitionDescription = Latitude/Longitude Grid ;\n",
      "\t\tmsl:GRIB_iDirectionIncrementInDegrees = 0.25 ;\n",
      "\t\tmsl:GRIB_iScansNegatively = 0 ;\n",
      "\t\tmsl:GRIB_jDirectionIncrementInDegrees = 0.25 ;\n",
      "\t\tmsl:GRIB_jPointsAreConsecutive = 0 ;\n",
      "\t\tmsl:GRIB_jScansPositively = 0 ;\n",
      "\t\tmsl:GRIB_latitudeOfFirstGridPointInDegrees = 90.0 ;\n",
      "\t\tmsl:GRIB_latitudeOfLastGridPointInDegrees = -90.0 ;\n",
      "\t\tmsl:GRIB_longitudeOfFirstGridPointInDegrees = 0.0 ;\n",
      "\t\tmsl:GRIB_longitudeOfLastGridPointInDegrees = 359.75 ;\n",
      "\t\tmsl:GRIB_missingValue = 9999 ;\n",
      "\t\tmsl:GRIB_name = Mean sea level pressure ;\n",
      "\t\tmsl:GRIB_shortName = msl ;\n",
      "\t\tmsl:GRIB_totalNumber = 0 ;\n",
      "\t\tmsl:GRIB_units = Pa ;\n",
      "\t\tmsl:long_name = Mean sea level pressure ;\n",
      "\t\tmsl:units = Pa ;\n",
      "\t\tmsl:standard_name = air_pressure_at_mean_sea_level ;\n",
      "\tfloat32 tcwv(number, time, step, surface, latitude, longitude) ;\n",
      "\t\ttcwv:GRIB_paramId = 137 ;\n",
      "\t\ttcwv:GRIB_dataType = an ;\n",
      "\t\ttcwv:GRIB_numberOfPoints = 1038240 ;\n",
      "\t\ttcwv:GRIB_typeOfLevel = surface ;\n",
      "\t\ttcwv:GRIB_stepUnits = 1 ;\n",
      "\t\ttcwv:GRIB_stepType = instant ;\n",
      "\t\ttcwv:GRIB_gridType = regular_ll ;\n",
      "\t\ttcwv:GRIB_NV = 0 ;\n",
      "\t\ttcwv:GRIB_Nx = 1440 ;\n",
      "\t\ttcwv:GRIB_Ny = 721 ;\n",
      "\t\ttcwv:GRIB_cfName = lwe_thickness_of_atmosphere_mass_content_of_water_vapor ;\n",
      "\t\ttcwv:GRIB_cfVarName = tcwv ;\n",
      "\t\ttcwv:GRIB_gridDefinitionDescription = Latitude/Longitude Grid ;\n",
      "\t\ttcwv:GRIB_iDirectionIncrementInDegrees = 0.25 ;\n",
      "\t\ttcwv:GRIB_iScansNegatively = 0 ;\n",
      "\t\ttcwv:GRIB_jDirectionIncrementInDegrees = 0.25 ;\n",
      "\t\ttcwv:GRIB_jPointsAreConsecutive = 0 ;\n",
      "\t\ttcwv:GRIB_jScansPositively = 0 ;\n",
      "\t\ttcwv:GRIB_latitudeOfFirstGridPointInDegrees = 90.0 ;\n",
      "\t\ttcwv:GRIB_latitudeOfLastGridPointInDegrees = -90.0 ;\n",
      "\t\ttcwv:GRIB_longitudeOfFirstGridPointInDegrees = 0.0 ;\n",
      "\t\ttcwv:GRIB_longitudeOfLastGridPointInDegrees = 359.75 ;\n",
      "\t\ttcwv:GRIB_missingValue = 9999 ;\n",
      "\t\ttcwv:GRIB_name = Total column vertically-integrated water vapour ;\n",
      "\t\ttcwv:GRIB_shortName = tcwv ;\n",
      "\t\ttcwv:GRIB_totalNumber = 0 ;\n",
      "\t\ttcwv:GRIB_units = kg m**-2 ;\n",
      "\t\ttcwv:long_name = Total column vertically-integrated water vapour ;\n",
      "\t\ttcwv:units = kg m**-2 ;\n",
      "\t\ttcwv:standard_name = lwe_thickness_of_atmosphere_mass_content_of_water_vapor ;\n",
      "\tfloat32 u100(number, time, step, surface, latitude, longitude) ;\n",
      "\t\tu100:GRIB_paramId = 228246 ;\n",
      "\t\tu100:GRIB_dataType = an ;\n",
      "\t\tu100:GRIB_numberOfPoints = 1038240 ;\n",
      "\t\tu100:GRIB_typeOfLevel = surface ;\n",
      "\t\tu100:GRIB_stepUnits = 1 ;\n",
      "\t\tu100:GRIB_stepType = instant ;\n",
      "\t\tu100:GRIB_gridType = regular_ll ;\n",
      "\t\tu100:GRIB_NV = 0 ;\n",
      "\t\tu100:GRIB_Nx = 1440 ;\n",
      "\t\tu100:GRIB_Ny = 721 ;\n",
      "\t\tu100:GRIB_cfName = unknown ;\n",
      "\t\tu100:GRIB_cfVarName = u100 ;\n",
      "\t\tu100:GRIB_gridDefinitionDescription = Latitude/Longitude Grid ;\n",
      "\t\tu100:GRIB_iDirectionIncrementInDegrees = 0.25 ;\n",
      "\t\tu100:GRIB_iScansNegatively = 0 ;\n",
      "\t\tu100:GRIB_jDirectionIncrementInDegrees = 0.25 ;\n",
      "\t\tu100:GRIB_jPointsAreConsecutive = 0 ;\n",
      "\t\tu100:GRIB_jScansPositively = 0 ;\n",
      "\t\tu100:GRIB_latitudeOfFirstGridPointInDegrees = 90.0 ;\n",
      "\t\tu100:GRIB_latitudeOfLastGridPointInDegrees = -90.0 ;\n",
      "\t\tu100:GRIB_longitudeOfFirstGridPointInDegrees = 0.0 ;\n",
      "\t\tu100:GRIB_longitudeOfLastGridPointInDegrees = 359.75 ;\n",
      "\t\tu100:GRIB_missingValue = 9999 ;\n",
      "\t\tu100:GRIB_name = 100 metre U wind component ;\n",
      "\t\tu100:GRIB_shortName = 100u ;\n",
      "\t\tu100:GRIB_totalNumber = 0 ;\n",
      "\t\tu100:GRIB_units = m s**-1 ;\n",
      "\t\tu100:long_name = 100 metre U wind component ;\n",
      "\t\tu100:units = m s**-1 ;\n",
      "\t\tu100:standard_name = unknown ;\n",
      "\tfloat32 v100(number, time, step, surface, latitude, longitude) ;\n",
      "\t\tv100:GRIB_paramId = 228247 ;\n",
      "\t\tv100:GRIB_dataType = an ;\n",
      "\t\tv100:GRIB_numberOfPoints = 1038240 ;\n",
      "\t\tv100:GRIB_typeOfLevel = surface ;\n",
      "\t\tv100:GRIB_stepUnits = 1 ;\n",
      "\t\tv100:GRIB_stepType = instant ;\n",
      "\t\tv100:GRIB_gridType = regular_ll ;\n",
      "\t\tv100:GRIB_NV = 0 ;\n",
      "\t\tv100:GRIB_Nx = 1440 ;\n",
      "\t\tv100:GRIB_Ny = 721 ;\n",
      "\t\tv100:GRIB_cfName = unknown ;\n",
      "\t\tv100:GRIB_cfVarName = v100 ;\n",
      "\t\tv100:GRIB_gridDefinitionDescription = Latitude/Longitude Grid ;\n",
      "\t\tv100:GRIB_iDirectionIncrementInDegrees = 0.25 ;\n",
      "\t\tv100:GRIB_iScansNegatively = 0 ;\n",
      "\t\tv100:GRIB_jDirectionIncrementInDegrees = 0.25 ;\n",
      "\t\tv100:GRIB_jPointsAreConsecutive = 0 ;\n",
      "\t\tv100:GRIB_jScansPositively = 0 ;\n",
      "\t\tv100:GRIB_latitudeOfFirstGridPointInDegrees = 90.0 ;\n",
      "\t\tv100:GRIB_latitudeOfLastGridPointInDegrees = -90.0 ;\n",
      "\t\tv100:GRIB_longitudeOfFirstGridPointInDegrees = 0.0 ;\n",
      "\t\tv100:GRIB_longitudeOfLastGridPointInDegrees = 359.75 ;\n",
      "\t\tv100:GRIB_missingValue = 9999 ;\n",
      "\t\tv100:GRIB_name = 100 metre V wind component ;\n",
      "\t\tv100:GRIB_shortName = 100v ;\n",
      "\t\tv100:GRIB_totalNumber = 0 ;\n",
      "\t\tv100:GRIB_units = m s**-1 ;\n",
      "\t\tv100:long_name = 100 metre V wind component ;\n",
      "\t\tv100:units = m s**-1 ;\n",
      "\t\tv100:standard_name = unknown ;\n",
      "\tfloat64 isobaricInhPa(isobaricInhPa) ;\n",
      "\t\tisobaricInhPa:long_name = pressure ;\n",
      "\t\tisobaricInhPa:units = hPa ;\n",
      "\t\tisobaricInhPa:positive = down ;\n",
      "\t\tisobaricInhPa:stored_direction = decreasing ;\n",
      "\t\tisobaricInhPa:standard_name = air_pressure ;\n",
      "\tfloat32 t(number, time, step, isobaricInhPa, latitude, longitude) ;\n",
      "\t\tt:GRIB_paramId = 130 ;\n",
      "\t\tt:GRIB_dataType = an ;\n",
      "\t\tt:GRIB_numberOfPoints = 1038240 ;\n",
      "\t\tt:GRIB_typeOfLevel = isobaricInhPa ;\n",
      "\t\tt:GRIB_stepUnits = 1 ;\n",
      "\t\tt:GRIB_stepType = instant ;\n",
      "\t\tt:GRIB_gridType = regular_ll ;\n",
      "\t\tt:GRIB_NV = 0 ;\n",
      "\t\tt:GRIB_Nx = 1440 ;\n",
      "\t\tt:GRIB_Ny = 721 ;\n",
      "\t\tt:GRIB_cfName = air_temperature ;\n",
      "\t\tt:GRIB_cfVarName = t ;\n",
      "\t\tt:GRIB_gridDefinitionDescription = Latitude/Longitude Grid ;\n",
      "\t\tt:GRIB_iDirectionIncrementInDegrees = 0.25 ;\n",
      "\t\tt:GRIB_iScansNegatively = 0 ;\n",
      "\t\tt:GRIB_jDirectionIncrementInDegrees = 0.25 ;\n",
      "\t\tt:GRIB_jPointsAreConsecutive = 0 ;\n",
      "\t\tt:GRIB_jScansPositively = 0 ;\n",
      "\t\tt:GRIB_latitudeOfFirstGridPointInDegrees = 90.0 ;\n",
      "\t\tt:GRIB_latitudeOfLastGridPointInDegrees = -90.0 ;\n",
      "\t\tt:GRIB_longitudeOfFirstGridPointInDegrees = 0.0 ;\n",
      "\t\tt:GRIB_longitudeOfLastGridPointInDegrees = 359.75 ;\n",
      "\t\tt:GRIB_missingValue = 9999 ;\n",
      "\t\tt:GRIB_name = Temperature ;\n",
      "\t\tt:GRIB_shortName = t ;\n",
      "\t\tt:GRIB_totalNumber = 0 ;\n",
      "\t\tt:GRIB_units = K ;\n",
      "\t\tt:long_name = Temperature ;\n",
      "\t\tt:units = K ;\n",
      "\t\tt:standard_name = air_temperature ;\n",
      "\tfloat32 u(number, time, step, isobaricInhPa, latitude, longitude) ;\n",
      "\t\tu:GRIB_paramId = 131 ;\n",
      "\t\tu:GRIB_dataType = an ;\n",
      "\t\tu:GRIB_numberOfPoints = 1038240 ;\n",
      "\t\tu:GRIB_typeOfLevel = isobaricInhPa ;\n",
      "\t\tu:GRIB_stepUnits = 1 ;\n",
      "\t\tu:GRIB_stepType = instant ;\n",
      "\t\tu:GRIB_gridType = regular_ll ;\n",
      "\t\tu:GRIB_NV = 0 ;\n",
      "\t\tu:GRIB_Nx = 1440 ;\n",
      "\t\tu:GRIB_Ny = 721 ;\n",
      "\t\tu:GRIB_cfName = eastward_wind ;\n",
      "\t\tu:GRIB_cfVarName = u ;\n",
      "\t\tu:GRIB_gridDefinitionDescription = Latitude/Longitude Grid ;\n",
      "\t\tu:GRIB_iDirectionIncrementInDegrees = 0.25 ;\n",
      "\t\tu:GRIB_iScansNegatively = 0 ;\n",
      "\t\tu:GRIB_jDirectionIncrementInDegrees = 0.25 ;\n",
      "\t\tu:GRIB_jPointsAreConsecutive = 0 ;\n",
      "\t\tu:GRIB_jScansPositively = 0 ;\n",
      "\t\tu:GRIB_latitudeOfFirstGridPointInDegrees = 90.0 ;\n",
      "\t\tu:GRIB_latitudeOfLastGridPointInDegrees = -90.0 ;\n",
      "\t\tu:GRIB_longitudeOfFirstGridPointInDegrees = 0.0 ;\n",
      "\t\tu:GRIB_longitudeOfLastGridPointInDegrees = 359.75 ;\n",
      "\t\tu:GRIB_missingValue = 9999 ;\n",
      "\t\tu:GRIB_name = U component of wind ;\n",
      "\t\tu:GRIB_shortName = u ;\n",
      "\t\tu:GRIB_totalNumber = 0 ;\n",
      "\t\tu:GRIB_units = m s**-1 ;\n",
      "\t\tu:long_name = U component of wind ;\n",
      "\t\tu:units = m s**-1 ;\n",
      "\t\tu:standard_name = eastward_wind ;\n",
      "\tfloat32 v(number, time, step, isobaricInhPa, latitude, longitude) ;\n",
      "\t\tv:GRIB_paramId = 132 ;\n",
      "\t\tv:GRIB_dataType = an ;\n",
      "\t\tv:GRIB_numberOfPoints = 1038240 ;\n",
      "\t\tv:GRIB_typeOfLevel = isobaricInhPa ;\n",
      "\t\tv:GRIB_stepUnits = 1 ;\n",
      "\t\tv:GRIB_stepType = instant ;\n",
      "\t\tv:GRIB_gridType = regular_ll ;\n",
      "\t\tv:GRIB_NV = 0 ;\n",
      "\t\tv:GRIB_Nx = 1440 ;\n",
      "\t\tv:GRIB_Ny = 721 ;\n",
      "\t\tv:GRIB_cfName = northward_wind ;\n",
      "\t\tv:GRIB_cfVarName = v ;\n",
      "\t\tv:GRIB_gridDefinitionDescription = Latitude/Longitude Grid ;\n",
      "\t\tv:GRIB_iDirectionIncrementInDegrees = 0.25 ;\n",
      "\t\tv:GRIB_iScansNegatively = 0 ;\n",
      "\t\tv:GRIB_jDirectionIncrementInDegrees = 0.25 ;\n",
      "\t\tv:GRIB_jPointsAreConsecutive = 0 ;\n",
      "\t\tv:GRIB_jScansPositively = 0 ;\n",
      "\t\tv:GRIB_latitudeOfFirstGridPointInDegrees = 90.0 ;\n",
      "\t\tv:GRIB_latitudeOfLastGridPointInDegrees = -90.0 ;\n",
      "\t\tv:GRIB_longitudeOfFirstGridPointInDegrees = 0.0 ;\n",
      "\t\tv:GRIB_longitudeOfLastGridPointInDegrees = 359.75 ;\n",
      "\t\tv:GRIB_missingValue = 9999 ;\n",
      "\t\tv:GRIB_name = V component of wind ;\n",
      "\t\tv:GRIB_shortName = v ;\n",
      "\t\tv:GRIB_totalNumber = 0 ;\n",
      "\t\tv:GRIB_units = m s**-1 ;\n",
      "\t\tv:long_name = V component of wind ;\n",
      "\t\tv:units = m s**-1 ;\n",
      "\t\tv:standard_name = northward_wind ;\n",
      "\tfloat32 z(number, time, step, isobaricInhPa, latitude, longitude) ;\n",
      "\t\tz:GRIB_paramId = 129 ;\n",
      "\t\tz:GRIB_dataType = an ;\n",
      "\t\tz:GRIB_numberOfPoints = 1038240 ;\n",
      "\t\tz:GRIB_typeOfLevel = isobaricInhPa ;\n",
      "\t\tz:GRIB_stepUnits = 1 ;\n",
      "\t\tz:GRIB_stepType = instant ;\n",
      "\t\tz:GRIB_gridType = regular_ll ;\n",
      "\t\tz:GRIB_NV = 0 ;\n",
      "\t\tz:GRIB_Nx = 1440 ;\n",
      "\t\tz:GRIB_Ny = 721 ;\n",
      "\t\tz:GRIB_cfName = geopotential ;\n",
      "\t\tz:GRIB_cfVarName = z ;\n",
      "\t\tz:GRIB_gridDefinitionDescription = Latitude/Longitude Grid ;\n",
      "\t\tz:GRIB_iDirectionIncrementInDegrees = 0.25 ;\n",
      "\t\tz:GRIB_iScansNegatively = 0 ;\n",
      "\t\tz:GRIB_jDirectionIncrementInDegrees = 0.25 ;\n",
      "\t\tz:GRIB_jPointsAreConsecutive = 0 ;\n",
      "\t\tz:GRIB_jScansPositively = 0 ;\n",
      "\t\tz:GRIB_latitudeOfFirstGridPointInDegrees = 90.0 ;\n",
      "\t\tz:GRIB_latitudeOfLastGridPointInDegrees = -90.0 ;\n",
      "\t\tz:GRIB_longitudeOfFirstGridPointInDegrees = 0.0 ;\n",
      "\t\tz:GRIB_longitudeOfLastGridPointInDegrees = 359.75 ;\n",
      "\t\tz:GRIB_missingValue = 9999 ;\n",
      "\t\tz:GRIB_name = Geopotential ;\n",
      "\t\tz:GRIB_shortName = z ;\n",
      "\t\tz:GRIB_totalNumber = 0 ;\n",
      "\t\tz:GRIB_units = m**2 s**-2 ;\n",
      "\t\tz:long_name = Geopotential ;\n",
      "\t\tz:units = m**2 s**-2 ;\n",
      "\t\tz:standard_name = geopotential ;\n",
      "\tfloat32 r(number, time, step, isobaricInhPa, latitude, longitude) ;\n",
      "\t\tr:GRIB_paramId = 157 ;\n",
      "\t\tr:GRIB_dataType = an ;\n",
      "\t\tr:GRIB_numberOfPoints = 1038240 ;\n",
      "\t\tr:GRIB_typeOfLevel = isobaricInhPa ;\n",
      "\t\tr:GRIB_stepUnits = 1 ;\n",
      "\t\tr:GRIB_stepType = instant ;\n",
      "\t\tr:GRIB_gridType = regular_ll ;\n",
      "\t\tr:GRIB_NV = 0 ;\n",
      "\t\tr:GRIB_Nx = 1440 ;\n",
      "\t\tr:GRIB_Ny = 721 ;\n",
      "\t\tr:GRIB_cfName = relative_humidity ;\n",
      "\t\tr:GRIB_cfVarName = r ;\n",
      "\t\tr:GRIB_gridDefinitionDescription = Latitude/Longitude Grid ;\n",
      "\t\tr:GRIB_iDirectionIncrementInDegrees = 0.25 ;\n",
      "\t\tr:GRIB_iScansNegatively = 0 ;\n",
      "\t\tr:GRIB_jDirectionIncrementInDegrees = 0.25 ;\n",
      "\t\tr:GRIB_jPointsAreConsecutive = 0 ;\n",
      "\t\tr:GRIB_jScansPositively = 0 ;\n",
      "\t\tr:GRIB_latitudeOfFirstGridPointInDegrees = 90.0 ;\n",
      "\t\tr:GRIB_latitudeOfLastGridPointInDegrees = -90.0 ;\n",
      "\t\tr:GRIB_longitudeOfFirstGridPointInDegrees = 0.0 ;\n",
      "\t\tr:GRIB_longitudeOfLastGridPointInDegrees = 359.75 ;\n",
      "\t\tr:GRIB_missingValue = 9999 ;\n",
      "\t\tr:GRIB_name = Relative humidity ;\n",
      "\t\tr:GRIB_shortName = r ;\n",
      "\t\tr:GRIB_totalNumber = 0 ;\n",
      "\t\tr:GRIB_units = % ;\n",
      "\t\tr:long_name = Relative humidity ;\n",
      "\t\tr:units = % ;\n",
      "\t\tr:standard_name = relative_humidity ;\n",
      "\n",
      "// global attributes:\n",
      "\t:GRIB_edition = 1 ;\n",
      "\t:GRIB_centre = ecmf ;\n",
      "\t:GRIB_centreDescription = European Centre for Medium-Range Weather Forecasts ;\n",
      "\t:GRIB_subCentre = 0 ;\n",
      "\t:Conventions = CF-1.7 ;\n",
      "\t:institution = European Centre for Medium-Range Weather Forecasts ;\n",
      "\t:history = 2024-01-14T03:25 GRIB to CDM+CF via cfgrib-0.9.10.4/ecCodes-2.32.0 with {\"source\": \"N/A\", \"filter_by_keys\": {}, \"encode_cf\": [\"parameter\", \"time\", \"geography\", \"vertical\"]} ;\n",
      "}"
     ]
    }
   ],
   "source": [
    "tnc.info()"
   ]
  },
  {
   "cell_type": "code",
   "execution_count": 8,
   "metadata": {},
   "outputs": [
    {
     "ename": "ValueError",
     "evalue": "replacement data must match the Variable's shape. replacement data has shape (73, 721, 1440); Variable has shape (1, 1, 1, 1, 721, 1440)",
     "output_type": "error",
     "traceback": [
      "\u001b[0;31m---------------------------------------------------------------------------\u001b[0m",
      "\u001b[0;31mValueError\u001b[0m                                Traceback (most recent call last)",
      "Cell \u001b[0;32mIn[8], line 1\u001b[0m\n\u001b[0;32m----> 1\u001b[0m \u001b[43mtnc\u001b[49m\u001b[43m[\u001b[49m\u001b[38;5;124;43m\"\u001b[39;49m\u001b[38;5;124;43mu10\u001b[39;49m\u001b[38;5;124;43m\"\u001b[39;49m\u001b[43m]\u001b[49m\u001b[38;5;241;43m.\u001b[39;49m\u001b[43mvalues\u001b[49m \u001b[38;5;241m=\u001b[39m np\u001b[38;5;241m.\u001b[39mzeros((\u001b[38;5;241m73\u001b[39m,\u001b[38;5;241m721\u001b[39m,\u001b[38;5;241m1440\u001b[39m))\n",
      "File \u001b[0;32m~/miniconda3/envs/model/lib/python3.11/site-packages/xarray/core/common.py:306\u001b[0m, in \u001b[0;36mAttrAccessMixin.__setattr__\u001b[0;34m(self, name, value)\u001b[0m\n\u001b[1;32m    301\u001b[0m \u001b[38;5;250m\u001b[39m\u001b[38;5;124;03m\"\"\"Objects with ``__slots__`` raise AttributeError if you try setting an\u001b[39;00m\n\u001b[1;32m    302\u001b[0m \u001b[38;5;124;03mundeclared attribute. This is desirable, but the error message could use some\u001b[39;00m\n\u001b[1;32m    303\u001b[0m \u001b[38;5;124;03mimprovement.\u001b[39;00m\n\u001b[1;32m    304\u001b[0m \u001b[38;5;124;03m\"\"\"\u001b[39;00m\n\u001b[1;32m    305\u001b[0m \u001b[38;5;28;01mtry\u001b[39;00m:\n\u001b[0;32m--> 306\u001b[0m     \u001b[38;5;28;43mobject\u001b[39;49m\u001b[38;5;241;43m.\u001b[39;49m\u001b[38;5;21;43m__setattr__\u001b[39;49m\u001b[43m(\u001b[49m\u001b[38;5;28;43mself\u001b[39;49m\u001b[43m,\u001b[49m\u001b[43m \u001b[49m\u001b[43mname\u001b[49m\u001b[43m,\u001b[49m\u001b[43m \u001b[49m\u001b[43mvalue\u001b[49m\u001b[43m)\u001b[49m\n\u001b[1;32m    307\u001b[0m \u001b[38;5;28;01mexcept\u001b[39;00m \u001b[38;5;167;01mAttributeError\u001b[39;00m \u001b[38;5;28;01mas\u001b[39;00m e:\n\u001b[1;32m    308\u001b[0m     \u001b[38;5;66;03m# Don't accidentally shadow custom AttributeErrors, e.g.\u001b[39;00m\n\u001b[1;32m    309\u001b[0m     \u001b[38;5;66;03m# DataArray.dims.setter\u001b[39;00m\n\u001b[1;32m    310\u001b[0m     \u001b[38;5;28;01mif\u001b[39;00m \u001b[38;5;28mstr\u001b[39m(e) \u001b[38;5;241m!=\u001b[39m \u001b[38;5;124mf\u001b[39m\u001b[38;5;124m\"\u001b[39m\u001b[38;5;132;01m{\u001b[39;00m\u001b[38;5;28mtype\u001b[39m(\u001b[38;5;28mself\u001b[39m)\u001b[38;5;241m.\u001b[39m\u001b[38;5;18m__name__\u001b[39m\u001b[38;5;132;01m!r}\u001b[39;00m\u001b[38;5;124m object has no attribute \u001b[39m\u001b[38;5;132;01m{\u001b[39;00mname\u001b[38;5;132;01m!r}\u001b[39;00m\u001b[38;5;124m\"\u001b[39m:\n",
      "File \u001b[0;32m~/miniconda3/envs/model/lib/python3.11/site-packages/xarray/core/dataarray.py:775\u001b[0m, in \u001b[0;36mDataArray.values\u001b[0;34m(self, value)\u001b[0m\n\u001b[1;32m    773\u001b[0m \u001b[38;5;129m@values\u001b[39m\u001b[38;5;241m.\u001b[39msetter\n\u001b[1;32m    774\u001b[0m \u001b[38;5;28;01mdef\u001b[39;00m \u001b[38;5;21mvalues\u001b[39m(\u001b[38;5;28mself\u001b[39m, value: Any) \u001b[38;5;241m-\u001b[39m\u001b[38;5;241m>\u001b[39m \u001b[38;5;28;01mNone\u001b[39;00m:\n\u001b[0;32m--> 775\u001b[0m     \u001b[38;5;28;43mself\u001b[39;49m\u001b[38;5;241;43m.\u001b[39;49m\u001b[43mvariable\u001b[49m\u001b[38;5;241;43m.\u001b[39;49m\u001b[43mvalues\u001b[49m \u001b[38;5;241m=\u001b[39m value\n",
      "File \u001b[0;32m~/miniconda3/envs/model/lib/python3.11/site-packages/xarray/core/variable.py:560\u001b[0m, in \u001b[0;36mVariable.values\u001b[0;34m(self, values)\u001b[0m\n\u001b[1;32m    558\u001b[0m \u001b[38;5;129m@values\u001b[39m\u001b[38;5;241m.\u001b[39msetter\n\u001b[1;32m    559\u001b[0m \u001b[38;5;28;01mdef\u001b[39;00m \u001b[38;5;21mvalues\u001b[39m(\u001b[38;5;28mself\u001b[39m, values):\n\u001b[0;32m--> 560\u001b[0m     \u001b[38;5;28;43mself\u001b[39;49m\u001b[38;5;241;43m.\u001b[39;49m\u001b[43mdata\u001b[49m \u001b[38;5;241m=\u001b[39m values\n",
      "File \u001b[0;32m~/miniconda3/envs/model/lib/python3.11/site-packages/xarray/core/variable.py:423\u001b[0m, in \u001b[0;36mVariable.data\u001b[0;34m(self, data)\u001b[0m\n\u001b[1;32m    420\u001b[0m \u001b[38;5;129m@data\u001b[39m\u001b[38;5;241m.\u001b[39msetter\n\u001b[1;32m    421\u001b[0m \u001b[38;5;28;01mdef\u001b[39;00m \u001b[38;5;21mdata\u001b[39m(\u001b[38;5;28mself\u001b[39m, data: T_DuckArray \u001b[38;5;241m|\u001b[39m ArrayLike) \u001b[38;5;241m-\u001b[39m\u001b[38;5;241m>\u001b[39m \u001b[38;5;28;01mNone\u001b[39;00m:\n\u001b[1;32m    422\u001b[0m     data \u001b[38;5;241m=\u001b[39m as_compatible_data(data)\n\u001b[0;32m--> 423\u001b[0m     \u001b[38;5;28;43mself\u001b[39;49m\u001b[38;5;241;43m.\u001b[39;49m\u001b[43m_check_shape\u001b[49m\u001b[43m(\u001b[49m\u001b[43mdata\u001b[49m\u001b[43m)\u001b[49m\n\u001b[1;32m    424\u001b[0m     \u001b[38;5;28mself\u001b[39m\u001b[38;5;241m.\u001b[39m_data \u001b[38;5;241m=\u001b[39m data\n",
      "File \u001b[0;32m~/miniconda3/envs/model/lib/python3.11/site-packages/xarray/namedarray/core.py:499\u001b[0m, in \u001b[0;36mNamedArray._check_shape\u001b[0;34m(self, new_data)\u001b[0m\n\u001b[1;32m    497\u001b[0m \u001b[38;5;28;01mdef\u001b[39;00m \u001b[38;5;21m_check_shape\u001b[39m(\u001b[38;5;28mself\u001b[39m, new_data: duckarray[Any, _DType_co]) \u001b[38;5;241m-\u001b[39m\u001b[38;5;241m>\u001b[39m \u001b[38;5;28;01mNone\u001b[39;00m:\n\u001b[1;32m    498\u001b[0m     \u001b[38;5;28;01mif\u001b[39;00m new_data\u001b[38;5;241m.\u001b[39mshape \u001b[38;5;241m!=\u001b[39m \u001b[38;5;28mself\u001b[39m\u001b[38;5;241m.\u001b[39mshape:\n\u001b[0;32m--> 499\u001b[0m         \u001b[38;5;28;01mraise\u001b[39;00m \u001b[38;5;167;01mValueError\u001b[39;00m(\n\u001b[1;32m    500\u001b[0m             \u001b[38;5;124mf\u001b[39m\u001b[38;5;124m\"\u001b[39m\u001b[38;5;124mreplacement data must match the \u001b[39m\u001b[38;5;132;01m{\u001b[39;00m\u001b[38;5;28mself\u001b[39m\u001b[38;5;241m.\u001b[39m\u001b[38;5;18m__class__\u001b[39m\u001b[38;5;241m.\u001b[39m\u001b[38;5;18m__name__\u001b[39m\u001b[38;5;132;01m}\u001b[39;00m\u001b[38;5;124m'\u001b[39m\u001b[38;5;124ms shape. \u001b[39m\u001b[38;5;124m\"\u001b[39m\n\u001b[1;32m    501\u001b[0m             \u001b[38;5;124mf\u001b[39m\u001b[38;5;124m\"\u001b[39m\u001b[38;5;124mreplacement data has shape \u001b[39m\u001b[38;5;132;01m{\u001b[39;00mnew_data\u001b[38;5;241m.\u001b[39mshape\u001b[38;5;132;01m}\u001b[39;00m\u001b[38;5;124m; \u001b[39m\u001b[38;5;132;01m{\u001b[39;00m\u001b[38;5;28mself\u001b[39m\u001b[38;5;241m.\u001b[39m\u001b[38;5;18m__class__\u001b[39m\u001b[38;5;241m.\u001b[39m\u001b[38;5;18m__name__\u001b[39m\u001b[38;5;132;01m}\u001b[39;00m\u001b[38;5;124m has shape \u001b[39m\u001b[38;5;132;01m{\u001b[39;00m\u001b[38;5;28mself\u001b[39m\u001b[38;5;241m.\u001b[39mshape\u001b[38;5;132;01m}\u001b[39;00m\u001b[38;5;124m\"\u001b[39m\n\u001b[1;32m    502\u001b[0m         )\n",
      "\u001b[0;31mValueError\u001b[0m: replacement data must match the Variable's shape. replacement data has shape (73, 721, 1440); Variable has shape (1, 1, 1, 1, 721, 1440)"
     ]
    }
   ],
   "source": [
    "tnc[\"u10\"].values = np.zeros((73,721,1440))"
   ]
  },
  {
   "cell_type": "code",
   "execution_count": 13,
   "metadata": {},
   "outputs": [
    {
     "data": {
      "text/plain": [
       "6"
      ]
     },
     "execution_count": 13,
     "metadata": {},
     "output_type": "execute_result"
    }
   ],
   "source": [
    "len(tnc[\"u10\"].values.shape)"
   ]
  },
  {
   "cell_type": "code",
   "execution_count": 22,
   "metadata": {},
   "outputs": [
    {
     "data": {
      "text/plain": [
       "(1, 1, 1, 1, 721, 1440)"
      ]
     },
     "execution_count": 22,
     "metadata": {},
     "output_type": "execute_result"
    }
   ],
   "source": [
    "tnc[\"u10\"].values.shape\n"
   ]
  },
  {
   "cell_type": "code",
   "execution_count": 19,
   "metadata": {},
   "outputs": [
    {
     "data": {
      "text/plain": [
       "(0, 1, 2, 3)"
      ]
     },
     "execution_count": 19,
     "metadata": {},
     "output_type": "execute_result"
    }
   ],
   "source": [
    "tuple(range(4))"
   ]
  },
  {
   "cell_type": "code",
   "execution_count": 21,
   "metadata": {},
   "outputs": [
    {
     "data": {
      "text/plain": [
       "4"
      ]
     },
     "execution_count": 21,
     "metadata": {},
     "output_type": "execute_result"
    }
   ],
   "source": [
    "len(tnc[\"u10\"].shape) - 2"
   ]
  },
  {
   "cell_type": "code",
   "execution_count": 14,
   "metadata": {},
   "outputs": [
    {
     "data": {
      "text/plain": [
       "(1, 1, 1, 13, 721, 1440)"
      ]
     },
     "execution_count": 14,
     "metadata": {},
     "output_type": "execute_result"
    }
   ],
   "source": [
    "tnc[\"u\"].values.shape"
   ]
  },
  {
   "cell_type": "code",
   "execution_count": 12,
   "metadata": {},
   "outputs": [
    {
     "data": {
      "text/plain": [
       "Coordinates:\n",
       "  * number      (number) int64 0\n",
       "  * time        (time) datetime64[ns] 2021-01-01\n",
       "  * step        (step) timedelta64[ns] 00:00:00\n",
       "  * surface     (surface) float64 0.0\n",
       "  * latitude    (latitude) float64 90.0 89.75 89.5 89.25 ... -89.5 -89.75 -90.0\n",
       "  * longitude   (longitude) float64 0.0 0.25 0.5 0.75 ... 359.2 359.5 359.8\n",
       "    valid_time  (time, step) datetime64[ns] ..."
      ]
     },
     "execution_count": 12,
     "metadata": {},
     "output_type": "execute_result"
    }
   ],
   "source": [
    "tnc[\"u10\"].coords"
   ]
  },
  {
   "cell_type": "code",
   "execution_count": 5,
   "metadata": {},
   "outputs": [],
   "source": [
    "level=850"
   ]
  },
  {
   "cell_type": "code",
   "execution_count": 8,
   "metadata": {},
   "outputs": [],
   "source": [
    "tnc[\"u\"].sel(isobaricInhPa=level).values = np.zeros((1,1,1,721,1440))"
   ]
  },
  {
   "cell_type": "code",
   "execution_count": 10,
   "metadata": {},
   "outputs": [],
   "source": [
    "output = np.zeros((73,721,1440))"
   ]
  },
  {
   "cell_type": "code",
   "execution_count": 11,
   "metadata": {},
   "outputs": [],
   "source": [
    "tnc = output"
   ]
  },
  {
   "cell_type": "code",
   "execution_count": 12,
   "metadata": {},
   "outputs": [
    {
     "data": {
      "text/plain": [
       "array([[[0., 0., 0., ..., 0., 0., 0.],\n",
       "        [0., 0., 0., ..., 0., 0., 0.],\n",
       "        [0., 0., 0., ..., 0., 0., 0.],\n",
       "        ...,\n",
       "        [0., 0., 0., ..., 0., 0., 0.],\n",
       "        [0., 0., 0., ..., 0., 0., 0.],\n",
       "        [0., 0., 0., ..., 0., 0., 0.]],\n",
       "\n",
       "       [[0., 0., 0., ..., 0., 0., 0.],\n",
       "        [0., 0., 0., ..., 0., 0., 0.],\n",
       "        [0., 0., 0., ..., 0., 0., 0.],\n",
       "        ...,\n",
       "        [0., 0., 0., ..., 0., 0., 0.],\n",
       "        [0., 0., 0., ..., 0., 0., 0.],\n",
       "        [0., 0., 0., ..., 0., 0., 0.]],\n",
       "\n",
       "       [[0., 0., 0., ..., 0., 0., 0.],\n",
       "        [0., 0., 0., ..., 0., 0., 0.],\n",
       "        [0., 0., 0., ..., 0., 0., 0.],\n",
       "        ...,\n",
       "        [0., 0., 0., ..., 0., 0., 0.],\n",
       "        [0., 0., 0., ..., 0., 0., 0.],\n",
       "        [0., 0., 0., ..., 0., 0., 0.]],\n",
       "\n",
       "       ...,\n",
       "\n",
       "       [[0., 0., 0., ..., 0., 0., 0.],\n",
       "        [0., 0., 0., ..., 0., 0., 0.],\n",
       "        [0., 0., 0., ..., 0., 0., 0.],\n",
       "        ...,\n",
       "        [0., 0., 0., ..., 0., 0., 0.],\n",
       "        [0., 0., 0., ..., 0., 0., 0.],\n",
       "        [0., 0., 0., ..., 0., 0., 0.]],\n",
       "\n",
       "       [[0., 0., 0., ..., 0., 0., 0.],\n",
       "        [0., 0., 0., ..., 0., 0., 0.],\n",
       "        [0., 0., 0., ..., 0., 0., 0.],\n",
       "        ...,\n",
       "        [0., 0., 0., ..., 0., 0., 0.],\n",
       "        [0., 0., 0., ..., 0., 0., 0.],\n",
       "        [0., 0., 0., ..., 0., 0., 0.]],\n",
       "\n",
       "       [[0., 0., 0., ..., 0., 0., 0.],\n",
       "        [0., 0., 0., ..., 0., 0., 0.],\n",
       "        [0., 0., 0., ..., 0., 0., 0.],\n",
       "        ...,\n",
       "        [0., 0., 0., ..., 0., 0., 0.],\n",
       "        [0., 0., 0., ..., 0., 0., 0.],\n",
       "        [0., 0., 0., ..., 0., 0., 0.]]])"
      ]
     },
     "execution_count": 12,
     "metadata": {},
     "output_type": "execute_result"
    }
   ],
   "source": [
    "tnc"
   ]
  },
  {
   "cell_type": "code",
   "execution_count": 10,
   "metadata": {},
   "outputs": [
    {
     "data": {
      "text/plain": [
       "(1, 1, 1, 721, 1440)"
      ]
     },
     "execution_count": 10,
     "metadata": {},
     "output_type": "execute_result"
    }
   ],
   "source": [
    "tnc[\"u\"].sel(isobaricInhPa=850).shape"
   ]
  },
  {
   "cell_type": "code",
   "execution_count": 11,
   "metadata": {},
   "outputs": [
    {
     "data": {
      "text/plain": [
       "(1, 1, 1, 13, 721, 1440)"
      ]
     },
     "execution_count": 11,
     "metadata": {},
     "output_type": "execute_result"
    }
   ],
   "source": [
    "tnc[\"u\"].shape"
   ]
  },
  {
   "cell_type": "code",
   "execution_count": 15,
   "metadata": {},
   "outputs": [
    {
     "name": "stdout",
     "output_type": "stream",
     "text": [
      "u10\n",
      "v10\n",
      "t2m\n",
      "sp\n",
      "msl\n",
      "tcwv\n",
      "u100\n",
      "v100\n",
      "t\n",
      "u\n",
      "v\n",
      "z\n",
      "r\n"
     ]
    }
   ],
   "source": [
    "for var in tnc:\n",
    "    print(var)"
   ]
  },
  {
   "cell_type": "code",
   "execution_count": 25,
   "metadata": {},
   "outputs": [
    {
     "data": {
      "text/plain": [
       "{'north': 90.0,\n",
       " 'south': -90.0,\n",
       " 'west': 0.0,\n",
       " 'east': 359.75,\n",
       " 'south_north_increment': 0.25,\n",
       " 'west_east_increment': 0.25,\n",
       " 'shortName': 't',\n",
       " 'units': 'K',\n",
       " 'paramId': '130',\n",
       " 'level': '1000',\n",
       " 'typeOfLevel': 'isobaricInhPa',\n",
       " 'marsClass': 'ea',\n",
       " 'marsStream': 'oper',\n",
       " 'marsType': 'an',\n",
       " 'number': '0',\n",
       " 'stepRange': '0',\n",
       " 'param': '130.128',\n",
       " 'levelist': '1000',\n",
       " 'shape': (721, 1440)}"
      ]
     },
     "execution_count": 25,
     "metadata": {},
     "output_type": "execute_result"
    }
   ],
   "source": [
    "template[8].field_metadata()"
   ]
  },
  {
   "cell_type": "code",
   "execution_count": 2,
   "metadata": {},
   "outputs": [],
   "source": [
    "dir = \"/mnt/ssd2/Master/S2S_on_SFNO/outputs/sfno/leadtime_120_startDate_202101010_createdOn_20240115T0027/\""
   ]
  },
  {
   "cell_type": "code",
   "execution_count": 3,
   "metadata": {},
   "outputs": [],
   "source": [
    "d = xr.open_dataset(dir+\"leadtime_120_startDate_202101010_createdOn_20240115T0027_step_12.nc\")"
   ]
  },
  {
   "cell_type": "code",
   "execution_count": null,
   "metadata": {},
   "outputs": [],
   "source": []
  },
  {
   "cell_type": "code",
   "execution_count": 5,
   "metadata": {},
   "outputs": [],
   "source": [
    "data = xr.open_mfdataset(dir+\"*\")"
   ]
  },
  {
   "cell_type": "code",
   "execution_count": 6,
   "metadata": {},
   "outputs": [
    {
     "name": "stdout",
     "output_type": "stream",
     "text": [
      "xarray.Dataset {\n",
      "dimensions:\n",
      "\tnumber = 1 ;\n",
      "\ttime = 1 ;\n",
      "\tstep = 20 ;\n",
      "\tsurface = 1 ;\n",
      "\tlatitude = 721 ;\n",
      "\tlongitude = 1440 ;\n",
      "\tisobaricInhPa = 13 ;\n",
      "\n",
      "variables:\n",
      "\tfloat32 u10(number, time, step, surface, latitude, longitude) ;\n",
      "\t\tu10:GRIB_paramId = 165 ;\n",
      "\t\tu10:GRIB_dataType = an ;\n",
      "\t\tu10:GRIB_numberOfPoints = 1038240 ;\n",
      "\t\tu10:GRIB_typeOfLevel = surface ;\n",
      "\t\tu10:GRIB_stepUnits = 1 ;\n",
      "\t\tu10:GRIB_stepType = instant ;\n",
      "\t\tu10:GRIB_gridType = regular_ll ;\n",
      "\t\tu10:GRIB_NV = 0 ;\n",
      "\t\tu10:GRIB_Nx = 1440 ;\n",
      "\t\tu10:GRIB_Ny = 721 ;\n",
      "\t\tu10:GRIB_cfName = unknown ;\n",
      "\t\tu10:GRIB_cfVarName = u10 ;\n",
      "\t\tu10:GRIB_gridDefinitionDescription = Latitude/Longitude Grid ;\n",
      "\t\tu10:GRIB_iDirectionIncrementInDegrees = 0.25 ;\n",
      "\t\tu10:GRIB_iScansNegatively = 0 ;\n",
      "\t\tu10:GRIB_jDirectionIncrementInDegrees = 0.25 ;\n",
      "\t\tu10:GRIB_jPointsAreConsecutive = 0 ;\n",
      "\t\tu10:GRIB_jScansPositively = 0 ;\n",
      "\t\tu10:GRIB_latitudeOfFirstGridPointInDegrees = 90.0 ;\n",
      "\t\tu10:GRIB_latitudeOfLastGridPointInDegrees = -90.0 ;\n",
      "\t\tu10:GRIB_longitudeOfFirstGridPointInDegrees = 0.0 ;\n",
      "\t\tu10:GRIB_longitudeOfLastGridPointInDegrees = 359.75 ;\n",
      "\t\tu10:GRIB_missingValue = 9999 ;\n",
      "\t\tu10:GRIB_name = 10 metre U wind component ;\n",
      "\t\tu10:GRIB_shortName = 10u ;\n",
      "\t\tu10:GRIB_totalNumber = 0 ;\n",
      "\t\tu10:GRIB_units = m s**-1 ;\n",
      "\t\tu10:long_name = 10 metre U wind component ;\n",
      "\t\tu10:units = m s**-1 ;\n",
      "\t\tu10:standard_name = unknown ;\n",
      "\tfloat32 v10(number, time, step, surface, latitude, longitude) ;\n",
      "\t\tv10:GRIB_paramId = 166 ;\n",
      "\t\tv10:GRIB_dataType = an ;\n",
      "\t\tv10:GRIB_numberOfPoints = 1038240 ;\n",
      "\t\tv10:GRIB_typeOfLevel = surface ;\n",
      "\t\tv10:GRIB_stepUnits = 1 ;\n",
      "\t\tv10:GRIB_stepType = instant ;\n",
      "\t\tv10:GRIB_gridType = regular_ll ;\n",
      "\t\tv10:GRIB_NV = 0 ;\n",
      "\t\tv10:GRIB_Nx = 1440 ;\n",
      "\t\tv10:GRIB_Ny = 721 ;\n",
      "\t\tv10:GRIB_cfName = unknown ;\n",
      "\t\tv10:GRIB_cfVarName = v10 ;\n",
      "\t\tv10:GRIB_gridDefinitionDescription = Latitude/Longitude Grid ;\n",
      "\t\tv10:GRIB_iDirectionIncrementInDegrees = 0.25 ;\n",
      "\t\tv10:GRIB_iScansNegatively = 0 ;\n",
      "\t\tv10:GRIB_jDirectionIncrementInDegrees = 0.25 ;\n",
      "\t\tv10:GRIB_jPointsAreConsecutive = 0 ;\n",
      "\t\tv10:GRIB_jScansPositively = 0 ;\n",
      "\t\tv10:GRIB_latitudeOfFirstGridPointInDegrees = 90.0 ;\n",
      "\t\tv10:GRIB_latitudeOfLastGridPointInDegrees = -90.0 ;\n",
      "\t\tv10:GRIB_longitudeOfFirstGridPointInDegrees = 0.0 ;\n",
      "\t\tv10:GRIB_longitudeOfLastGridPointInDegrees = 359.75 ;\n",
      "\t\tv10:GRIB_missingValue = 9999 ;\n",
      "\t\tv10:GRIB_name = 10 metre V wind component ;\n",
      "\t\tv10:GRIB_shortName = 10v ;\n",
      "\t\tv10:GRIB_totalNumber = 0 ;\n",
      "\t\tv10:GRIB_units = m s**-1 ;\n",
      "\t\tv10:long_name = 10 metre V wind component ;\n",
      "\t\tv10:units = m s**-1 ;\n",
      "\t\tv10:standard_name = unknown ;\n",
      "\tfloat32 u100(number, time, step, surface, latitude, longitude) ;\n",
      "\t\tu100:GRIB_paramId = 228246 ;\n",
      "\t\tu100:GRIB_dataType = an ;\n",
      "\t\tu100:GRIB_numberOfPoints = 1038240 ;\n",
      "\t\tu100:GRIB_typeOfLevel = surface ;\n",
      "\t\tu100:GRIB_stepUnits = 1 ;\n",
      "\t\tu100:GRIB_stepType = instant ;\n",
      "\t\tu100:GRIB_gridType = regular_ll ;\n",
      "\t\tu100:GRIB_NV = 0 ;\n",
      "\t\tu100:GRIB_Nx = 1440 ;\n",
      "\t\tu100:GRIB_Ny = 721 ;\n",
      "\t\tu100:GRIB_cfName = unknown ;\n",
      "\t\tu100:GRIB_cfVarName = u100 ;\n",
      "\t\tu100:GRIB_gridDefinitionDescription = Latitude/Longitude Grid ;\n",
      "\t\tu100:GRIB_iDirectionIncrementInDegrees = 0.25 ;\n",
      "\t\tu100:GRIB_iScansNegatively = 0 ;\n",
      "\t\tu100:GRIB_jDirectionIncrementInDegrees = 0.25 ;\n",
      "\t\tu100:GRIB_jPointsAreConsecutive = 0 ;\n",
      "\t\tu100:GRIB_jScansPositively = 0 ;\n",
      "\t\tu100:GRIB_latitudeOfFirstGridPointInDegrees = 90.0 ;\n",
      "\t\tu100:GRIB_latitudeOfLastGridPointInDegrees = -90.0 ;\n",
      "\t\tu100:GRIB_longitudeOfFirstGridPointInDegrees = 0.0 ;\n",
      "\t\tu100:GRIB_longitudeOfLastGridPointInDegrees = 359.75 ;\n",
      "\t\tu100:GRIB_missingValue = 9999 ;\n",
      "\t\tu100:GRIB_name = 100 metre U wind component ;\n",
      "\t\tu100:GRIB_shortName = 100u ;\n",
      "\t\tu100:GRIB_totalNumber = 0 ;\n",
      "\t\tu100:GRIB_units = m s**-1 ;\n",
      "\t\tu100:long_name = 100 metre U wind component ;\n",
      "\t\tu100:units = m s**-1 ;\n",
      "\t\tu100:standard_name = unknown ;\n",
      "\tfloat32 v100(number, time, step, surface, latitude, longitude) ;\n",
      "\t\tv100:GRIB_paramId = 228247 ;\n",
      "\t\tv100:GRIB_dataType = an ;\n",
      "\t\tv100:GRIB_numberOfPoints = 1038240 ;\n",
      "\t\tv100:GRIB_typeOfLevel = surface ;\n",
      "\t\tv100:GRIB_stepUnits = 1 ;\n",
      "\t\tv100:GRIB_stepType = instant ;\n",
      "\t\tv100:GRIB_gridType = regular_ll ;\n",
      "\t\tv100:GRIB_NV = 0 ;\n",
      "\t\tv100:GRIB_Nx = 1440 ;\n",
      "\t\tv100:GRIB_Ny = 721 ;\n",
      "\t\tv100:GRIB_cfName = unknown ;\n",
      "\t\tv100:GRIB_cfVarName = v100 ;\n",
      "\t\tv100:GRIB_gridDefinitionDescription = Latitude/Longitude Grid ;\n",
      "\t\tv100:GRIB_iDirectionIncrementInDegrees = 0.25 ;\n",
      "\t\tv100:GRIB_iScansNegatively = 0 ;\n",
      "\t\tv100:GRIB_jDirectionIncrementInDegrees = 0.25 ;\n",
      "\t\tv100:GRIB_jPointsAreConsecutive = 0 ;\n",
      "\t\tv100:GRIB_jScansPositively = 0 ;\n",
      "\t\tv100:GRIB_latitudeOfFirstGridPointInDegrees = 90.0 ;\n",
      "\t\tv100:GRIB_latitudeOfLastGridPointInDegrees = -90.0 ;\n",
      "\t\tv100:GRIB_longitudeOfFirstGridPointInDegrees = 0.0 ;\n",
      "\t\tv100:GRIB_longitudeOfLastGridPointInDegrees = 359.75 ;\n",
      "\t\tv100:GRIB_missingValue = 9999 ;\n",
      "\t\tv100:GRIB_name = 100 metre V wind component ;\n",
      "\t\tv100:GRIB_shortName = 100v ;\n",
      "\t\tv100:GRIB_totalNumber = 0 ;\n",
      "\t\tv100:GRIB_units = m s**-1 ;\n",
      "\t\tv100:long_name = 100 metre V wind component ;\n",
      "\t\tv100:units = m s**-1 ;\n",
      "\t\tv100:standard_name = unknown ;\n",
      "\tfloat32 t2m(number, time, step, surface, latitude, longitude) ;\n",
      "\t\tt2m:GRIB_paramId = 167 ;\n",
      "\t\tt2m:GRIB_dataType = an ;\n",
      "\t\tt2m:GRIB_numberOfPoints = 1038240 ;\n",
      "\t\tt2m:GRIB_typeOfLevel = surface ;\n",
      "\t\tt2m:GRIB_stepUnits = 1 ;\n",
      "\t\tt2m:GRIB_stepType = instant ;\n",
      "\t\tt2m:GRIB_gridType = regular_ll ;\n",
      "\t\tt2m:GRIB_NV = 0 ;\n",
      "\t\tt2m:GRIB_Nx = 1440 ;\n",
      "\t\tt2m:GRIB_Ny = 721 ;\n",
      "\t\tt2m:GRIB_cfName = unknown ;\n",
      "\t\tt2m:GRIB_cfVarName = t2m ;\n",
      "\t\tt2m:GRIB_gridDefinitionDescription = Latitude/Longitude Grid ;\n",
      "\t\tt2m:GRIB_iDirectionIncrementInDegrees = 0.25 ;\n",
      "\t\tt2m:GRIB_iScansNegatively = 0 ;\n",
      "\t\tt2m:GRIB_jDirectionIncrementInDegrees = 0.25 ;\n",
      "\t\tt2m:GRIB_jPointsAreConsecutive = 0 ;\n",
      "\t\tt2m:GRIB_jScansPositively = 0 ;\n",
      "\t\tt2m:GRIB_latitudeOfFirstGridPointInDegrees = 90.0 ;\n",
      "\t\tt2m:GRIB_latitudeOfLastGridPointInDegrees = -90.0 ;\n",
      "\t\tt2m:GRIB_longitudeOfFirstGridPointInDegrees = 0.0 ;\n",
      "\t\tt2m:GRIB_longitudeOfLastGridPointInDegrees = 359.75 ;\n",
      "\t\tt2m:GRIB_missingValue = 9999 ;\n",
      "\t\tt2m:GRIB_name = 2 metre temperature ;\n",
      "\t\tt2m:GRIB_shortName = 2t ;\n",
      "\t\tt2m:GRIB_totalNumber = 0 ;\n",
      "\t\tt2m:GRIB_units = K ;\n",
      "\t\tt2m:long_name = 2 metre temperature ;\n",
      "\t\tt2m:units = K ;\n",
      "\t\tt2m:standard_name = unknown ;\n",
      "\tfloat32 sp(number, time, step, surface, latitude, longitude) ;\n",
      "\t\tsp:GRIB_paramId = 134 ;\n",
      "\t\tsp:GRIB_dataType = an ;\n",
      "\t\tsp:GRIB_numberOfPoints = 1038240 ;\n",
      "\t\tsp:GRIB_typeOfLevel = surface ;\n",
      "\t\tsp:GRIB_stepUnits = 1 ;\n",
      "\t\tsp:GRIB_stepType = instant ;\n",
      "\t\tsp:GRIB_gridType = regular_ll ;\n",
      "\t\tsp:GRIB_NV = 0 ;\n",
      "\t\tsp:GRIB_Nx = 1440 ;\n",
      "\t\tsp:GRIB_Ny = 721 ;\n",
      "\t\tsp:GRIB_cfName = surface_air_pressure ;\n",
      "\t\tsp:GRIB_cfVarName = sp ;\n",
      "\t\tsp:GRIB_gridDefinitionDescription = Latitude/Longitude Grid ;\n",
      "\t\tsp:GRIB_iDirectionIncrementInDegrees = 0.25 ;\n",
      "\t\tsp:GRIB_iScansNegatively = 0 ;\n",
      "\t\tsp:GRIB_jDirectionIncrementInDegrees = 0.25 ;\n",
      "\t\tsp:GRIB_jPointsAreConsecutive = 0 ;\n",
      "\t\tsp:GRIB_jScansPositively = 0 ;\n",
      "\t\tsp:GRIB_latitudeOfFirstGridPointInDegrees = 90.0 ;\n",
      "\t\tsp:GRIB_latitudeOfLastGridPointInDegrees = -90.0 ;\n",
      "\t\tsp:GRIB_longitudeOfFirstGridPointInDegrees = 0.0 ;\n",
      "\t\tsp:GRIB_longitudeOfLastGridPointInDegrees = 359.75 ;\n",
      "\t\tsp:GRIB_missingValue = 9999 ;\n",
      "\t\tsp:GRIB_name = Surface pressure ;\n",
      "\t\tsp:GRIB_shortName = sp ;\n",
      "\t\tsp:GRIB_totalNumber = 0 ;\n",
      "\t\tsp:GRIB_units = Pa ;\n",
      "\t\tsp:long_name = Surface pressure ;\n",
      "\t\tsp:units = Pa ;\n",
      "\t\tsp:standard_name = surface_air_pressure ;\n",
      "\tfloat32 msl(number, time, step, surface, latitude, longitude) ;\n",
      "\t\tmsl:GRIB_paramId = 151 ;\n",
      "\t\tmsl:GRIB_dataType = an ;\n",
      "\t\tmsl:GRIB_numberOfPoints = 1038240 ;\n",
      "\t\tmsl:GRIB_typeOfLevel = surface ;\n",
      "\t\tmsl:GRIB_stepUnits = 1 ;\n",
      "\t\tmsl:GRIB_stepType = instant ;\n",
      "\t\tmsl:GRIB_gridType = regular_ll ;\n",
      "\t\tmsl:GRIB_NV = 0 ;\n",
      "\t\tmsl:GRIB_Nx = 1440 ;\n",
      "\t\tmsl:GRIB_Ny = 721 ;\n",
      "\t\tmsl:GRIB_cfName = air_pressure_at_mean_sea_level ;\n",
      "\t\tmsl:GRIB_cfVarName = msl ;\n",
      "\t\tmsl:GRIB_gridDefinitionDescription = Latitude/Longitude Grid ;\n",
      "\t\tmsl:GRIB_iDirectionIncrementInDegrees = 0.25 ;\n",
      "\t\tmsl:GRIB_iScansNegatively = 0 ;\n",
      "\t\tmsl:GRIB_jDirectionIncrementInDegrees = 0.25 ;\n",
      "\t\tmsl:GRIB_jPointsAreConsecutive = 0 ;\n",
      "\t\tmsl:GRIB_jScansPositively = 0 ;\n",
      "\t\tmsl:GRIB_latitudeOfFirstGridPointInDegrees = 90.0 ;\n",
      "\t\tmsl:GRIB_latitudeOfLastGridPointInDegrees = -90.0 ;\n",
      "\t\tmsl:GRIB_longitudeOfFirstGridPointInDegrees = 0.0 ;\n",
      "\t\tmsl:GRIB_longitudeOfLastGridPointInDegrees = 359.75 ;\n",
      "\t\tmsl:GRIB_missingValue = 9999 ;\n",
      "\t\tmsl:GRIB_name = Mean sea level pressure ;\n",
      "\t\tmsl:GRIB_shortName = msl ;\n",
      "\t\tmsl:GRIB_totalNumber = 0 ;\n",
      "\t\tmsl:GRIB_units = Pa ;\n",
      "\t\tmsl:long_name = Mean sea level pressure ;\n",
      "\t\tmsl:units = Pa ;\n",
      "\t\tmsl:standard_name = air_pressure_at_mean_sea_level ;\n",
      "\tfloat32 tcwv(number, time, step, surface, latitude, longitude) ;\n",
      "\t\ttcwv:GRIB_paramId = 137 ;\n",
      "\t\ttcwv:GRIB_dataType = an ;\n",
      "\t\ttcwv:GRIB_numberOfPoints = 1038240 ;\n",
      "\t\ttcwv:GRIB_typeOfLevel = surface ;\n",
      "\t\ttcwv:GRIB_stepUnits = 1 ;\n",
      "\t\ttcwv:GRIB_stepType = instant ;\n",
      "\t\ttcwv:GRIB_gridType = regular_ll ;\n",
      "\t\ttcwv:GRIB_NV = 0 ;\n",
      "\t\ttcwv:GRIB_Nx = 1440 ;\n",
      "\t\ttcwv:GRIB_Ny = 721 ;\n",
      "\t\ttcwv:GRIB_cfName = lwe_thickness_of_atmosphere_mass_content_of_water_vapor ;\n",
      "\t\ttcwv:GRIB_cfVarName = tcwv ;\n",
      "\t\ttcwv:GRIB_gridDefinitionDescription = Latitude/Longitude Grid ;\n",
      "\t\ttcwv:GRIB_iDirectionIncrementInDegrees = 0.25 ;\n",
      "\t\ttcwv:GRIB_iScansNegatively = 0 ;\n",
      "\t\ttcwv:GRIB_jDirectionIncrementInDegrees = 0.25 ;\n",
      "\t\ttcwv:GRIB_jPointsAreConsecutive = 0 ;\n",
      "\t\ttcwv:GRIB_jScansPositively = 0 ;\n",
      "\t\ttcwv:GRIB_latitudeOfFirstGridPointInDegrees = 90.0 ;\n",
      "\t\ttcwv:GRIB_latitudeOfLastGridPointInDegrees = -90.0 ;\n",
      "\t\ttcwv:GRIB_longitudeOfFirstGridPointInDegrees = 0.0 ;\n",
      "\t\ttcwv:GRIB_longitudeOfLastGridPointInDegrees = 359.75 ;\n",
      "\t\ttcwv:GRIB_missingValue = 9999 ;\n",
      "\t\ttcwv:GRIB_name = Total column vertically-integrated water vapour ;\n",
      "\t\ttcwv:GRIB_shortName = tcwv ;\n",
      "\t\ttcwv:GRIB_totalNumber = 0 ;\n",
      "\t\ttcwv:GRIB_units = kg m**-2 ;\n",
      "\t\ttcwv:long_name = Total column vertically-integrated water vapour ;\n",
      "\t\ttcwv:units = kg m**-2 ;\n",
      "\t\ttcwv:standard_name = lwe_thickness_of_atmosphere_mass_content_of_water_vapor ;\n",
      "\tfloat32 u(number, time, step, isobaricInhPa, latitude, longitude) ;\n",
      "\t\tu:GRIB_paramId = 131 ;\n",
      "\t\tu:GRIB_dataType = an ;\n",
      "\t\tu:GRIB_numberOfPoints = 1038240 ;\n",
      "\t\tu:GRIB_typeOfLevel = isobaricInhPa ;\n",
      "\t\tu:GRIB_stepUnits = 1 ;\n",
      "\t\tu:GRIB_stepType = instant ;\n",
      "\t\tu:GRIB_gridType = regular_ll ;\n",
      "\t\tu:GRIB_NV = 0 ;\n",
      "\t\tu:GRIB_Nx = 1440 ;\n",
      "\t\tu:GRIB_Ny = 721 ;\n",
      "\t\tu:GRIB_cfName = eastward_wind ;\n",
      "\t\tu:GRIB_cfVarName = u ;\n",
      "\t\tu:GRIB_gridDefinitionDescription = Latitude/Longitude Grid ;\n",
      "\t\tu:GRIB_iDirectionIncrementInDegrees = 0.25 ;\n",
      "\t\tu:GRIB_iScansNegatively = 0 ;\n",
      "\t\tu:GRIB_jDirectionIncrementInDegrees = 0.25 ;\n",
      "\t\tu:GRIB_jPointsAreConsecutive = 0 ;\n",
      "\t\tu:GRIB_jScansPositively = 0 ;\n",
      "\t\tu:GRIB_latitudeOfFirstGridPointInDegrees = 90.0 ;\n",
      "\t\tu:GRIB_latitudeOfLastGridPointInDegrees = -90.0 ;\n",
      "\t\tu:GRIB_longitudeOfFirstGridPointInDegrees = 0.0 ;\n",
      "\t\tu:GRIB_longitudeOfLastGridPointInDegrees = 359.75 ;\n",
      "\t\tu:GRIB_missingValue = 9999 ;\n",
      "\t\tu:GRIB_name = U component of wind ;\n",
      "\t\tu:GRIB_shortName = u ;\n",
      "\t\tu:GRIB_totalNumber = 0 ;\n",
      "\t\tu:GRIB_units = m s**-1 ;\n",
      "\t\tu:long_name = U component of wind ;\n",
      "\t\tu:units = m s**-1 ;\n",
      "\t\tu:standard_name = eastward_wind ;\n",
      "\tfloat32 v(number, time, step, isobaricInhPa, latitude, longitude) ;\n",
      "\t\tv:GRIB_paramId = 132 ;\n",
      "\t\tv:GRIB_dataType = an ;\n",
      "\t\tv:GRIB_numberOfPoints = 1038240 ;\n",
      "\t\tv:GRIB_typeOfLevel = isobaricInhPa ;\n",
      "\t\tv:GRIB_stepUnits = 1 ;\n",
      "\t\tv:GRIB_stepType = instant ;\n",
      "\t\tv:GRIB_gridType = regular_ll ;\n",
      "\t\tv:GRIB_NV = 0 ;\n",
      "\t\tv:GRIB_Nx = 1440 ;\n",
      "\t\tv:GRIB_Ny = 721 ;\n",
      "\t\tv:GRIB_cfName = northward_wind ;\n",
      "\t\tv:GRIB_cfVarName = v ;\n",
      "\t\tv:GRIB_gridDefinitionDescription = Latitude/Longitude Grid ;\n",
      "\t\tv:GRIB_iDirectionIncrementInDegrees = 0.25 ;\n",
      "\t\tv:GRIB_iScansNegatively = 0 ;\n",
      "\t\tv:GRIB_jDirectionIncrementInDegrees = 0.25 ;\n",
      "\t\tv:GRIB_jPointsAreConsecutive = 0 ;\n",
      "\t\tv:GRIB_jScansPositively = 0 ;\n",
      "\t\tv:GRIB_latitudeOfFirstGridPointInDegrees = 90.0 ;\n",
      "\t\tv:GRIB_latitudeOfLastGridPointInDegrees = -90.0 ;\n",
      "\t\tv:GRIB_longitudeOfFirstGridPointInDegrees = 0.0 ;\n",
      "\t\tv:GRIB_longitudeOfLastGridPointInDegrees = 359.75 ;\n",
      "\t\tv:GRIB_missingValue = 9999 ;\n",
      "\t\tv:GRIB_name = V component of wind ;\n",
      "\t\tv:GRIB_shortName = v ;\n",
      "\t\tv:GRIB_totalNumber = 0 ;\n",
      "\t\tv:GRIB_units = m s**-1 ;\n",
      "\t\tv:long_name = V component of wind ;\n",
      "\t\tv:units = m s**-1 ;\n",
      "\t\tv:standard_name = northward_wind ;\n",
      "\tfloat32 z(number, time, step, isobaricInhPa, latitude, longitude) ;\n",
      "\t\tz:GRIB_paramId = 129 ;\n",
      "\t\tz:GRIB_dataType = an ;\n",
      "\t\tz:GRIB_numberOfPoints = 1038240 ;\n",
      "\t\tz:GRIB_typeOfLevel = isobaricInhPa ;\n",
      "\t\tz:GRIB_stepUnits = 1 ;\n",
      "\t\tz:GRIB_stepType = instant ;\n",
      "\t\tz:GRIB_gridType = regular_ll ;\n",
      "\t\tz:GRIB_NV = 0 ;\n",
      "\t\tz:GRIB_Nx = 1440 ;\n",
      "\t\tz:GRIB_Ny = 721 ;\n",
      "\t\tz:GRIB_cfName = geopotential ;\n",
      "\t\tz:GRIB_cfVarName = z ;\n",
      "\t\tz:GRIB_gridDefinitionDescription = Latitude/Longitude Grid ;\n",
      "\t\tz:GRIB_iDirectionIncrementInDegrees = 0.25 ;\n",
      "\t\tz:GRIB_iScansNegatively = 0 ;\n",
      "\t\tz:GRIB_jDirectionIncrementInDegrees = 0.25 ;\n",
      "\t\tz:GRIB_jPointsAreConsecutive = 0 ;\n",
      "\t\tz:GRIB_jScansPositively = 0 ;\n",
      "\t\tz:GRIB_latitudeOfFirstGridPointInDegrees = 90.0 ;\n",
      "\t\tz:GRIB_latitudeOfLastGridPointInDegrees = -90.0 ;\n",
      "\t\tz:GRIB_longitudeOfFirstGridPointInDegrees = 0.0 ;\n",
      "\t\tz:GRIB_longitudeOfLastGridPointInDegrees = 359.75 ;\n",
      "\t\tz:GRIB_missingValue = 9999 ;\n",
      "\t\tz:GRIB_name = Geopotential ;\n",
      "\t\tz:GRIB_shortName = z ;\n",
      "\t\tz:GRIB_totalNumber = 0 ;\n",
      "\t\tz:GRIB_units = m**2 s**-2 ;\n",
      "\t\tz:long_name = Geopotential ;\n",
      "\t\tz:units = m**2 s**-2 ;\n",
      "\t\tz:standard_name = geopotential ;\n",
      "\tfloat32 t(number, time, step, isobaricInhPa, latitude, longitude) ;\n",
      "\t\tt:GRIB_paramId = 130 ;\n",
      "\t\tt:GRIB_dataType = an ;\n",
      "\t\tt:GRIB_numberOfPoints = 1038240 ;\n",
      "\t\tt:GRIB_typeOfLevel = isobaricInhPa ;\n",
      "\t\tt:GRIB_stepUnits = 1 ;\n",
      "\t\tt:GRIB_stepType = instant ;\n",
      "\t\tt:GRIB_gridType = regular_ll ;\n",
      "\t\tt:GRIB_NV = 0 ;\n",
      "\t\tt:GRIB_Nx = 1440 ;\n",
      "\t\tt:GRIB_Ny = 721 ;\n",
      "\t\tt:GRIB_cfName = air_temperature ;\n",
      "\t\tt:GRIB_cfVarName = t ;\n",
      "\t\tt:GRIB_gridDefinitionDescription = Latitude/Longitude Grid ;\n",
      "\t\tt:GRIB_iDirectionIncrementInDegrees = 0.25 ;\n",
      "\t\tt:GRIB_iScansNegatively = 0 ;\n",
      "\t\tt:GRIB_jDirectionIncrementInDegrees = 0.25 ;\n",
      "\t\tt:GRIB_jPointsAreConsecutive = 0 ;\n",
      "\t\tt:GRIB_jScansPositively = 0 ;\n",
      "\t\tt:GRIB_latitudeOfFirstGridPointInDegrees = 90.0 ;\n",
      "\t\tt:GRIB_latitudeOfLastGridPointInDegrees = -90.0 ;\n",
      "\t\tt:GRIB_longitudeOfFirstGridPointInDegrees = 0.0 ;\n",
      "\t\tt:GRIB_longitudeOfLastGridPointInDegrees = 359.75 ;\n",
      "\t\tt:GRIB_missingValue = 9999 ;\n",
      "\t\tt:GRIB_name = Temperature ;\n",
      "\t\tt:GRIB_shortName = t ;\n",
      "\t\tt:GRIB_totalNumber = 0 ;\n",
      "\t\tt:GRIB_units = K ;\n",
      "\t\tt:long_name = Temperature ;\n",
      "\t\tt:units = K ;\n",
      "\t\tt:standard_name = air_temperature ;\n",
      "\tfloat32 r(number, time, step, isobaricInhPa, latitude, longitude) ;\n",
      "\t\tr:GRIB_paramId = 157 ;\n",
      "\t\tr:GRIB_dataType = an ;\n",
      "\t\tr:GRIB_numberOfPoints = 1038240 ;\n",
      "\t\tr:GRIB_typeOfLevel = isobaricInhPa ;\n",
      "\t\tr:GRIB_stepUnits = 1 ;\n",
      "\t\tr:GRIB_stepType = instant ;\n",
      "\t\tr:GRIB_gridType = regular_ll ;\n",
      "\t\tr:GRIB_NV = 0 ;\n",
      "\t\tr:GRIB_Nx = 1440 ;\n",
      "\t\tr:GRIB_Ny = 721 ;\n",
      "\t\tr:GRIB_cfName = relative_humidity ;\n",
      "\t\tr:GRIB_cfVarName = r ;\n",
      "\t\tr:GRIB_gridDefinitionDescription = Latitude/Longitude Grid ;\n",
      "\t\tr:GRIB_iDirectionIncrementInDegrees = 0.25 ;\n",
      "\t\tr:GRIB_iScansNegatively = 0 ;\n",
      "\t\tr:GRIB_jDirectionIncrementInDegrees = 0.25 ;\n",
      "\t\tr:GRIB_jPointsAreConsecutive = 0 ;\n",
      "\t\tr:GRIB_jScansPositively = 0 ;\n",
      "\t\tr:GRIB_latitudeOfFirstGridPointInDegrees = 90.0 ;\n",
      "\t\tr:GRIB_latitudeOfLastGridPointInDegrees = -90.0 ;\n",
      "\t\tr:GRIB_longitudeOfFirstGridPointInDegrees = 0.0 ;\n",
      "\t\tr:GRIB_longitudeOfLastGridPointInDegrees = 359.75 ;\n",
      "\t\tr:GRIB_missingValue = 9999 ;\n",
      "\t\tr:GRIB_name = Relative humidity ;\n",
      "\t\tr:GRIB_shortName = r ;\n",
      "\t\tr:GRIB_totalNumber = 0 ;\n",
      "\t\tr:GRIB_units = % ;\n",
      "\t\tr:long_name = Relative humidity ;\n",
      "\t\tr:units = % ;\n",
      "\t\tr:standard_name = relative_humidity ;\n",
      "\tint64 number(number) ;\n",
      "\t\tnumber:long_name = ensemble member numerical id ;\n",
      "\t\tnumber:units = 1 ;\n",
      "\t\tnumber:standard_name = realization ;\n",
      "\tdatetime64[ns] time(time) ;\n",
      "\t\ttime:long_name = initial time of forecast ;\n",
      "\t\ttime:standard_name = forecast_reference_time ;\n",
      "\tfloat64 surface(surface) ;\n",
      "\t\tsurface:long_name = original GRIB coordinate for key: level(surface) ;\n",
      "\t\tsurface:units = 1 ;\n",
      "\tfloat64 latitude(latitude) ;\n",
      "\t\tlatitude:units = degrees_north ;\n",
      "\t\tlatitude:standard_name = latitude ;\n",
      "\t\tlatitude:long_name = latitude ;\n",
      "\t\tlatitude:stored_direction = decreasing ;\n",
      "\tfloat64 longitude(longitude) ;\n",
      "\t\tlongitude:units = degrees_east ;\n",
      "\t\tlongitude:standard_name = longitude ;\n",
      "\t\tlongitude:long_name = longitude ;\n",
      "\tdatetime64[ns] valid_time(time, step) ;\n",
      "\t\tvalid_time:standard_name = time ;\n",
      "\t\tvalid_time:long_name = time ;\n",
      "\tfloat64 isobaricInhPa(isobaricInhPa) ;\n",
      "\t\tisobaricInhPa:long_name = pressure ;\n",
      "\t\tisobaricInhPa:units = hPa ;\n",
      "\t\tisobaricInhPa:positive = down ;\n",
      "\t\tisobaricInhPa:stored_direction = decreasing ;\n",
      "\t\tisobaricInhPa:standard_name = air_pressure ;\n",
      "\ttimedelta64[ns] step(step) ;\n",
      "\n",
      "// global attributes:\n",
      "\t:GRIB_edition = 1 ;\n",
      "\t:GRIB_centre = ecmf ;\n",
      "\t:GRIB_centreDescription = European Centre for Medium-Range Weather Forecasts ;\n",
      "\t:GRIB_subCentre = 0 ;\n",
      "\t:Conventions = CF-1.7 ;\n",
      "\t:institution = European Centre for Medium-Range Weather Forecasts ;\n",
      "\t:history = 2024-01-15T00:27 GRIB to CDM+CF via cfgrib-0.9.10.4/ecCodes-2.32.0 with {\"source\": \"N/A\", \"filter_by_keys\": {}, \"encode_cf\": [\"parameter\", \"time\", \"geography\", \"vertical\"]} ;\n",
      "}"
     ]
    }
   ],
   "source": [
    "data.info()"
   ]
  },
  {
   "cell_type": "code",
   "execution_count": null,
   "metadata": {},
   "outputs": [],
   "source": []
  },
  {
   "cell_type": "code",
   "execution_count": 4,
   "metadata": {},
   "outputs": [
    {
     "name": "stderr",
     "output_type": "stream",
     "text": [
      "skipping variable: paramId==228246 shortName='u100'\n",
      "Traceback (most recent call last):\n",
      "  File \"/home/lenny/miniconda3/envs/model/lib/python3.11/site-packages/cfgrib/dataset.py\", line 680, in build_dataset_components\n",
      "    dict_merge(variables, coord_vars)\n",
      "  File \"/home/lenny/miniconda3/envs/model/lib/python3.11/site-packages/cfgrib/dataset.py\", line 611, in dict_merge\n",
      "    raise DatasetBuildError(\n",
      "cfgrib.dataset.DatasetBuildError: key present and new value is different: key='heightAboveGround' value=Variable(dimensions=(), data=10.0) new_value=Variable(dimensions=(), data=100.0)\n",
      "skipping variable: paramId==228247 shortName='v100'\n",
      "Traceback (most recent call last):\n",
      "  File \"/home/lenny/miniconda3/envs/model/lib/python3.11/site-packages/cfgrib/dataset.py\", line 680, in build_dataset_components\n",
      "    dict_merge(variables, coord_vars)\n",
      "  File \"/home/lenny/miniconda3/envs/model/lib/python3.11/site-packages/cfgrib/dataset.py\", line 611, in dict_merge\n",
      "    raise DatasetBuildError(\n",
      "cfgrib.dataset.DatasetBuildError: key present and new value is different: key='heightAboveGround' value=Variable(dimensions=(), data=10.0) new_value=Variable(dimensions=(), data=100.0)\n",
      "skipping variable: paramId==167 shortName='t2m'\n",
      "Traceback (most recent call last):\n",
      "  File \"/home/lenny/miniconda3/envs/model/lib/python3.11/site-packages/cfgrib/dataset.py\", line 680, in build_dataset_components\n",
      "    dict_merge(variables, coord_vars)\n",
      "  File \"/home/lenny/miniconda3/envs/model/lib/python3.11/site-packages/cfgrib/dataset.py\", line 611, in dict_merge\n",
      "    raise DatasetBuildError(\n",
      "cfgrib.dataset.DatasetBuildError: key present and new value is different: key='heightAboveGround' value=Variable(dimensions=(), data=10.0) new_value=Variable(dimensions=(), data=2.0)\n"
     ]
    }
   ],
   "source": [
    "dirg = \"/mnt/ssd2/Master/S2S_on_SFNO/outputs/sfno/\"\n",
    "\n",
    "gdata = xr.open_dataset(dirg+\"leadtime_120_startDate_202101010_createdOn_20240115T0006.grib\")"
   ]
  },
  {
   "cell_type": "code",
   "execution_count": 34,
   "metadata": {},
   "outputs": [
    {
     "name": "stderr",
     "output_type": "stream",
     "text": [
      "skipping variable: paramId==228246 shortName='u100'\n",
      "Traceback (most recent call last):\n",
      "  File \"/home/lenny/miniconda3/envs/model/lib/python3.11/site-packages/cfgrib/dataset.py\", line 680, in build_dataset_components\n",
      "    dict_merge(variables, coord_vars)\n",
      "  File \"/home/lenny/miniconda3/envs/model/lib/python3.11/site-packages/cfgrib/dataset.py\", line 611, in dict_merge\n",
      "    raise DatasetBuildError(\n",
      "cfgrib.dataset.DatasetBuildError: key present and new value is different: key='heightAboveGround' value=Variable(dimensions=(), data=10.0) new_value=Variable(dimensions=(), data=100.0)\n",
      "skipping variable: paramId==228247 shortName='v100'\n",
      "Traceback (most recent call last):\n",
      "  File \"/home/lenny/miniconda3/envs/model/lib/python3.11/site-packages/cfgrib/dataset.py\", line 680, in build_dataset_components\n",
      "    dict_merge(variables, coord_vars)\n",
      "  File \"/home/lenny/miniconda3/envs/model/lib/python3.11/site-packages/cfgrib/dataset.py\", line 611, in dict_merge\n",
      "    raise DatasetBuildError(\n",
      "cfgrib.dataset.DatasetBuildError: key present and new value is different: key='heightAboveGround' value=Variable(dimensions=(), data=10.0) new_value=Variable(dimensions=(), data=100.0)\n",
      "skipping variable: paramId==167 shortName='t2m'\n",
      "Traceback (most recent call last):\n",
      "  File \"/home/lenny/miniconda3/envs/model/lib/python3.11/site-packages/cfgrib/dataset.py\", line 680, in build_dataset_components\n",
      "    dict_merge(variables, coord_vars)\n",
      "  File \"/home/lenny/miniconda3/envs/model/lib/python3.11/site-packages/cfgrib/dataset.py\", line 611, in dict_merge\n",
      "    raise DatasetBuildError(\n",
      "cfgrib.dataset.DatasetBuildError: key present and new value is different: key='heightAboveGround' value=Variable(dimensions=(), data=10.0) new_value=Variable(dimensions=(), data=2.0)\n"
     ]
    }
   ],
   "source": [
    "gdata2 = xr.open_dataset(dirg+\"leadtime_120_startDate_202101010_createdOn_now.grib\")"
   ]
  },
  {
   "cell_type": "code",
   "execution_count": 9,
   "metadata": {},
   "outputs": [],
   "source": [
    "du10 = data[\"u10\"].to_numpy()"
   ]
  },
  {
   "cell_type": "code",
   "execution_count": 16,
   "metadata": {},
   "outputs": [
    {
     "data": {
      "text/plain": [
       "(20, 721, 1440)"
      ]
     },
     "execution_count": 16,
     "metadata": {},
     "output_type": "execute_result"
    }
   ],
   "source": [
    "du10 = du10.squeeze()\n",
    "du10.shape"
   ]
  },
  {
   "cell_type": "code",
   "execution_count": null,
   "metadata": {},
   "outputs": [],
   "source": []
  },
  {
   "cell_type": "code",
   "execution_count": 12,
   "metadata": {},
   "outputs": [],
   "source": [
    "gu10 = gdata[\"u10\"].to_numpy()"
   ]
  },
  {
   "cell_type": "code",
   "execution_count": 14,
   "metadata": {},
   "outputs": [
    {
     "data": {
      "text/plain": [
       "(20, 721, 1440)"
      ]
     },
     "execution_count": 14,
     "metadata": {},
     "output_type": "execute_result"
    }
   ],
   "source": [
    "gu10.shape"
   ]
  },
  {
   "cell_type": "code",
   "execution_count": 17,
   "metadata": {},
   "outputs": [
    {
     "data": {
      "text/plain": [
       "False"
      ]
     },
     "execution_count": 17,
     "metadata": {},
     "output_type": "execute_result"
    }
   ],
   "source": [
    "np.array_equal(du10,gu10)"
   ]
  },
  {
   "cell_type": "code",
   "execution_count": 18,
   "metadata": {},
   "outputs": [
    {
     "data": {
      "text/plain": [
       "array([[[-1.083533  , -1.083533  , -1.083533  , ..., -1.083533  ,\n",
       "         -1.083533  , -1.083533  ],\n",
       "        [-4.902228  , -4.8904505 , -4.868965  , ..., -4.9458427 ,\n",
       "         -4.9245863 , -4.926977  ],\n",
       "        [-5.6167903 , -5.5893126 , -5.5540485 , ..., -5.6807246 ,\n",
       "         -5.667745  , -5.6355624 ],\n",
       "        ...,\n",
       "        [-1.820684  , -1.816051  , -1.8190523 , ..., -1.8146545 ,\n",
       "         -1.8144335 , -1.8214394 ],\n",
       "        [-1.1536719 , -1.1472374 , -1.1498419 , ..., -1.1511095 ,\n",
       "         -1.1517631 , -1.1554921 ],\n",
       "        [ 1.9931746 ,  1.9931746 ,  1.9931746 , ...,  1.9931746 ,\n",
       "          1.9931746 ,  1.9931746 ]],\n",
       "\n",
       "       [[-1.0643024 , -1.0643024 , -1.0643024 , ..., -1.0643024 ,\n",
       "         -1.0643024 , -1.0643024 ],\n",
       "        [-4.4359026 , -4.4195523 , -4.4090667 , ..., -4.5048075 ,\n",
       "         -4.47919   , -4.4613767 ],\n",
       "        [-6.047192  , -6.0130844 , -5.9835596 , ..., -6.1080594 ,\n",
       "         -6.082215  , -6.049476  ],\n",
       "        ...,\n",
       "        [ 0.92769134,  0.92735803,  0.9325366 , ...,  0.9369309 ,\n",
       "          0.9404545 ,  0.92772615],\n",
       "        [ 2.2076268 ,  2.2152255 ,  2.205024  , ...,  2.2020288 ,\n",
       "          2.2075434 ,  2.2080896 ],\n",
       "        [ 4.9010916 ,  4.9010916 ,  4.9010916 , ...,  4.9010916 ,\n",
       "          4.9010916 ,  4.9010916 ]],\n",
       "\n",
       "       [[-1.0499125 , -1.0499125 , -1.0499125 , ..., -1.0499125 ,\n",
       "         -1.0499125 , -1.0499125 ],\n",
       "        [-4.4685564 , -4.4454885 , -4.443055  , ..., -4.515916  ,\n",
       "         -4.4897404 , -4.4815555 ],\n",
       "        [-6.534044  , -6.514265  , -6.4955688 , ..., -6.5938315 ,\n",
       "         -6.5618143 , -6.5476313 ],\n",
       "        ...,\n",
       "        [ 2.0535307 ,  2.053999  ,  2.0535026 , ...,  2.0542727 ,\n",
       "          2.0534253 ,  2.0511045 ],\n",
       "        [ 3.5846088 ,  3.5890057 ,  3.5773401 , ...,  3.5836444 ,\n",
       "          3.5892735 ,  3.5850701 ],\n",
       "        [ 5.881358  ,  5.881358  ,  5.881358  , ...,  5.881358  ,\n",
       "          5.881358  ,  5.881358  ]],\n",
       "\n",
       "       ...,\n",
       "\n",
       "       [[-0.23775402, -0.23775402, -0.23775402, ..., -0.23775402,\n",
       "         -0.23775402, -0.23775402],\n",
       "        [-1.9972162 , -2.0265129 , -2.0357654 , ..., -1.9897774 ,\n",
       "         -2.002121  , -2.006283  ],\n",
       "        [-3.7359633 , -3.7438383 , -3.787264  , ..., -3.6906915 ,\n",
       "         -3.7073164 , -3.7113073 ],\n",
       "        ...,\n",
       "        [ 0.8140465 ,  0.83728826,  0.8208208 , ...,  0.80819607,\n",
       "          0.8107723 ,  0.807311  ],\n",
       "        [ 2.5483072 ,  2.5588913 ,  2.5648267 , ...,  2.542104  ,\n",
       "          2.535489  ,  2.5500298 ],\n",
       "        [ 3.4760277 ,  3.4760277 ,  3.4760277 , ...,  3.4760277 ,\n",
       "          3.4760277 ,  3.4760277 ]],\n",
       "\n",
       "       [[-0.22891551, -0.22891551, -0.22891551, ..., -0.22891551,\n",
       "         -0.22891551, -0.22891551],\n",
       "        [-1.8306147 , -1.8594801 , -1.8745357 , ..., -1.8096708 ,\n",
       "         -1.8165486 , -1.8280348 ],\n",
       "        [-3.3398285 , -3.33726   , -3.386111  , ..., -3.259579  ,\n",
       "         -3.2792084 , -3.293726  ],\n",
       "        ...,\n",
       "        [ 1.2533598 ,  1.2751657 ,  1.2642438 , ...,  1.2402148 ,\n",
       "          1.2414707 ,  1.2486746 ],\n",
       "        [ 3.0658898 ,  3.0724466 ,  3.0740077 , ...,  3.057943  ,\n",
       "          3.052861  ,  3.061873  ],\n",
       "        [ 4.0214787 ,  4.0214787 ,  4.0214787 , ...,  4.0214787 ,\n",
       "          4.0214787 ,  4.0214787 ]],\n",
       "\n",
       "       [[-0.32054147, -0.32054147, -0.32054147, ..., -0.32054147,\n",
       "         -0.32054147, -0.32054147],\n",
       "        [-1.6766622 , -1.6898228 , -1.6955899 , ..., -1.6250906 ,\n",
       "         -1.640689  , -1.6653343 ],\n",
       "        [-2.8497925 , -2.8398    , -2.882029  , ..., -2.7414358 ,\n",
       "         -2.7524445 , -2.8002582 ],\n",
       "        ...,\n",
       "        [ 1.1668633 ,  1.1892834 ,  1.1858045 , ...,  1.1560508 ,\n",
       "          1.1597219 ,  1.1598288 ],\n",
       "        [ 3.0873737 ,  3.094489  ,  3.0919397 , ...,  3.0818663 ,\n",
       "          3.0739362 ,  3.08414   ],\n",
       "        [ 4.1634617 ,  4.1634617 ,  4.1634617 , ...,  4.1634617 ,\n",
       "          4.1634617 ,  4.1634617 ]]], dtype=float32)"
      ]
     },
     "execution_count": 18,
     "metadata": {},
     "output_type": "execute_result"
    }
   ],
   "source": [
    "du10"
   ]
  },
  {
   "cell_type": "code",
   "execution_count": 19,
   "metadata": {},
   "outputs": [
    {
     "data": {
      "text/plain": [
       "array([[[-1.0788116 , -1.0788116 , -1.0788116 , ..., -1.0788116 ,\n",
       "         -1.0788116 , -1.0788116 ],\n",
       "        [-4.9049835 , -4.890335  , -4.886429  , ..., -4.945999  ,\n",
       "         -4.919632  , -4.924515  ],\n",
       "        [-5.6168976 , -5.5944366 , -5.555374  , ..., -5.664749  ,\n",
       "         -5.6657257 , -5.645218  ],\n",
       "        ...,\n",
       "        [-1.8209991 , -1.8180695 , -1.8122101 , ..., -1.8151398 ,\n",
       "         -1.8200226 , -1.8209991 ],\n",
       "        [-1.1501007 , -1.1510773 , -1.1520538 , ..., -1.154007  ,\n",
       "         -1.1501007 , -1.1481476 ],\n",
       "        [ 1.9954071 ,  1.9954071 ,  1.9954071 , ...,  1.9954071 ,\n",
       "          1.9954071 ,  1.9954071 ]],\n",
       "\n",
       "       [[-1.0440674 , -1.0440674 , -1.0440674 , ..., -1.0440674 ,\n",
       "         -1.0440674 , -1.0440674 ],\n",
       "        [-4.437622  , -4.415161  , -4.404419  , ..., -4.5108643 ,\n",
       "         -4.475708  , -4.4639893 ],\n",
       "        [-6.045044  , -6.0264893 , -5.984497  , ..., -6.100708  ,\n",
       "         -6.0821533 , -6.0684814 ],\n",
       "        ...,\n",
       "        [ 0.9256592 ,  0.93444824,  0.93933105, ...,  0.9334717 ,\n",
       "          0.92663574,  0.9295654 ],\n",
       "        [ 2.2127686 ,  2.2078857 ,  2.204956  , ...,  2.2088623 ,\n",
       "          2.2108154 ,  2.2166748 ],\n",
       "        [ 4.8934326 ,  4.8934326 ,  4.8934326 , ...,  4.8934326 ,\n",
       "          4.8934326 ,  4.8934326 ]],\n",
       "\n",
       "       [[-1.0507107 , -1.0507107 , -1.0507107 , ..., -1.0507107 ,\n",
       "         -1.0507107 , -1.0507107 ],\n",
       "        [-4.467703  , -4.4393826 , -4.4442654 , ..., -4.523367  ,\n",
       "         -4.5067654 , -4.490164  ],\n",
       "        [-6.5399685 , -6.507742  , -6.496023  , ..., -6.5819607 ,\n",
       "         -6.568289  , -6.5575466 ],\n",
       "        ...,\n",
       "        [ 2.0479221 ,  2.059641  ,  2.061594  , ...,  2.0537815 ,\n",
       "          2.045969  ,  2.0488987 ],\n",
       "        [ 3.5879612 ,  3.5830784 ,  3.5791721 , ...,  3.592844  ,\n",
       "          3.5918674 ,  3.5899143 ],\n",
       "        [ 5.88093   ,  5.88093   ,  5.88093   , ...,  5.88093   ,\n",
       "          5.88093   ,  5.88093   ]],\n",
       "\n",
       "       ...,\n",
       "\n",
       "       [[-0.21351814, -0.21351814, -0.21351814, ..., -0.21351814,\n",
       "         -0.21351814, -0.21351814],\n",
       "        [-2.0269947 , -2.0260181 , -2.0367603 , ..., -1.9976978 ,\n",
       "         -2.0006275 , -2.0035572 ],\n",
       "        [-3.7379322 , -3.7594166 , -3.7916431 , ..., -3.6930103 ,\n",
       "         -3.6822681 , -3.7193775 ],\n",
       "        ...,\n",
       "        [ 0.82847404,  0.8216381 ,  0.8216381 , ...,  0.819685  ,\n",
       "          0.8118725 ,  0.82359123],\n",
       "        [ 2.5638256 ,  2.5657787 ,  2.5648022 , ...,  2.5648022 ,\n",
       "          2.5482006 ,  2.55406   ],\n",
       "        [ 3.4886303 ,  3.4886303 ,  3.4886303 , ...,  3.4886303 ,\n",
       "          3.4886303 ,  3.4886303 ]],\n",
       "\n",
       "       [[-0.20448685, -0.20448685, -0.20448685, ..., -0.20448685,\n",
       "         -0.20448685, -0.20448685],\n",
       "        [-1.840229  , -1.8412056 , -1.8763618 , ..., -1.8109322 ,\n",
       "         -1.824604  , -1.8363228 ],\n",
       "        [-3.3431587 , -3.355854  , -3.3822212 , ..., -3.2435493 ,\n",
       "         -3.2591743 , -3.307026  ],\n",
       "        ...,\n",
       "        [ 1.2593803 ,  1.2544975 ,  1.2574272 , ...,  1.246685  ,\n",
       "          1.246685  ,  1.2574272 ],\n",
       "        [ 3.072857  ,  3.0718803 ,  3.066021  , ...,  3.0689507 ,\n",
       "          3.052349  ,  3.0640678 ],\n",
       "        [ 4.038677  ,  4.038677  ,  4.038677  , ...,  4.038677  ,\n",
       "          4.038677  ,  4.038677  ]],\n",
       "\n",
       "       [[-0.31253815, -0.31253815, -0.31253815, ..., -0.31253815,\n",
       "         -0.31253815, -0.31253815],\n",
       "        [-1.6680069 , -1.6807022 , -1.708046  , ..., -1.6289444 ,\n",
       "         -1.6465225 , -1.6562881 ],\n",
       "        [-2.8359756 , -2.8564835 , -2.8984756 , ..., -2.73246   ,\n",
       "         -2.761757  , -2.801796  ],\n",
       "        ...,\n",
       "        [ 1.1718369 ,  1.1718369 ,  1.1776962 , ...,  1.1562119 ,\n",
       "          1.1532822 ,  1.1601181 ],\n",
       "        [ 3.097618  ,  3.095665  ,  3.0907822 , ...,  3.0937119 ,\n",
       "          3.0761337 ,  3.0927353 ],\n",
       "        [ 4.180626  ,  4.180626  ,  4.180626  , ...,  4.180626  ,\n",
       "          4.180626  ,  4.180626  ]]], dtype=float32)"
      ]
     },
     "execution_count": 19,
     "metadata": {},
     "output_type": "execute_result"
    }
   ],
   "source": [
    "gu10"
   ]
  },
  {
   "cell_type": "code",
   "execution_count": 23,
   "metadata": {},
   "outputs": [
    {
     "ename": "KeyError",
     "evalue": "\"not all values found in index 'step'\"",
     "output_type": "error",
     "traceback": [
      "\u001b[0;31m---------------------------------------------------------------------------\u001b[0m",
      "\u001b[0;31mKeyError\u001b[0m                                  Traceback (most recent call last)",
      "Cell \u001b[0;32mIn[23], line 1\u001b[0m\n\u001b[0;32m----> 1\u001b[0m \u001b[43mgdata\u001b[49m\u001b[43m[\u001b[49m\u001b[38;5;124;43m\"\u001b[39;49m\u001b[38;5;124;43mu10\u001b[39;49m\u001b[38;5;124;43m\"\u001b[39;49m\u001b[43m]\u001b[49m\u001b[38;5;241;43m.\u001b[39;49m\u001b[43msel\u001b[49m\u001b[43m(\u001b[49m\u001b[43mstep\u001b[49m\u001b[38;5;241;43m=\u001b[39;49m\u001b[43m[\u001b[49m\u001b[43mnp\u001b[49m\u001b[38;5;241;43m.\u001b[39;49m\u001b[43mtimedelta64\u001b[49m\u001b[43m(\u001b[49m\u001b[38;5;241;43m2\u001b[39;49m\u001b[38;5;241;43m*\u001b[39;49m\u001b[38;5;241;43m60\u001b[39;49m\u001b[38;5;241;43m*\u001b[39;49m\u001b[38;5;241;43m60\u001b[39;49m\u001b[38;5;241;43m*\u001b[39;49m\u001b[38;5;241;43m10\u001b[39;49m\u001b[38;5;241;43m*\u001b[39;49m\u001b[38;5;241;43m*\u001b[39;49m\u001b[38;5;241;43m9\u001b[39;49m\u001b[43m,\u001b[49m\u001b[43m \u001b[49m\u001b[38;5;124;43m'\u001b[39;49m\u001b[38;5;124;43mns\u001b[39;49m\u001b[38;5;124;43m'\u001b[39;49m\u001b[43m)\u001b[49m\u001b[43m]\u001b[49m\u001b[43m)\u001b[49m\u001b[38;5;241m.\u001b[39mto_numpy()\n",
      "File \u001b[0;32m~/miniconda3/envs/model/lib/python3.11/site-packages/xarray/core/dataarray.py:1617\u001b[0m, in \u001b[0;36mDataArray.sel\u001b[0;34m(self, indexers, method, tolerance, drop, **indexers_kwargs)\u001b[0m\n\u001b[1;32m   1501\u001b[0m \u001b[38;5;28;01mdef\u001b[39;00m \u001b[38;5;21msel\u001b[39m(\n\u001b[1;32m   1502\u001b[0m     \u001b[38;5;28mself\u001b[39m,\n\u001b[1;32m   1503\u001b[0m     indexers: Mapping[Any, Any] \u001b[38;5;241m|\u001b[39m \u001b[38;5;28;01mNone\u001b[39;00m \u001b[38;5;241m=\u001b[39m \u001b[38;5;28;01mNone\u001b[39;00m,\n\u001b[0;32m   (...)\u001b[0m\n\u001b[1;32m   1507\u001b[0m     \u001b[38;5;241m*\u001b[39m\u001b[38;5;241m*\u001b[39mindexers_kwargs: Any,\n\u001b[1;32m   1508\u001b[0m ) \u001b[38;5;241m-\u001b[39m\u001b[38;5;241m>\u001b[39m Self:\n\u001b[1;32m   1509\u001b[0m \u001b[38;5;250m    \u001b[39m\u001b[38;5;124;03m\"\"\"Return a new DataArray whose data is given by selecting index\u001b[39;00m\n\u001b[1;32m   1510\u001b[0m \u001b[38;5;124;03m    labels along the specified dimension(s).\u001b[39;00m\n\u001b[1;32m   1511\u001b[0m \n\u001b[0;32m   (...)\u001b[0m\n\u001b[1;32m   1615\u001b[0m \u001b[38;5;124;03m    Dimensions without coordinates: points\u001b[39;00m\n\u001b[1;32m   1616\u001b[0m \u001b[38;5;124;03m    \"\"\"\u001b[39;00m\n\u001b[0;32m-> 1617\u001b[0m     ds \u001b[38;5;241m=\u001b[39m \u001b[38;5;28;43mself\u001b[39;49m\u001b[38;5;241;43m.\u001b[39;49m\u001b[43m_to_temp_dataset\u001b[49m\u001b[43m(\u001b[49m\u001b[43m)\u001b[49m\u001b[38;5;241;43m.\u001b[39;49m\u001b[43msel\u001b[49m\u001b[43m(\u001b[49m\n\u001b[1;32m   1618\u001b[0m \u001b[43m        \u001b[49m\u001b[43mindexers\u001b[49m\u001b[38;5;241;43m=\u001b[39;49m\u001b[43mindexers\u001b[49m\u001b[43m,\u001b[49m\n\u001b[1;32m   1619\u001b[0m \u001b[43m        \u001b[49m\u001b[43mdrop\u001b[49m\u001b[38;5;241;43m=\u001b[39;49m\u001b[43mdrop\u001b[49m\u001b[43m,\u001b[49m\n\u001b[1;32m   1620\u001b[0m \u001b[43m        \u001b[49m\u001b[43mmethod\u001b[49m\u001b[38;5;241;43m=\u001b[39;49m\u001b[43mmethod\u001b[49m\u001b[43m,\u001b[49m\n\u001b[1;32m   1621\u001b[0m \u001b[43m        \u001b[49m\u001b[43mtolerance\u001b[49m\u001b[38;5;241;43m=\u001b[39;49m\u001b[43mtolerance\u001b[49m\u001b[43m,\u001b[49m\n\u001b[1;32m   1622\u001b[0m \u001b[43m        \u001b[49m\u001b[38;5;241;43m*\u001b[39;49m\u001b[38;5;241;43m*\u001b[39;49m\u001b[43mindexers_kwargs\u001b[49m\u001b[43m,\u001b[49m\n\u001b[1;32m   1623\u001b[0m \u001b[43m    \u001b[49m\u001b[43m)\u001b[49m\n\u001b[1;32m   1624\u001b[0m     \u001b[38;5;28;01mreturn\u001b[39;00m \u001b[38;5;28mself\u001b[39m\u001b[38;5;241m.\u001b[39m_from_temp_dataset(ds)\n",
      "File \u001b[0;32m~/miniconda3/envs/model/lib/python3.11/site-packages/xarray/core/dataset.py:3074\u001b[0m, in \u001b[0;36mDataset.sel\u001b[0;34m(self, indexers, method, tolerance, drop, **indexers_kwargs)\u001b[0m\n\u001b[1;32m   3006\u001b[0m \u001b[38;5;250m\u001b[39m\u001b[38;5;124;03m\"\"\"Returns a new dataset with each array indexed by tick labels\u001b[39;00m\n\u001b[1;32m   3007\u001b[0m \u001b[38;5;124;03malong the specified dimension(s).\u001b[39;00m\n\u001b[1;32m   3008\u001b[0m \n\u001b[0;32m   (...)\u001b[0m\n\u001b[1;32m   3071\u001b[0m \n\u001b[1;32m   3072\u001b[0m \u001b[38;5;124;03m\"\"\"\u001b[39;00m\n\u001b[1;32m   3073\u001b[0m indexers \u001b[38;5;241m=\u001b[39m either_dict_or_kwargs(indexers, indexers_kwargs, \u001b[38;5;124m\"\u001b[39m\u001b[38;5;124msel\u001b[39m\u001b[38;5;124m\"\u001b[39m)\n\u001b[0;32m-> 3074\u001b[0m query_results \u001b[38;5;241m=\u001b[39m \u001b[43mmap_index_queries\u001b[49m\u001b[43m(\u001b[49m\n\u001b[1;32m   3075\u001b[0m \u001b[43m    \u001b[49m\u001b[38;5;28;43mself\u001b[39;49m\u001b[43m,\u001b[49m\u001b[43m \u001b[49m\u001b[43mindexers\u001b[49m\u001b[38;5;241;43m=\u001b[39;49m\u001b[43mindexers\u001b[49m\u001b[43m,\u001b[49m\u001b[43m \u001b[49m\u001b[43mmethod\u001b[49m\u001b[38;5;241;43m=\u001b[39;49m\u001b[43mmethod\u001b[49m\u001b[43m,\u001b[49m\u001b[43m \u001b[49m\u001b[43mtolerance\u001b[49m\u001b[38;5;241;43m=\u001b[39;49m\u001b[43mtolerance\u001b[49m\n\u001b[1;32m   3076\u001b[0m \u001b[43m\u001b[49m\u001b[43m)\u001b[49m\n\u001b[1;32m   3078\u001b[0m \u001b[38;5;28;01mif\u001b[39;00m drop:\n\u001b[1;32m   3079\u001b[0m     no_scalar_variables \u001b[38;5;241m=\u001b[39m {}\n",
      "File \u001b[0;32m~/miniconda3/envs/model/lib/python3.11/site-packages/xarray/core/indexing.py:193\u001b[0m, in \u001b[0;36mmap_index_queries\u001b[0;34m(obj, indexers, method, tolerance, **indexers_kwargs)\u001b[0m\n\u001b[1;32m    191\u001b[0m         results\u001b[38;5;241m.\u001b[39mappend(IndexSelResult(labels))\n\u001b[1;32m    192\u001b[0m     \u001b[38;5;28;01melse\u001b[39;00m:\n\u001b[0;32m--> 193\u001b[0m         results\u001b[38;5;241m.\u001b[39mappend(\u001b[43mindex\u001b[49m\u001b[38;5;241;43m.\u001b[39;49m\u001b[43msel\u001b[49m\u001b[43m(\u001b[49m\u001b[43mlabels\u001b[49m\u001b[43m,\u001b[49m\u001b[43m \u001b[49m\u001b[38;5;241;43m*\u001b[39;49m\u001b[38;5;241;43m*\u001b[39;49m\u001b[43moptions\u001b[49m\u001b[43m)\u001b[49m)\n\u001b[1;32m    195\u001b[0m merged \u001b[38;5;241m=\u001b[39m merge_sel_results(results)\n\u001b[1;32m    197\u001b[0m \u001b[38;5;66;03m# drop dimension coordinates found in dimension indexers\u001b[39;00m\n\u001b[1;32m    198\u001b[0m \u001b[38;5;66;03m# (also drop multi-index if any)\u001b[39;00m\n\u001b[1;32m    199\u001b[0m \u001b[38;5;66;03m# (.sel() already ensures alignment)\u001b[39;00m\n",
      "File \u001b[0;32m~/miniconda3/envs/model/lib/python3.11/site-packages/xarray/core/indexes.py:784\u001b[0m, in \u001b[0;36mPandasIndex.sel\u001b[0;34m(self, labels, method, tolerance)\u001b[0m\n\u001b[1;32m    782\u001b[0m     indexer \u001b[38;5;241m=\u001b[39m get_indexer_nd(\u001b[38;5;28mself\u001b[39m\u001b[38;5;241m.\u001b[39mindex, label_array, method, tolerance)\n\u001b[1;32m    783\u001b[0m     \u001b[38;5;28;01mif\u001b[39;00m np\u001b[38;5;241m.\u001b[39many(indexer \u001b[38;5;241m<\u001b[39m \u001b[38;5;241m0\u001b[39m):\n\u001b[0;32m--> 784\u001b[0m         \u001b[38;5;28;01mraise\u001b[39;00m \u001b[38;5;167;01mKeyError\u001b[39;00m(\u001b[38;5;124mf\u001b[39m\u001b[38;5;124m\"\u001b[39m\u001b[38;5;124mnot all values found in index \u001b[39m\u001b[38;5;132;01m{\u001b[39;00mcoord_name\u001b[38;5;132;01m!r}\u001b[39;00m\u001b[38;5;124m\"\u001b[39m)\n\u001b[1;32m    786\u001b[0m \u001b[38;5;66;03m# attach dimension names and/or coordinates to positional indexer\u001b[39;00m\n\u001b[1;32m    787\u001b[0m \u001b[38;5;28;01mif\u001b[39;00m \u001b[38;5;28misinstance\u001b[39m(label, Variable):\n",
      "\u001b[0;31mKeyError\u001b[0m: \"not all values found in index 'step'\""
     ]
    }
   ],
   "source": [
    "gdata[\"u10\"].sel(step=[np.timedelta64(2*60*60*10**9, 'ns')]).to_numpy()"
   ]
  },
  {
   "cell_type": "code",
   "execution_count": 37,
   "metadata": {},
   "outputs": [
    {
     "data": {
      "text/plain": [
       "array([[-1.0788116, -1.0788116, -1.0788116, ..., -1.0788116, -1.0788116,\n",
       "        -1.0788116],\n",
       "       [-4.9049835, -4.890335 , -4.886429 , ..., -4.945999 , -4.919632 ,\n",
       "        -4.924515 ],\n",
       "       [-5.6168976, -5.5944366, -5.555374 , ..., -5.664749 , -5.6657257,\n",
       "        -5.645218 ],\n",
       "       ...,\n",
       "       [-1.8209991, -1.8180695, -1.8122101, ..., -1.8151398, -1.8200226,\n",
       "        -1.8209991],\n",
       "       [-1.1501007, -1.1510773, -1.1520538, ..., -1.154007 , -1.1501007,\n",
       "        -1.1481476],\n",
       "       [ 1.9954071,  1.9954071,  1.9954071, ...,  1.9954071,  1.9954071,\n",
       "         1.9954071]], dtype=float32)"
      ]
     },
     "execution_count": 37,
     "metadata": {},
     "output_type": "execute_result"
    }
   ],
   "source": [
    "gdata[\"u10\"].sel(step='6:0:0').to_numpy()"
   ]
  },
  {
   "cell_type": "code",
   "execution_count": 36,
   "metadata": {},
   "outputs": [
    {
     "data": {
      "text/plain": [
       "array([[-1.0837784, -1.0837784, -1.0837784, ..., -1.0837784, -1.0837784,\n",
       "        -1.0837784],\n",
       "       [-4.9021378, -4.890419 , -4.8689346, ..., -4.946083 , -4.9245987,\n",
       "        -4.926552 ],\n",
       "       [-5.6169815, -5.5896378, -5.5544815, ..., -5.680458 , -5.6677628,\n",
       "        -5.635536 ],\n",
       "       ...,\n",
       "       [-1.8210831, -1.8162003, -1.81913  , ..., -1.8142471, -1.8142471,\n",
       "        -1.8210831],\n",
       "       [-1.1540909, -1.147255 , -1.1501846, ..., -1.1511612, -1.1521378,\n",
       "        -1.1550674],\n",
       "       [ 1.99337  ,  1.99337  ,  1.99337  , ...,  1.99337  ,  1.99337  ,\n",
       "         1.99337  ]], dtype=float32)"
      ]
     },
     "execution_count": 36,
     "metadata": {},
     "output_type": "execute_result"
    }
   ],
   "source": [
    "gdata2[\"u10\"].sel(step='6:0:0').to_numpy()"
   ]
  },
  {
   "cell_type": "code",
   "execution_count": 33,
   "metadata": {},
   "outputs": [
    {
     "data": {
      "text/plain": [
       "array([[[[[-1.083533 , -1.083533 , -1.083533 , ..., -1.083533 ,\n",
       "           -1.083533 , -1.083533 ],\n",
       "          [-4.902228 , -4.8904505, -4.868965 , ..., -4.9458427,\n",
       "           -4.9245863, -4.926977 ],\n",
       "          [-5.6167903, -5.5893126, -5.5540485, ..., -5.6807246,\n",
       "           -5.667745 , -5.6355624],\n",
       "          ...,\n",
       "          [-1.820684 , -1.816051 , -1.8190523, ..., -1.8146545,\n",
       "           -1.8144335, -1.8214394],\n",
       "          [-1.1536719, -1.1472374, -1.1498419, ..., -1.1511095,\n",
       "           -1.1517631, -1.1554921],\n",
       "          [ 1.9931746,  1.9931746,  1.9931746, ...,  1.9931746,\n",
       "            1.9931746,  1.9931746]]]]], dtype=float32)"
      ]
     },
     "execution_count": 33,
     "metadata": {},
     "output_type": "execute_result"
    }
   ],
   "source": [
    "data[\"u10\"].sel(step=\"6:0:0\").to_numpy()"
   ]
  },
  {
   "cell_type": "code",
   "execution_count": 39,
   "metadata": {},
   "outputs": [
    {
     "data": {
      "text/plain": [
       "False"
      ]
     },
     "execution_count": 39,
     "metadata": {},
     "output_type": "execute_result"
    }
   ],
   "source": [
    "np.array_equal(gu10.round(2),du10.round(2))"
   ]
  },
  {
   "cell_type": "code",
   "execution_count": 41,
   "metadata": {},
   "outputs": [],
   "source": [
    "mask = gu10.round(2) == du10.round(2)\n"
   ]
  },
  {
   "cell_type": "code",
   "execution_count": 46,
   "metadata": {},
   "outputs": [
    {
     "data": {
      "text/plain": [
       "array([[[ True,  True,  True, ...,  True,  True,  True],\n",
       "        [ True,  True, False, ...,  True,  True, False],\n",
       "        [ True,  True, False, ..., False,  True, False],\n",
       "        ...,\n",
       "        [ True,  True, False, ..., False, False,  True],\n",
       "        [ True,  True,  True, ...,  True,  True, False],\n",
       "        [False, False, False, ..., False, False, False]],\n",
       "\n",
       "       [[False, False, False, ..., False, False, False],\n",
       "        [ True,  True, False, ..., False,  True,  True],\n",
       "        [ True, False,  True, ..., False,  True, False],\n",
       "        ...,\n",
       "        [ True,  True, False, ..., False, False,  True],\n",
       "        [ True, False, False, ..., False,  True, False],\n",
       "        [False, False, False, ..., False, False, False]],\n",
       "\n",
       "       [[ True,  True,  True, ...,  True,  True,  True],\n",
       "        [ True, False,  True, ...,  True, False, False],\n",
       "        [False,  True,  True, ..., False, False, False],\n",
       "        ...,\n",
       "        [ True, False, False, ...,  True,  True,  True],\n",
       "        [False, False,  True, ..., False,  True,  True],\n",
       "        [ True,  True,  True, ...,  True,  True,  True]],\n",
       "\n",
       "       ...,\n",
       "\n",
       "       [[False, False, False, ..., False, False, False],\n",
       "        [False,  True,  True, ..., False,  True, False],\n",
       "        [ True, False,  True, ...,  True, False, False],\n",
       "        ...,\n",
       "        [False, False,  True, ..., False,  True, False],\n",
       "        [False, False,  True, ..., False, False,  True],\n",
       "        [False, False, False, ..., False, False, False]],\n",
       "\n",
       "       [[False, False, False, ..., False, False, False],\n",
       "        [False, False, False, ...,  True,  True, False],\n",
       "        [ True, False, False, ..., False, False, False],\n",
       "        ...,\n",
       "        [False, False,  True, ..., False, False, False],\n",
       "        [ True,  True,  True, ..., False,  True,  True],\n",
       "        [False, False, False, ..., False, False, False]],\n",
       "\n",
       "       [[False, False, False, ..., False, False, False],\n",
       "        [False, False, False, ...,  True, False, False],\n",
       "        [False, False, False, ..., False, False,  True],\n",
       "        ...,\n",
       "        [ True, False, False, ...,  True, False,  True],\n",
       "        [False, False,  True, ..., False, False, False],\n",
       "        [False, False, False, ..., False, False, False]]])"
      ]
     },
     "execution_count": 46,
     "metadata": {},
     "output_type": "execute_result"
    }
   ],
   "source": [
    "mask"
   ]
  },
  {
   "cell_type": "code",
   "execution_count": 48,
   "metadata": {},
   "outputs": [
    {
     "data": {
      "text/plain": [
       "array([-4.886429 , -4.8336945, -4.789749 , ...,  4.180626 ,  4.180626 ,\n",
       "        4.180626 ], dtype=float32)"
      ]
     },
     "execution_count": 48,
     "metadata": {},
     "output_type": "execute_result"
    }
   ],
   "source": [
    "gu10[np.invert(mask)]"
   ]
  },
  {
   "cell_type": "code",
   "execution_count": 49,
   "metadata": {},
   "outputs": [
    {
     "data": {
      "text/plain": [
       "array([-4.868965 , -4.8415394, -4.7999682, ...,  4.1634617,  4.1634617,\n",
       "        4.1634617], dtype=float32)"
      ]
     },
     "execution_count": 49,
     "metadata": {},
     "output_type": "execute_result"
    }
   ],
   "source": [
    "du10[np.invert(mask)]"
   ]
  },
  {
   "cell_type": "code",
   "execution_count": 45,
   "metadata": {},
   "outputs": [
    {
     "data": {
      "text/plain": [
       "array([[[-1.08, -1.08, -1.08, ..., -1.08, -1.08, -1.08],\n",
       "        [-4.9 , -4.89, -4.87, ..., -4.95, -4.92, -4.93],\n",
       "        [-5.62, -5.59, -5.55, ..., -5.68, -5.67, -5.64],\n",
       "        ...,\n",
       "        [-1.82, -1.82, -1.82, ..., -1.81, -1.81, -1.82],\n",
       "        [-1.15, -1.15, -1.15, ..., -1.15, -1.15, -1.16],\n",
       "        [ 1.99,  1.99,  1.99, ...,  1.99,  1.99,  1.99]],\n",
       "\n",
       "       [[-1.06, -1.06, -1.06, ..., -1.06, -1.06, -1.06],\n",
       "        [-4.44, -4.42, -4.41, ..., -4.5 , -4.48, -4.46],\n",
       "        [-6.05, -6.01, -5.98, ..., -6.11, -6.08, -6.05],\n",
       "        ...,\n",
       "        [ 0.93,  0.93,  0.93, ...,  0.94,  0.94,  0.93],\n",
       "        [ 2.21,  2.22,  2.21, ...,  2.2 ,  2.21,  2.21],\n",
       "        [ 4.9 ,  4.9 ,  4.9 , ...,  4.9 ,  4.9 ,  4.9 ]],\n",
       "\n",
       "       [[-1.05, -1.05, -1.05, ..., -1.05, -1.05, -1.05],\n",
       "        [-4.47, -4.45, -4.44, ..., -4.52, -4.49, -4.48],\n",
       "        [-6.53, -6.51, -6.5 , ..., -6.59, -6.56, -6.55],\n",
       "        ...,\n",
       "        [ 2.05,  2.05,  2.05, ...,  2.05,  2.05,  2.05],\n",
       "        [ 3.58,  3.59,  3.58, ...,  3.58,  3.59,  3.59],\n",
       "        [ 5.88,  5.88,  5.88, ...,  5.88,  5.88,  5.88]],\n",
       "\n",
       "       ...,\n",
       "\n",
       "       [[-0.24, -0.24, -0.24, ..., -0.24, -0.24, -0.24],\n",
       "        [-2.  , -2.03, -2.04, ..., -1.99, -2.  , -2.01],\n",
       "        [-3.74, -3.74, -3.79, ..., -3.69, -3.71, -3.71],\n",
       "        ...,\n",
       "        [ 0.81,  0.84,  0.82, ...,  0.81,  0.81,  0.81],\n",
       "        [ 2.55,  2.56,  2.56, ...,  2.54,  2.54,  2.55],\n",
       "        [ 3.48,  3.48,  3.48, ...,  3.48,  3.48,  3.48]],\n",
       "\n",
       "       [[-0.23, -0.23, -0.23, ..., -0.23, -0.23, -0.23],\n",
       "        [-1.83, -1.86, -1.87, ..., -1.81, -1.82, -1.83],\n",
       "        [-3.34, -3.34, -3.39, ..., -3.26, -3.28, -3.29],\n",
       "        ...,\n",
       "        [ 1.25,  1.28,  1.26, ...,  1.24,  1.24,  1.25],\n",
       "        [ 3.07,  3.07,  3.07, ...,  3.06,  3.05,  3.06],\n",
       "        [ 4.02,  4.02,  4.02, ...,  4.02,  4.02,  4.02]],\n",
       "\n",
       "       [[-0.32, -0.32, -0.32, ..., -0.32, -0.32, -0.32],\n",
       "        [-1.68, -1.69, -1.7 , ..., -1.63, -1.64, -1.67],\n",
       "        [-2.85, -2.84, -2.88, ..., -2.74, -2.75, -2.8 ],\n",
       "        ...,\n",
       "        [ 1.17,  1.19,  1.19, ...,  1.16,  1.16,  1.16],\n",
       "        [ 3.09,  3.09,  3.09, ...,  3.08,  3.07,  3.08],\n",
       "        [ 4.16,  4.16,  4.16, ...,  4.16,  4.16,  4.16]]], dtype=float32)"
      ]
     },
     "execution_count": 45,
     "metadata": {},
     "output_type": "execute_result"
    }
   ],
   "source": [
    "du10.round(2)"
   ]
  },
  {
   "cell_type": "code",
   "execution_count": 50,
   "metadata": {},
   "outputs": [],
   "source": [
    "data.to_netcdf(dirg+\"combinded.nc\")"
   ]
  },
  {
   "cell_type": "code",
   "execution_count": 51,
   "metadata": {},
   "outputs": [
    {
     "data": {
      "text/plain": [
       "6000"
      ]
     },
     "execution_count": 51,
     "metadata": {},
     "output_type": "execute_result"
    }
   ],
   "source": [
    "20*300"
   ]
  },
  {
   "cell_type": "code",
   "execution_count": null,
   "metadata": {},
   "outputs": [],
   "source": []
  }
 ],
 "metadata": {
  "kernelspec": {
   "display_name": "Python 3 (ipykernel)",
   "language": "python",
   "name": "python3"
  },
  "language_info": {
   "codemirror_mode": {
    "name": "ipython",
    "version": 3
   },
   "file_extension": ".py",
   "mimetype": "text/x-python",
   "name": "python",
   "nbconvert_exporter": "python",
   "pygments_lexer": "ipython3",
   "version": "3.11.6"
  }
 },
 "nbformat": 4,
 "nbformat_minor": 4
}
