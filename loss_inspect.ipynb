{
 "cells": [
  {
   "cell_type": "code",
   "execution_count": 1,
   "id": "ecac749a-5040-455b-b0fb-40277ac00270",
   "metadata": {},
   "outputs": [],
   "source": [
    "from S2S_on_SFNO.Models.losses import L2Sphere, L2Sphere_noSine, CosineMSELoss\n",
    "import torch\n",
    "import numpy as np\n",
    "import matplotlib.pyplot as plt"
   ]
  },
  {
   "cell_type": "code",
   "execution_count": 2,
   "id": "b594f106-a84f-463a-a6b6-48da2fb3de56",
   "metadata": {},
   "outputs": [],
   "source": [
    "loss = L2Sphere()\n",
    "lossn = L2Sphere(reduction='none')\n",
    "loss_noSine = L2Sphere_noSine()\n",
    "loss_noSinen = L2Sphere_noSine(reduction='none')\n",
    "cos = CosineMSELoss(reduction='mean')\n",
    "cossum = CosineMSELoss(reduction='sum')\n",
    "cosn = CosineMSELoss(reduction='none')\n",
    "\n",
    "def l2loss_sphere(solver, prd, tar, relative=False, squared=True):\n",
    "    loss = solver.integrate_grid((prd - tar)**2, dimensionless=True).sum(dim=-1)\n",
    "    if relative:\n",
    "        loss = loss / solver.integrate_grid(tar**2, dimensionless=True).sum(dim=-1)\n",
    "    \n",
    "    if not squared:\n",
    "        loss = torch.sqrt(loss)\n",
    "    loss = loss.mean()\n",
    "\n",
    "    return loss"
   ]
  },
  {
   "cell_type": "code",
   "execution_count": 3,
   "id": "fc9c59bd-d274-455f-b9f5-646bfe1ae4b7",
   "metadata": {},
   "outputs": [],
   "source": [
    "mse = torch.nn.MSELoss()"
   ]
  },
  {
   "cell_type": "code",
   "execution_count": 4,
   "id": "a913d780-be55-442a-a9a3-287e275648e4",
   "metadata": {},
   "outputs": [
    {
     "data": {
      "text/plain": [
       "(1, 1, 721, 1440)"
      ]
     },
     "execution_count": 4,
     "metadata": {},
     "output_type": "execute_result"
    }
   ],
   "source": [
    "ones = torch.ones((1,1,721,1440))\n",
    "twos = ones*2\n",
    "zeros = torch.zeros((1,1,721,1440))\n",
    "y = np.abs(np.sin(np.linspace(-torch.pi / 2, torch.pi / 2, 721)))\n",
    "onlySine = np.cos(np.linspace(-torch.pi / 2, torch.pi / 2, 721))\n",
    "y = np.repeat(y[:, np.newaxis], 1440, axis=1)[None][None]\n",
    "y.shape\n"
   ]
  },
  {
   "cell_type": "code",
   "execution_count": 5,
   "id": "162d119a-cb0a-4f57-8104-b67eaab3ae77",
   "metadata": {},
   "outputs": [
    {
     "data": {
      "text/plain": [
       "array([[[[1.        , 1.        , 1.        , ..., 1.        ,\n",
       "          1.        , 1.        ],\n",
       "         [0.99999048, 0.99999048, 0.99999048, ..., 0.99999048,\n",
       "          0.99999048, 0.99999048],\n",
       "         [0.99996192, 0.99996192, 0.99996192, ..., 0.99996192,\n",
       "          0.99996192, 0.99996192],\n",
       "         ...,\n",
       "         [0.99996192, 0.99996192, 0.99996192, ..., 0.99996192,\n",
       "          0.99996192, 0.99996192],\n",
       "         [0.99999048, 0.99999048, 0.99999048, ..., 0.99999048,\n",
       "          0.99999048, 0.99999048],\n",
       "         [1.        , 1.        , 1.        , ..., 1.        ,\n",
       "          1.        , 1.        ]]]])"
      ]
     },
     "execution_count": 5,
     "metadata": {},
     "output_type": "execute_result"
    }
   ],
   "source": [
    "y"
   ]
  },
  {
   "cell_type": "code",
   "execution_count": 6,
   "id": "89feb049-532c-4ffe-8bba-d14afe038ac1",
   "metadata": {},
   "outputs": [
    {
     "data": {
      "text/plain": [
       "tensor(3481.)"
      ]
     },
     "execution_count": 6,
     "metadata": {},
     "output_type": "execute_result"
    }
   ],
   "source": [
    "mse(ones,ones*2)"
   ]
  },
  {
   "cell_type": "code",
   "execution_count": 22,
   "id": "e0392cd0-5090-4f6b-83f7-11ba9650465c",
   "metadata": {},
   "outputs": [
    {
     "data": {
      "text/plain": [
       "tensor(0.5000)"
      ]
     },
     "execution_count": 22,
     "metadata": {},
     "output_type": "execute_result"
    }
   ],
   "source": [
    "loss(ones,ones*2)"
   ]
  },
  {
   "cell_type": "code",
   "execution_count": 8,
   "id": "23707990-f060-4d9a-b0c5-45c99adbd569",
   "metadata": {},
   "outputs": [
    {
     "data": {
      "text/plain": [
       "tensor(0.9833)"
      ]
     },
     "execution_count": 8,
     "metadata": {},
     "output_type": "execute_result"
    }
   ],
   "source": [
    "loss_noSine(ones,ones*60)"
   ]
  },
  {
   "cell_type": "code",
   "execution_count": 23,
   "id": "b9fbffaf-d5c5-445a-b51f-94b8775d6aa9",
   "metadata": {},
   "outputs": [
    {
     "data": {
      "text/plain": [
       "tensor(0.0014)"
      ]
     },
     "execution_count": 23,
     "metadata": {},
     "output_type": "execute_result"
    }
   ],
   "source": [
    "cos(ones,ones*2)"
   ]
  },
  {
   "cell_type": "code",
   "execution_count": 27,
   "id": "043cf437-528c-46cf-ba4b-a167bd3ab7bd",
   "metadata": {},
   "outputs": [
    {
     "data": {
      "text/plain": [
       "tensor(1.0000)"
      ]
     },
     "execution_count": 27,
     "metadata": {},
     "output_type": "execute_result"
    }
   ],
   "source": [
    "cossum(ones,ones*2)"
   ]
  },
  {
   "cell_type": "code",
   "execution_count": 11,
   "id": "038376f7-bcfb-4216-a289-799fb04aa37a",
   "metadata": {},
   "outputs": [
    {
     "ename": "TypeError",
     "evalue": "l2loss_sphere() missing 1 required positional argument: 'tar'",
     "output_type": "error",
     "traceback": [
      "\u001b[0;31m---------------------------------------------------------------------------\u001b[0m",
      "\u001b[0;31mTypeError\u001b[0m                                 Traceback (most recent call last)",
      "Cell \u001b[0;32mIn[11], line 1\u001b[0m\n\u001b[0;32m----> 1\u001b[0m \u001b[43ml2loss_sphere\u001b[49m\u001b[43m(\u001b[49m\u001b[43mones\u001b[49m\u001b[43m,\u001b[49m\u001b[43mones\u001b[49m\u001b[38;5;241;43m*\u001b[39;49m\u001b[38;5;241;43m60\u001b[39;49m\u001b[43m)\u001b[49m\n",
      "\u001b[0;31mTypeError\u001b[0m: l2loss_sphere() missing 1 required positional argument: 'tar'"
     ]
    }
   ],
   "source": [
    "l2loss_sphere(ones,ones*60)"
   ]
  },
  {
   "cell_type": "code",
   "execution_count": null,
   "id": "21a1c7b1-bfd9-485c-92e0-49109d74c3b6",
   "metadata": {},
   "outputs": [],
   "source": [
    "np.sqrt(mse(ones,ones*60))"
   ]
  },
  {
   "cell_type": "code",
   "execution_count": 12,
   "id": "dda1e00a-9527-44e4-8d0f-1adc6cc82a78",
   "metadata": {},
   "outputs": [
    {
     "name": "stdout",
     "output_type": "stream",
     "text": [
      "tensor(0.9364, dtype=torch.float64)\n",
      "tensor(0.9396, dtype=torch.float64)\n"
     ]
    }
   ],
   "source": [
    "# print(np.sqrt(mse(zeros+0.1,y+0.1)))\n",
    "print(loss(zeros+0.1,y+1.1))\n",
    "print(loss_noSine(zeros+0.1,y+1.1))"
   ]
  },
  {
   "cell_type": "code",
   "execution_count": null,
   "id": "20e17cab-383d-4f21-af98-a50cbb025095",
   "metadata": {},
   "outputs": [],
   "source": []
  },
  {
   "cell_type": "code",
   "execution_count": 30,
   "id": "cd7aab86-5449-4017-b99f-4785cbe66e5e",
   "metadata": {},
   "outputs": [],
   "source": [
    "rm = []\n",
    "l = []\n",
    "ls = []\n",
    "c = []\n",
    "cs = []\n",
    "for i in np.linspace(1,4,41):\n",
    "    rm.append(torch.sqrt(mse(ones,ones*i)))\n",
    "    l.append(loss(ones,ones*i))\n",
    "    ls.append(loss_noSine(ones,ones*i))\n",
    "    c.append(cos(ones,ones*i))\n",
    "    \n",
    "    cs.append(cossum(ones,ones*i))"
   ]
  },
  {
   "cell_type": "code",
   "execution_count": 31,
   "id": "267bf55f-6bd9-4e8a-b4b3-83737b31e11d",
   "metadata": {},
   "outputs": [
    {
     "data": {
      "text/plain": [
       "<matplotlib.legend.Legend at 0x7f2300e00190>"
      ]
     },
     "execution_count": 31,
     "metadata": {},
     "output_type": "execute_result"
    },
    {
     "data": {
      "image/png": "[encoded data removed]",
      "text/plain": [
       "<Figure size 640x480 with 1 Axes>"
      ]
     },
     "metadata": {},
     "output_type": "display_data"
    }
   ],
   "source": [
    "plt.plot(rm,label='rmse')\n",
    "plt.plot(l,label='spherical')\n",
    "plt.plot(ls,label='spherical no Sine')\n",
    "plt.plot(c,label='cos')\n",
    "plt.plot(cs,label='cos sum')\n",
    "plt.legend()"
   ]
  },
  {
   "cell_type": "code",
   "execution_count": 15,
   "id": "119929fe-17ee-4c53-a505-7da732820639",
   "metadata": {},
   "outputs": [
    {
     "data": {
      "text/plain": [
       "[tensor(0.),\n",
       " tensor(1.2483e-06),\n",
       " tensor(4.9931e-06),\n",
       " tensor(1.1234e-05),\n",
       " tensor(1.9972e-05),\n",
       " tensor(3.1207e-05),\n",
       " tensor(4.4938e-05),\n",
       " tensor(6.1165e-05),\n",
       " tensor(7.9889e-05),\n",
       " tensor(0.0001),\n",
       " tensor(0.0001),\n",
       " tensor(0.0002),\n",
       " tensor(0.0002),\n",
       " tensor(0.0002),\n",
       " tensor(0.0002),\n",
       " tensor(0.0003),\n",
       " tensor(0.0003),\n",
       " tensor(0.0004),\n",
       " tensor(0.0004),\n",
       " tensor(0.0005),\n",
       " tensor(0.0005),\n",
       " tensor(0.0006),\n",
       " tensor(0.0006),\n",
       " tensor(0.0007),\n",
       " tensor(0.0007),\n",
       " tensor(0.0008),\n",
       " tensor(0.0008),\n",
       " tensor(0.0009),\n",
       " tensor(0.0010),\n",
       " tensor(0.0010),\n",
       " tensor(0.0011),\n",
       " tensor(0.0012),\n",
       " tensor(0.0013),\n",
       " tensor(0.0014),\n",
       " tensor(0.0014),\n",
       " tensor(0.0015),\n",
       " tensor(0.0016),\n",
       " tensor(0.0017),\n",
       " tensor(0.0018),\n",
       " tensor(0.0019),\n",
       " tensor(0.0020),\n",
       " tensor(0.0021),\n",
       " tensor(0.0022),\n",
       " tensor(0.0023),\n",
       " tensor(0.0024),\n",
       " tensor(0.0025),\n",
       " tensor(0.0026),\n",
       " tensor(0.0028),\n",
       " tensor(0.0029),\n",
       " tensor(0.0030),\n",
       " tensor(0.0031),\n",
       " tensor(0.0032),\n",
       " tensor(0.0034),\n",
       " tensor(0.0035),\n",
       " tensor(0.0036),\n",
       " tensor(0.0038),\n",
       " tensor(0.0039),\n",
       " tensor(0.0041),\n",
       " tensor(0.0042),\n",
       " tensor(0.0043),\n",
       " tensor(0.0045),\n",
       " tensor(0.0046),\n",
       " tensor(0.0048),\n",
       " tensor(0.0050),\n",
       " tensor(0.0051),\n",
       " tensor(0.0053),\n",
       " tensor(0.0054),\n",
       " tensor(0.0056),\n",
       " tensor(0.0058),\n",
       " tensor(0.0059),\n",
       " tensor(0.0061),\n",
       " tensor(0.0063),\n",
       " tensor(0.0065),\n",
       " tensor(0.0067),\n",
       " tensor(0.0068),\n",
       " tensor(0.0070),\n",
       " tensor(0.0072),\n",
       " tensor(0.0074),\n",
       " tensor(0.0076),\n",
       " tensor(0.0078),\n",
       " tensor(0.0080),\n",
       " tensor(0.0082),\n",
       " tensor(0.0084),\n",
       " tensor(0.0086),\n",
       " tensor(0.0088),\n",
       " tensor(0.0090),\n",
       " tensor(0.0092),\n",
       " tensor(0.0094),\n",
       " tensor(0.0097),\n",
       " tensor(0.0099),\n",
       " tensor(0.0101),\n",
       " tensor(0.0103),\n",
       " tensor(0.0106),\n",
       " tensor(0.0108),\n",
       " tensor(0.0110),\n",
       " tensor(0.0113),\n",
       " tensor(0.0115),\n",
       " tensor(0.0117),\n",
       " tensor(0.0120),\n",
       " tensor(0.0122),\n",
       " tensor(0.0125)]"
      ]
     },
     "execution_count": 15,
     "metadata": {},
     "output_type": "execute_result"
    }
   ],
   "source": [
    "c"
   ]
  },
  {
   "cell_type": "code",
   "execution_count": 22,
   "id": "470f0b75-e295-4181-94e2-b106ce30b293",
   "metadata": {},
   "outputs": [
    {
     "data": {
      "text/plain": [
       "<matplotlib.legend.Legend at 0x7f5c68dd17d0>"
      ]
     },
     "execution_count": 22,
     "metadata": {},
     "output_type": "execute_result"
    },
    {
     "data": {
      "image/png": "[encoded data removed]",
      "text/plain": [
       "<Figure size 640x480 with 1 Axes>"
      ]
     },
     "metadata": {},
     "output_type": "display_data"
    }
   ],
   "source": [
    "rm = []\n",
    "l = []\n",
    "ls = []\n",
    "for i in np.linspace(1,4,41):\n",
    "    # rm.append(torch.sqrt(mse(zeros+0.1,y*i)))\n",
    "    l.append(loss(zeros+0.1,y*i))\n",
    "    ls.append(loss_noSine(zeros+0.1,y*i))\n",
    "plt.plot(rm,label='rmse')\n",
    "plt.plot(l,label='spherical')\n",
    "plt.plot(ls,label='spherical no Sine')\n",
    "plt.legend()"
   ]
  },
  {
   "cell_type": "code",
   "execution_count": 19,
   "id": "36f2e7db-ee85-40cc-8b22-91657c891a3b",
   "metadata": {},
   "outputs": [],
   "source": [
    "x = lossn(ones,twos)\n",
    "xs = loss_noSinen(ones,twos)\n",
    "xc = cosn(ones,twos)"
   ]
  },
  {
   "cell_type": "code",
   "execution_count": 13,
   "id": "9dc6176c-6ace-400f-b128-038b0d795576",
   "metadata": {},
   "outputs": [
    {
     "data": {
      "text/plain": [
       "<matplotlib.image.AxesImage at 0x7f5c74468ed0>"
      ]
     },
     "execution_count": 13,
     "metadata": {},
     "output_type": "execute_result"
    },
    {
     "data": {
      "image/png": "[encoded data removed]",
      "text/plain": [
       "<Figure size 640x480 with 1 Axes>"
      ]
     },
     "metadata": {},
     "output_type": "display_data"
    }
   ],
   "source": [
    "plt.imshow(x[0,0])"
   ]
  },
  {
   "cell_type": "code",
   "execution_count": 23,
   "id": "d9c77559-c6f3-49e0-8880-1ea066aba790",
   "metadata": {},
   "outputs": [
    {
     "data": {
      "text/plain": [
       "<matplotlib.image.AxesImage at 0x7f5c6828a190>"
      ]
     },
     "execution_count": 23,
     "metadata": {},
     "output_type": "execute_result"
    },
    {
     "data": {
      "image/png": "[encoded data removed]",
      "text/plain": [
       "<Figure size 640x480 with 1 Axes>"
      ]
     },
     "metadata": {},
     "output_type": "display_data"
    }
   ],
   "source": [
    "plt.imshow(xs[0,0])"
   ]
  },
  {
   "cell_type": "code",
   "execution_count": 24,
   "id": "1b036b2d-a0f7-48d4-bebd-e8ca2f2bd646",
   "metadata": {},
   "outputs": [
    {
     "data": {
      "text/plain": [
       "tensor([1.2374e-09, 2.8805e-09, 4.5259e-09, 6.1715e-09, 7.8170e-09, 9.4623e-09,\n",
       "        1.1107e-08, 1.2752e-08, 1.4397e-08, 1.6042e-08])"
      ]
     },
     "execution_count": 24,
     "metadata": {},
     "output_type": "execute_result"
    }
   ],
   "source": [
    "xs[0,0,0:10,0]"
   ]
  },
  {
   "cell_type": "code",
   "execution_count": 14,
   "id": "a371d3b0-e59f-4a0a-a448-32ef9d236b3a",
   "metadata": {},
   "outputs": [
    {
     "data": {
      "text/plain": [
       "tensor([-6.8941e-17,  1.6019e-11,  5.0339e-11,  1.0296e-10,  1.7388e-10,\n",
       "         2.6310e-10,  3.7059e-10,  4.9637e-10,  6.4041e-10,  8.0271e-10])"
      ]
     },
     "execution_count": 14,
     "metadata": {},
     "output_type": "execute_result"
    }
   ],
   "source": [
    "x[0,0,0:10,0]"
   ]
  },
  {
   "cell_type": "code",
   "execution_count": 20,
   "id": "e0baeee6-7556-48a6-8f17-1bfbd7db6585",
   "metadata": {},
   "outputs": [
    {
     "data": {
      "text/plain": [
       "tensor([2.1813e-07, 9.7358e-06, 1.9253e-05, 2.8771e-05, 3.8287e-05, 4.7803e-05,\n",
       "        5.7318e-05, 6.6832e-05, 7.6345e-05, 8.5856e-05])"
      ]
     },
     "execution_count": 20,
     "metadata": {},
     "output_type": "execute_result"
    }
   ],
   "source": [
    "xc[0,0,0:10,0]"
   ]
  },
  {
   "cell_type": "code",
   "execution_count": 15,
   "id": "5abc0787-6ef9-4751-9f6b-26e515f978a9",
   "metadata": {},
   "outputs": [
    {
     "data": {
      "text/plain": [
       "[<matplotlib.lines.Line2D at 0x7f5c69758e50>]"
      ]
     },
     "execution_count": 15,
     "metadata": {},
     "output_type": "execute_result"
    },
    {
     "data": {
      "image/png": "[encoded data removed]",
      "text/plain": [
       "<Figure size 640x480 with 1 Axes>"
      ]
     },
     "metadata": {},
     "output_type": "display_data"
    }
   ],
   "source": [
    "plt.plot(x[0,0,0:100,0])"
   ]
  },
  {
   "cell_type": "code",
   "execution_count": 26,
   "id": "77f17dda-f409-4258-af4e-d3e9cec8631e",
   "metadata": {},
   "outputs": [
    {
     "data": {
      "text/plain": [
       "<matplotlib.legend.Legend at 0x7f2301071b10>"
      ]
     },
     "execution_count": 26,
     "metadata": {},
     "output_type": "execute_result"
    },
    {
     "data": {
      "image/png": "[encoded data removed]",
      "text/plain": [
       "<Figure size 640x480 with 1 Axes>"
      ]
     },
     "metadata": {},
     "output_type": "display_data"
    }
   ],
   "source": [
    "plt.plot(x[0,0,:,0],label=\"combined\")\n",
    "plt.plot(xs[0,0,:,0],label=\"no Sine\")\n",
    "plt.plot(onlySine*3.8e-7)\n",
    "plt.plot(onlySine*onlySine*4.8e-7)\n",
    "plt.plot(xc[0,0,:,0],label='cos')\n",
    "plt.legend()"
   ]
  },
  {
   "cell_type": "code",
   "execution_count": 43,
   "id": "f2d0fba1-40f4-4d20-ae79-f4e3206f9fc2",
   "metadata": {},
   "outputs": [
    {
     "data": {
      "text/plain": [
       "tensor(0.0002)"
      ]
     },
     "execution_count": 43,
     "metadata": {},
     "output_type": "execute_result"
    }
   ],
   "source": [
    "x[0,0,:,0].sum()"
   ]
  },
  {
   "cell_type": "code",
   "execution_count": 47,
   "id": "1a4353be-878e-4e6b-bbbd-71855cdfa8f8",
   "metadata": {},
   "outputs": [
    {
     "data": {
      "text/plain": [
       "tensor(0.2500)"
      ]
     },
     "execution_count": 47,
     "metadata": {},
     "output_type": "execute_result"
    }
   ],
   "source": [
    "x.sum()"
   ]
  },
  {
   "cell_type": "code",
   "execution_count": 49,
   "id": "35582cef-a2e8-4621-93e1-340ee0e32e4e",
   "metadata": {},
   "outputs": [
    {
     "data": {
      "text/plain": [
       "tensor(0.0174)"
      ]
     },
     "execution_count": 49,
     "metadata": {},
     "output_type": "execute_result"
    }
   ],
   "source": [
    "xs[0,0,:,0:100].sum()"
   ]
  },
  {
   "cell_type": "code",
   "execution_count": 48,
   "id": "20a010ff-1c40-4081-994b-1c37b8fdf86f",
   "metadata": {},
   "outputs": [
    {
     "data": {
      "text/plain": [
       "tensor(0.2500)"
      ]
     },
     "execution_count": 48,
     "metadata": {},
     "output_type": "execute_result"
    }
   ],
   "source": [
    "xs.sum()"
   ]
  },
  {
   "cell_type": "code",
   "execution_count": 46,
   "id": "d794df25-4f23-4b0d-87bd-87f674f61ded",
   "metadata": {},
   "outputs": [],
   "source": [
    "# onlySine.sum()"
   ]
  },
  {
   "cell_type": "code",
   "execution_count": 50,
   "id": "db7dfa38-95cd-40b9-b7b6-636df5f5120b",
   "metadata": {},
   "outputs": [
    {
     "data": {
      "text/plain": [
       "1.25"
      ]
     },
     "execution_count": 50,
     "metadata": {},
     "output_type": "execute_result"
    }
   ],
   "source": [
    "5/4"
   ]
  },
  {
   "cell_type": "code",
   "execution_count": 57,
   "id": "fa685b51-3456-4056-b3dd-29854ce3b6ba",
   "metadata": {},
   "outputs": [
    {
     "data": {
      "text/plain": [
       "tensor([-4.3711e-08,  4.3634e-03,  8.7266e-03,  1.3090e-02,  1.7452e-02,\n",
       "         2.1815e-02,  2.6177e-02,  3.0539e-02,  3.4899e-02,  3.9260e-02,\n",
       "         4.3619e-02,  4.7978e-02,  5.2336e-02,  5.6693e-02,  6.1049e-02,\n",
       "         6.5403e-02,  6.9757e-02,  7.4109e-02,  7.8459e-02,  8.2808e-02,\n",
       "         8.7156e-02,  9.1502e-02,  9.5846e-02,  1.0019e-01,  1.0453e-01,\n",
       "         1.0887e-01,  1.1320e-01,  1.1754e-01,  1.2187e-01,  1.2620e-01,\n",
       "         1.3053e-01,  1.3485e-01,  1.3917e-01,  1.4349e-01,  1.4781e-01,\n",
       "         1.5212e-01,  1.5643e-01,  1.6074e-01,  1.6505e-01,  1.6935e-01,\n",
       "         1.7365e-01,  1.7794e-01,  1.8224e-01,  1.8652e-01,  1.9081e-01,\n",
       "         1.9509e-01,  1.9937e-01,  2.0364e-01,  2.0791e-01,  2.1218e-01,\n",
       "         2.1644e-01,  2.2070e-01,  2.2495e-01,  2.2920e-01,  2.3345e-01,\n",
       "         2.3769e-01,  2.4192e-01,  2.4615e-01,  2.5038e-01,  2.5460e-01,\n",
       "         2.5882e-01,  2.6303e-01,  2.6724e-01,  2.7144e-01,  2.7564e-01,\n",
       "         2.7983e-01,  2.8402e-01,  2.8820e-01,  2.9237e-01,  2.9654e-01,\n",
       "         3.0071e-01,  3.0486e-01,  3.0902e-01,  3.1316e-01,  3.1730e-01,\n",
       "         3.2144e-01,  3.2557e-01,  3.2969e-01,  3.3381e-01,  3.3792e-01,\n",
       "         3.4202e-01,  3.4612e-01,  3.5021e-01,  3.5429e-01,  3.5837e-01,\n",
       "         3.6244e-01,  3.6650e-01,  3.7056e-01,  3.7461e-01,  3.7865e-01,\n",
       "         3.8268e-01,  3.8671e-01,  3.9073e-01,  3.9474e-01,  3.9875e-01,\n",
       "         4.0275e-01,  4.0674e-01,  4.1072e-01,  4.1469e-01,  4.1866e-01,\n",
       "         4.2262e-01,  4.2657e-01,  4.3051e-01,  4.3445e-01,  4.3837e-01,\n",
       "         4.4229e-01,  4.4620e-01,  4.5010e-01,  4.5399e-01,  4.5787e-01,\n",
       "         4.6175e-01,  4.6561e-01,  4.6947e-01,  4.7332e-01,  4.7716e-01,\n",
       "         4.8099e-01,  4.8481e-01,  4.8862e-01,  4.9242e-01,  4.9622e-01,\n",
       "         5.0000e-01,  5.0377e-01,  5.0754e-01,  5.1129e-01,  5.1504e-01,\n",
       "         5.1877e-01,  5.2250e-01,  5.2621e-01,  5.2992e-01,  5.3361e-01,\n",
       "         5.3730e-01,  5.4097e-01,  5.4464e-01,  5.4829e-01,  5.5194e-01,\n",
       "         5.5557e-01,  5.5919e-01,  5.6280e-01,  5.6641e-01,  5.7000e-01,\n",
       "         5.7358e-01,  5.7715e-01,  5.8070e-01,  5.8425e-01,  5.8779e-01,\n",
       "         5.9131e-01,  5.9482e-01,  5.9832e-01,  6.0182e-01,  6.0529e-01,\n",
       "         6.0876e-01,  6.1222e-01,  6.1566e-01,  6.1909e-01,  6.2251e-01,\n",
       "         6.2592e-01,  6.2932e-01,  6.3271e-01,  6.3608e-01,  6.3944e-01,\n",
       "         6.4279e-01,  6.4612e-01,  6.4945e-01,  6.5276e-01,  6.5606e-01,\n",
       "         6.5935e-01,  6.6262e-01,  6.6588e-01,  6.6913e-01,  6.7237e-01,\n",
       "         6.7559e-01,  6.7880e-01,  6.8200e-01,  6.8518e-01,  6.8835e-01,\n",
       "         6.9151e-01,  6.9466e-01,  6.9779e-01,  7.0091e-01,  7.0401e-01,\n",
       "         7.0711e-01,  7.1019e-01,  7.1325e-01,  7.1630e-01,  7.1934e-01,\n",
       "         7.2236e-01,  7.2537e-01,  7.2837e-01,  7.3135e-01,  7.3432e-01,\n",
       "         7.3728e-01,  7.4022e-01,  7.4314e-01,  7.4606e-01,  7.4896e-01,\n",
       "         7.5184e-01,  7.5471e-01,  7.5757e-01,  7.6041e-01,  7.6323e-01,\n",
       "         7.6604e-01,  7.6884e-01,  7.7162e-01,  7.7439e-01,  7.7715e-01,\n",
       "         7.7988e-01,  7.8261e-01,  7.8532e-01,  7.8801e-01,  7.9069e-01,\n",
       "         7.9335e-01,  7.9600e-01,  7.9864e-01,  8.0125e-01,  8.0386e-01,\n",
       "         8.0644e-01,  8.0902e-01,  8.1157e-01,  8.1412e-01,  8.1664e-01,\n",
       "         8.1915e-01,  8.2165e-01,  8.2413e-01,  8.2659e-01,  8.2904e-01,\n",
       "         8.3147e-01,  8.3389e-01,  8.3629e-01,  8.3867e-01,  8.4104e-01,\n",
       "         8.4339e-01,  8.4573e-01,  8.4805e-01,  8.5035e-01,  8.5264e-01,\n",
       "         8.5491e-01,  8.5717e-01,  8.5941e-01,  8.6163e-01,  8.6384e-01,\n",
       "         8.6603e-01,  8.6820e-01,  8.7036e-01,  8.7250e-01,  8.7462e-01,\n",
       "         8.7673e-01,  8.7882e-01,  8.8089e-01,  8.8295e-01,  8.8499e-01,\n",
       "         8.8701e-01,  8.8902e-01,  8.9101e-01,  8.9298e-01,  8.9493e-01,\n",
       "         8.9687e-01,  8.9879e-01,  9.0070e-01,  9.0259e-01,  9.0446e-01,\n",
       "         9.0631e-01,  9.0814e-01,  9.0996e-01,  9.1176e-01,  9.1355e-01,\n",
       "         9.1531e-01,  9.1706e-01,  9.1879e-01,  9.2050e-01,  9.2220e-01,\n",
       "         9.2388e-01,  9.2554e-01,  9.2718e-01,  9.2881e-01,  9.3042e-01,\n",
       "         9.3201e-01,  9.3358e-01,  9.3514e-01,  9.3667e-01,  9.3819e-01,\n",
       "         9.3969e-01,  9.4118e-01,  9.4264e-01,  9.4409e-01,  9.4552e-01,\n",
       "         9.4693e-01,  9.4832e-01,  9.4970e-01,  9.5106e-01,  9.5240e-01,\n",
       "         9.5372e-01,  9.5502e-01,  9.5630e-01,  9.5757e-01,  9.5882e-01,\n",
       "         9.6005e-01,  9.6126e-01,  9.6246e-01,  9.6363e-01,  9.6479e-01,\n",
       "         9.6593e-01,  9.6705e-01,  9.6815e-01,  9.6923e-01,  9.7030e-01,\n",
       "         9.7134e-01,  9.7237e-01,  9.7338e-01,  9.7437e-01,  9.7534e-01,\n",
       "         9.7630e-01,  9.7723e-01,  9.7815e-01,  9.7905e-01,  9.7992e-01,\n",
       "         9.8079e-01,  9.8163e-01,  9.8245e-01,  9.8325e-01,  9.8404e-01,\n",
       "         9.8481e-01,  9.8556e-01,  9.8629e-01,  9.8700e-01,  9.8769e-01,\n",
       "         9.8836e-01,  9.8902e-01,  9.8965e-01,  9.9027e-01,  9.9087e-01,\n",
       "         9.9144e-01,  9.9200e-01,  9.9255e-01,  9.9307e-01,  9.9357e-01,\n",
       "         9.9406e-01,  9.9452e-01,  9.9497e-01,  9.9540e-01,  9.9580e-01,\n",
       "         9.9619e-01,  9.9657e-01,  9.9692e-01,  9.9725e-01,  9.9756e-01,\n",
       "         9.9786e-01,  9.9813e-01,  9.9839e-01,  9.9863e-01,  9.9885e-01,\n",
       "         9.9905e-01,  9.9923e-01,  9.9939e-01,  9.9953e-01,  9.9966e-01,\n",
       "         9.9976e-01,  9.9985e-01,  9.9991e-01,  9.9996e-01,  9.9999e-01,\n",
       "         1.0000e+00,  9.9999e-01,  9.9996e-01,  9.9991e-01,  9.9985e-01,\n",
       "         9.9976e-01,  9.9966e-01,  9.9953e-01,  9.9939e-01,  9.9923e-01,\n",
       "         9.9905e-01,  9.9885e-01,  9.9863e-01,  9.9839e-01,  9.9813e-01,\n",
       "         9.9786e-01,  9.9756e-01,  9.9725e-01,  9.9692e-01,  9.9657e-01,\n",
       "         9.9619e-01,  9.9580e-01,  9.9540e-01,  9.9497e-01,  9.9452e-01,\n",
       "         9.9406e-01,  9.9357e-01,  9.9307e-01,  9.9255e-01,  9.9200e-01,\n",
       "         9.9144e-01,  9.9087e-01,  9.9027e-01,  9.8965e-01,  9.8902e-01,\n",
       "         9.8836e-01,  9.8769e-01,  9.8700e-01,  9.8629e-01,  9.8556e-01,\n",
       "         9.8481e-01,  9.8404e-01,  9.8325e-01,  9.8245e-01,  9.8163e-01,\n",
       "         9.8079e-01,  9.7992e-01,  9.7905e-01,  9.7815e-01,  9.7723e-01,\n",
       "         9.7630e-01,  9.7534e-01,  9.7437e-01,  9.7338e-01,  9.7237e-01,\n",
       "         9.7134e-01,  9.7030e-01,  9.6923e-01,  9.6815e-01,  9.6705e-01,\n",
       "         9.6593e-01,  9.6479e-01,  9.6363e-01,  9.6246e-01,  9.6126e-01,\n",
       "         9.6005e-01,  9.5882e-01,  9.5757e-01,  9.5630e-01,  9.5502e-01,\n",
       "         9.5372e-01,  9.5240e-01,  9.5106e-01,  9.4970e-01,  9.4832e-01,\n",
       "         9.4693e-01,  9.4552e-01,  9.4409e-01,  9.4264e-01,  9.4118e-01,\n",
       "         9.3969e-01,  9.3819e-01,  9.3667e-01,  9.3514e-01,  9.3358e-01,\n",
       "         9.3201e-01,  9.3042e-01,  9.2881e-01,  9.2718e-01,  9.2554e-01,\n",
       "         9.2388e-01,  9.2220e-01,  9.2050e-01,  9.1879e-01,  9.1706e-01,\n",
       "         9.1531e-01,  9.1355e-01,  9.1176e-01,  9.0996e-01,  9.0814e-01,\n",
       "         9.0631e-01,  9.0446e-01,  9.0259e-01,  9.0070e-01,  8.9879e-01,\n",
       "         8.9687e-01,  8.9493e-01,  8.9298e-01,  8.9101e-01,  8.8902e-01,\n",
       "         8.8701e-01,  8.8499e-01,  8.8295e-01,  8.8089e-01,  8.7882e-01,\n",
       "         8.7673e-01,  8.7462e-01,  8.7250e-01,  8.7036e-01,  8.6820e-01,\n",
       "         8.6603e-01,  8.6384e-01,  8.6163e-01,  8.5941e-01,  8.5717e-01,\n",
       "         8.5491e-01,  8.5264e-01,  8.5035e-01,  8.4805e-01,  8.4573e-01,\n",
       "         8.4339e-01,  8.4104e-01,  8.3867e-01,  8.3629e-01,  8.3389e-01,\n",
       "         8.3147e-01,  8.2904e-01,  8.2659e-01,  8.2413e-01,  8.2165e-01,\n",
       "         8.1915e-01,  8.1664e-01,  8.1412e-01,  8.1157e-01,  8.0902e-01,\n",
       "         8.0644e-01,  8.0386e-01,  8.0125e-01,  7.9864e-01,  7.9600e-01,\n",
       "         7.9335e-01,  7.9069e-01,  7.8801e-01,  7.8532e-01,  7.8261e-01,\n",
       "         7.7988e-01,  7.7715e-01,  7.7439e-01,  7.7162e-01,  7.6884e-01,\n",
       "         7.6604e-01,  7.6323e-01,  7.6041e-01,  7.5757e-01,  7.5471e-01,\n",
       "         7.5184e-01,  7.4896e-01,  7.4606e-01,  7.4314e-01,  7.4022e-01,\n",
       "         7.3728e-01,  7.3432e-01,  7.3135e-01,  7.2837e-01,  7.2537e-01,\n",
       "         7.2236e-01,  7.1934e-01,  7.1630e-01,  7.1325e-01,  7.1019e-01,\n",
       "         7.0711e-01,  7.0401e-01,  7.0091e-01,  6.9779e-01,  6.9466e-01,\n",
       "         6.9151e-01,  6.8835e-01,  6.8518e-01,  6.8200e-01,  6.7880e-01,\n",
       "         6.7559e-01,  6.7237e-01,  6.6913e-01,  6.6588e-01,  6.6262e-01,\n",
       "         6.5935e-01,  6.5606e-01,  6.5276e-01,  6.4945e-01,  6.4612e-01,\n",
       "         6.4279e-01,  6.3944e-01,  6.3608e-01,  6.3271e-01,  6.2932e-01,\n",
       "         6.2592e-01,  6.2251e-01,  6.1909e-01,  6.1566e-01,  6.1222e-01,\n",
       "         6.0876e-01,  6.0529e-01,  6.0182e-01,  5.9832e-01,  5.9482e-01,\n",
       "         5.9131e-01,  5.8779e-01,  5.8425e-01,  5.8070e-01,  5.7715e-01,\n",
       "         5.7358e-01,  5.7000e-01,  5.6641e-01,  5.6280e-01,  5.5919e-01,\n",
       "         5.5557e-01,  5.5194e-01,  5.4829e-01,  5.4464e-01,  5.4097e-01,\n",
       "         5.3730e-01,  5.3361e-01,  5.2992e-01,  5.2621e-01,  5.2250e-01,\n",
       "         5.1877e-01,  5.1504e-01,  5.1129e-01,  5.0754e-01,  5.0377e-01,\n",
       "         5.0000e-01,  4.9622e-01,  4.9242e-01,  4.8862e-01,  4.8481e-01,\n",
       "         4.8099e-01,  4.7716e-01,  4.7332e-01,  4.6947e-01,  4.6561e-01,\n",
       "         4.6175e-01,  4.5787e-01,  4.5399e-01,  4.5010e-01,  4.4620e-01,\n",
       "         4.4229e-01,  4.3837e-01,  4.3445e-01,  4.3051e-01,  4.2657e-01,\n",
       "         4.2262e-01,  4.1866e-01,  4.1469e-01,  4.1072e-01,  4.0674e-01,\n",
       "         4.0275e-01,  3.9875e-01,  3.9474e-01,  3.9073e-01,  3.8671e-01,\n",
       "         3.8268e-01,  3.7865e-01,  3.7461e-01,  3.7056e-01,  3.6650e-01,\n",
       "         3.6244e-01,  3.5837e-01,  3.5429e-01,  3.5021e-01,  3.4612e-01,\n",
       "         3.4202e-01,  3.3792e-01,  3.3381e-01,  3.2969e-01,  3.2557e-01,\n",
       "         3.2144e-01,  3.1730e-01,  3.1316e-01,  3.0902e-01,  3.0486e-01,\n",
       "         3.0071e-01,  2.9654e-01,  2.9237e-01,  2.8820e-01,  2.8402e-01,\n",
       "         2.7983e-01,  2.7564e-01,  2.7144e-01,  2.6724e-01,  2.6303e-01,\n",
       "         2.5882e-01,  2.5460e-01,  2.5038e-01,  2.4615e-01,  2.4192e-01,\n",
       "         2.3769e-01,  2.3345e-01,  2.2920e-01,  2.2495e-01,  2.2070e-01,\n",
       "         2.1644e-01,  2.1218e-01,  2.0791e-01,  2.0364e-01,  1.9937e-01,\n",
       "         1.9509e-01,  1.9081e-01,  1.8652e-01,  1.8224e-01,  1.7794e-01,\n",
       "         1.7365e-01,  1.6935e-01,  1.6505e-01,  1.6074e-01,  1.5643e-01,\n",
       "         1.5212e-01,  1.4781e-01,  1.4349e-01,  1.3917e-01,  1.3485e-01,\n",
       "         1.3053e-01,  1.2620e-01,  1.2187e-01,  1.1754e-01,  1.1320e-01,\n",
       "         1.0887e-01,  1.0453e-01,  1.0019e-01,  9.5846e-02,  9.1502e-02,\n",
       "         8.7156e-02,  8.2808e-02,  7.8459e-02,  7.4109e-02,  6.9757e-02,\n",
       "         6.5403e-02,  6.1049e-02,  5.6693e-02,  5.2336e-02,  4.7978e-02,\n",
       "         4.3619e-02,  3.9260e-02,  3.4899e-02,  3.0539e-02,  2.6177e-02,\n",
       "         2.1815e-02,  1.7452e-02,  1.3090e-02,  8.7266e-03,  4.3634e-03])"
      ]
     },
     "execution_count": 57,
     "metadata": {},
     "output_type": "execute_result"
    }
   ],
   "source": [
    "torch.cos(torch.arange(-90, 90, step=0.25) * (2 * torch.pi / 360))"
   ]
  },
  {
   "cell_type": "code",
   "execution_count": 56,
   "id": "dc5aacfb-a625-48ab-b986-0beb70018484",
   "metadata": {},
   "outputs": [
    {
     "data": {
      "text/plain": [
       "torch.Size([720])"
      ]
     },
     "execution_count": 56,
     "metadata": {},
     "output_type": "execute_result"
    }
   ],
   "source": [
    "torch.arange(-90, 90, step=0.25).size()"
   ]
  },
  {
   "cell_type": "code",
   "execution_count": 61,
   "id": "765583cf-2f83-4243-9186-44ebd7f9ae7b",
   "metadata": {},
   "outputs": [],
   "source": [
    "co = torch.cos(torch.linspace(-torch.pi / 2, torch.pi / 2, 721))"
   ]
  },
  {
   "cell_type": "code",
   "execution_count": 70,
   "id": "fbba0e3f-b077-4819-b9ce-8dc2a218df5d",
   "metadata": {},
   "outputs": [],
   "source": [
    "con = co/co.sum()"
   ]
  },
  {
   "cell_type": "code",
   "execution_count": 64,
   "id": "8018a12c-e8f0-4f6e-a0f0-3aa12d65308d",
   "metadata": {},
   "outputs": [
    {
     "data": {
      "text/plain": [
       "tensor([4.3711e-08, 4.3632e-03, 8.7264e-03, 1.3090e-02, 1.7452e-02, 2.1815e-02,\n",
       "        2.6177e-02, 3.0538e-02, 3.4899e-02, 3.9260e-02, 4.3619e-02, 4.7978e-02,\n",
       "        5.2336e-02, 5.6693e-02, 6.1049e-02, 6.5403e-02, 6.9756e-02, 7.4109e-02,\n",
       "        7.8459e-02, 8.2808e-02, 8.7156e-02, 9.1502e-02, 9.5846e-02, 1.0019e-01,\n",
       "        1.0453e-01, 1.0887e-01, 1.1320e-01, 1.1754e-01, 1.2187e-01, 1.2620e-01,\n",
       "        1.3053e-01, 1.3485e-01, 1.3917e-01, 1.4349e-01, 1.4781e-01, 1.5212e-01,\n",
       "        1.5643e-01, 1.6074e-01, 1.6505e-01, 1.6935e-01, 1.7365e-01, 1.7794e-01,\n",
       "        1.8224e-01, 1.8652e-01, 1.9081e-01, 1.9509e-01, 1.9937e-01, 2.0364e-01,\n",
       "        2.0791e-01, 2.1218e-01, 2.1644e-01, 2.2070e-01, 2.2495e-01, 2.2920e-01,\n",
       "        2.3345e-01, 2.3769e-01, 2.4192e-01, 2.4615e-01, 2.5038e-01, 2.5460e-01,\n",
       "        2.5882e-01, 2.6303e-01, 2.6724e-01, 2.7144e-01, 2.7564e-01, 2.7983e-01,\n",
       "        2.8402e-01, 2.8820e-01, 2.9237e-01, 2.9654e-01, 3.0071e-01, 3.0486e-01,\n",
       "        3.0902e-01, 3.1316e-01, 3.1730e-01, 3.2144e-01, 3.2557e-01, 3.2969e-01,\n",
       "        3.3381e-01, 3.3792e-01, 3.4202e-01, 3.4612e-01, 3.5021e-01, 3.5429e-01,\n",
       "        3.5837e-01, 3.6244e-01, 3.6650e-01, 3.7056e-01, 3.7461e-01, 3.7865e-01,\n",
       "        3.8268e-01, 3.8671e-01, 3.9073e-01, 3.9474e-01, 3.9875e-01, 4.0275e-01,\n",
       "        4.0674e-01, 4.1072e-01, 4.1469e-01, 4.1866e-01, 4.2262e-01, 4.2657e-01,\n",
       "        4.3051e-01, 4.3445e-01, 4.3837e-01, 4.4229e-01, 4.4620e-01, 4.5010e-01,\n",
       "        4.5399e-01, 4.5787e-01, 4.6175e-01, 4.6561e-01, 4.6947e-01, 4.7332e-01,\n",
       "        4.7716e-01, 4.8099e-01, 4.8481e-01, 4.8862e-01, 4.9242e-01, 4.9622e-01,\n",
       "        5.0000e-01, 5.0377e-01, 5.0754e-01, 5.1129e-01, 5.1504e-01, 5.1877e-01,\n",
       "        5.2250e-01, 5.2621e-01, 5.2992e-01, 5.3361e-01, 5.3730e-01, 5.4097e-01,\n",
       "        5.4464e-01, 5.4829e-01, 5.5194e-01, 5.5557e-01, 5.5919e-01, 5.6280e-01,\n",
       "        5.6641e-01, 5.7000e-01, 5.7358e-01, 5.7715e-01, 5.8070e-01, 5.8425e-01,\n",
       "        5.8779e-01, 5.9131e-01, 5.9482e-01, 5.9832e-01, 6.0181e-01, 6.0529e-01,\n",
       "        6.0876e-01, 6.1222e-01, 6.1566e-01, 6.1909e-01, 6.2251e-01, 6.2592e-01,\n",
       "        6.2932e-01, 6.3271e-01, 6.3608e-01, 6.3944e-01, 6.4279e-01, 6.4612e-01,\n",
       "        6.4945e-01, 6.5276e-01, 6.5606e-01, 6.5935e-01, 6.6262e-01, 6.6588e-01,\n",
       "        6.6913e-01, 6.7237e-01, 6.7559e-01, 6.7880e-01, 6.8200e-01, 6.8518e-01,\n",
       "        6.8835e-01, 6.9151e-01, 6.9466e-01, 6.9779e-01, 7.0091e-01, 7.0401e-01,\n",
       "        7.0711e-01, 7.1019e-01, 7.1325e-01, 7.1630e-01, 7.1934e-01, 7.2236e-01,\n",
       "        7.2537e-01, 7.2837e-01, 7.3135e-01, 7.3432e-01, 7.3728e-01, 7.4022e-01,\n",
       "        7.4314e-01, 7.4606e-01, 7.4896e-01, 7.5184e-01, 7.5471e-01, 7.5756e-01,\n",
       "        7.6041e-01, 7.6323e-01, 7.6604e-01, 7.6884e-01, 7.7162e-01, 7.7439e-01,\n",
       "        7.7715e-01, 7.7988e-01, 7.8261e-01, 7.8532e-01, 7.8801e-01, 7.9069e-01,\n",
       "        7.9335e-01, 7.9600e-01, 7.9864e-01, 8.0125e-01, 8.0386e-01, 8.0644e-01,\n",
       "        8.0902e-01, 8.1157e-01, 8.1412e-01, 8.1664e-01, 8.1915e-01, 8.2165e-01,\n",
       "        8.2413e-01, 8.2659e-01, 8.2904e-01, 8.3147e-01, 8.3389e-01, 8.3629e-01,\n",
       "        8.3867e-01, 8.4104e-01, 8.4339e-01, 8.4573e-01, 8.4805e-01, 8.5035e-01,\n",
       "        8.5264e-01, 8.5491e-01, 8.5717e-01, 8.5941e-01, 8.6163e-01, 8.6384e-01,\n",
       "        8.6603e-01, 8.6820e-01, 8.7036e-01, 8.7250e-01, 8.7462e-01, 8.7673e-01,\n",
       "        8.7882e-01, 8.8089e-01, 8.8295e-01, 8.8499e-01, 8.8701e-01, 8.8902e-01,\n",
       "        8.9101e-01, 8.9298e-01, 8.9493e-01, 8.9687e-01, 8.9879e-01, 9.0070e-01,\n",
       "        9.0259e-01, 9.0446e-01, 9.0631e-01, 9.0814e-01, 9.0996e-01, 9.1176e-01,\n",
       "        9.1355e-01, 9.1531e-01, 9.1706e-01, 9.1879e-01, 9.2050e-01, 9.2220e-01,\n",
       "        9.2388e-01, 9.2554e-01, 9.2718e-01, 9.2881e-01, 9.3042e-01, 9.3201e-01,\n",
       "        9.3358e-01, 9.3514e-01, 9.3667e-01, 9.3819e-01, 9.3969e-01, 9.4118e-01,\n",
       "        9.4264e-01, 9.4409e-01, 9.4552e-01, 9.4693e-01, 9.4832e-01, 9.4970e-01,\n",
       "        9.5106e-01, 9.5240e-01, 9.5372e-01, 9.5502e-01, 9.5630e-01, 9.5757e-01,\n",
       "        9.5882e-01, 9.6005e-01, 9.6126e-01, 9.6246e-01, 9.6363e-01, 9.6479e-01,\n",
       "        9.6593e-01, 9.6705e-01, 9.6815e-01, 9.6923e-01, 9.7030e-01, 9.7134e-01,\n",
       "        9.7237e-01, 9.7338e-01, 9.7437e-01, 9.7534e-01, 9.7630e-01, 9.7723e-01,\n",
       "        9.7815e-01, 9.7905e-01, 9.7992e-01, 9.8079e-01, 9.8163e-01, 9.8245e-01,\n",
       "        9.8325e-01, 9.8404e-01, 9.8481e-01, 9.8556e-01, 9.8629e-01, 9.8700e-01,\n",
       "        9.8769e-01, 9.8836e-01, 9.8902e-01, 9.8965e-01, 9.9027e-01, 9.9087e-01,\n",
       "        9.9144e-01, 9.9200e-01, 9.9255e-01, 9.9307e-01, 9.9357e-01, 9.9406e-01,\n",
       "        9.9452e-01, 9.9497e-01, 9.9540e-01, 9.9580e-01, 9.9619e-01, 9.9657e-01,\n",
       "        9.9692e-01, 9.9725e-01, 9.9756e-01, 9.9786e-01, 9.9813e-01, 9.9839e-01,\n",
       "        9.9863e-01, 9.9885e-01, 9.9905e-01, 9.9923e-01, 9.9939e-01, 9.9953e-01,\n",
       "        9.9966e-01, 9.9976e-01, 9.9985e-01, 9.9991e-01, 9.9996e-01, 9.9999e-01,\n",
       "        1.0000e+00, 9.9999e-01, 9.9996e-01, 9.9991e-01, 9.9985e-01, 9.9976e-01,\n",
       "        9.9966e-01, 9.9953e-01, 9.9939e-01, 9.9923e-01, 9.9905e-01, 9.9885e-01,\n",
       "        9.9863e-01, 9.9839e-01, 9.9813e-01, 9.9786e-01, 9.9756e-01, 9.9725e-01,\n",
       "        9.9692e-01, 9.9657e-01, 9.9619e-01, 9.9580e-01, 9.9540e-01, 9.9497e-01,\n",
       "        9.9452e-01, 9.9406e-01, 9.9357e-01, 9.9307e-01, 9.9255e-01, 9.9200e-01,\n",
       "        9.9144e-01, 9.9087e-01, 9.9027e-01, 9.8965e-01, 9.8902e-01, 9.8836e-01,\n",
       "        9.8769e-01, 9.8700e-01, 9.8629e-01, 9.8556e-01, 9.8481e-01, 9.8404e-01,\n",
       "        9.8325e-01, 9.8245e-01, 9.8163e-01, 9.8079e-01, 9.7992e-01, 9.7905e-01,\n",
       "        9.7815e-01, 9.7723e-01, 9.7630e-01, 9.7534e-01, 9.7437e-01, 9.7338e-01,\n",
       "        9.7237e-01, 9.7134e-01, 9.7030e-01, 9.6923e-01, 9.6815e-01, 9.6705e-01,\n",
       "        9.6593e-01, 9.6479e-01, 9.6363e-01, 9.6246e-01, 9.6126e-01, 9.6005e-01,\n",
       "        9.5882e-01, 9.5757e-01, 9.5630e-01, 9.5502e-01, 9.5372e-01, 9.5240e-01,\n",
       "        9.5106e-01, 9.4970e-01, 9.4832e-01, 9.4693e-01, 9.4552e-01, 9.4409e-01,\n",
       "        9.4264e-01, 9.4118e-01, 9.3969e-01, 9.3819e-01, 9.3667e-01, 9.3514e-01,\n",
       "        9.3358e-01, 9.3201e-01, 9.3042e-01, 9.2881e-01, 9.2718e-01, 9.2554e-01,\n",
       "        9.2388e-01, 9.2220e-01, 9.2050e-01, 9.1879e-01, 9.1706e-01, 9.1531e-01,\n",
       "        9.1355e-01, 9.1176e-01, 9.0996e-01, 9.0814e-01, 9.0631e-01, 9.0446e-01,\n",
       "        9.0259e-01, 9.0070e-01, 8.9879e-01, 8.9687e-01, 8.9493e-01, 8.9298e-01,\n",
       "        8.9101e-01, 8.8902e-01, 8.8701e-01, 8.8499e-01, 8.8295e-01, 8.8089e-01,\n",
       "        8.7882e-01, 8.7673e-01, 8.7462e-01, 8.7250e-01, 8.7036e-01, 8.6820e-01,\n",
       "        8.6603e-01, 8.6384e-01, 8.6163e-01, 8.5941e-01, 8.5717e-01, 8.5491e-01,\n",
       "        8.5264e-01, 8.5035e-01, 8.4805e-01, 8.4573e-01, 8.4339e-01, 8.4104e-01,\n",
       "        8.3867e-01, 8.3629e-01, 8.3389e-01, 8.3147e-01, 8.2904e-01, 8.2659e-01,\n",
       "        8.2413e-01, 8.2165e-01, 8.1915e-01, 8.1664e-01, 8.1412e-01, 8.1157e-01,\n",
       "        8.0902e-01, 8.0644e-01, 8.0386e-01, 8.0125e-01, 7.9864e-01, 7.9600e-01,\n",
       "        7.9335e-01, 7.9069e-01, 7.8801e-01, 7.8532e-01, 7.8261e-01, 7.7988e-01,\n",
       "        7.7715e-01, 7.7439e-01, 7.7162e-01, 7.6884e-01, 7.6604e-01, 7.6323e-01,\n",
       "        7.6041e-01, 7.5756e-01, 7.5471e-01, 7.5184e-01, 7.4896e-01, 7.4606e-01,\n",
       "        7.4314e-01, 7.4022e-01, 7.3728e-01, 7.3432e-01, 7.3135e-01, 7.2837e-01,\n",
       "        7.2537e-01, 7.2236e-01, 7.1934e-01, 7.1630e-01, 7.1325e-01, 7.1019e-01,\n",
       "        7.0711e-01, 7.0401e-01, 7.0091e-01, 6.9779e-01, 6.9466e-01, 6.9151e-01,\n",
       "        6.8835e-01, 6.8518e-01, 6.8200e-01, 6.7880e-01, 6.7559e-01, 6.7237e-01,\n",
       "        6.6913e-01, 6.6588e-01, 6.6262e-01, 6.5935e-01, 6.5606e-01, 6.5276e-01,\n",
       "        6.4945e-01, 6.4612e-01, 6.4279e-01, 6.3944e-01, 6.3608e-01, 6.3271e-01,\n",
       "        6.2932e-01, 6.2592e-01, 6.2251e-01, 6.1909e-01, 6.1566e-01, 6.1222e-01,\n",
       "        6.0876e-01, 6.0529e-01, 6.0181e-01, 5.9832e-01, 5.9482e-01, 5.9131e-01,\n",
       "        5.8779e-01, 5.8425e-01, 5.8070e-01, 5.7715e-01, 5.7358e-01, 5.7000e-01,\n",
       "        5.6641e-01, 5.6280e-01, 5.5919e-01, 5.5557e-01, 5.5194e-01, 5.4829e-01,\n",
       "        5.4464e-01, 5.4097e-01, 5.3730e-01, 5.3361e-01, 5.2992e-01, 5.2621e-01,\n",
       "        5.2250e-01, 5.1877e-01, 5.1504e-01, 5.1129e-01, 5.0754e-01, 5.0377e-01,\n",
       "        5.0000e-01, 4.9622e-01, 4.9242e-01, 4.8862e-01, 4.8481e-01, 4.8099e-01,\n",
       "        4.7716e-01, 4.7332e-01, 4.6947e-01, 4.6561e-01, 4.6175e-01, 4.5787e-01,\n",
       "        4.5399e-01, 4.5010e-01, 4.4620e-01, 4.4229e-01, 4.3837e-01, 4.3445e-01,\n",
       "        4.3051e-01, 4.2657e-01, 4.2262e-01, 4.1866e-01, 4.1469e-01, 4.1072e-01,\n",
       "        4.0674e-01, 4.0275e-01, 3.9875e-01, 3.9474e-01, 3.9073e-01, 3.8671e-01,\n",
       "        3.8268e-01, 3.7865e-01, 3.7461e-01, 3.7056e-01, 3.6650e-01, 3.6244e-01,\n",
       "        3.5837e-01, 3.5429e-01, 3.5021e-01, 3.4612e-01, 3.4202e-01, 3.3792e-01,\n",
       "        3.3381e-01, 3.2969e-01, 3.2557e-01, 3.2144e-01, 3.1730e-01, 3.1316e-01,\n",
       "        3.0902e-01, 3.0486e-01, 3.0071e-01, 2.9654e-01, 2.9237e-01, 2.8820e-01,\n",
       "        2.8402e-01, 2.7983e-01, 2.7564e-01, 2.7144e-01, 2.6724e-01, 2.6303e-01,\n",
       "        2.5882e-01, 2.5460e-01, 2.5038e-01, 2.4615e-01, 2.4192e-01, 2.3769e-01,\n",
       "        2.3345e-01, 2.2920e-01, 2.2495e-01, 2.2070e-01, 2.1644e-01, 2.1218e-01,\n",
       "        2.0791e-01, 2.0364e-01, 1.9937e-01, 1.9509e-01, 1.9081e-01, 1.8652e-01,\n",
       "        1.8224e-01, 1.7794e-01, 1.7365e-01, 1.6935e-01, 1.6505e-01, 1.6074e-01,\n",
       "        1.5643e-01, 1.5212e-01, 1.4781e-01, 1.4349e-01, 1.3917e-01, 1.3485e-01,\n",
       "        1.3053e-01, 1.2620e-01, 1.2187e-01, 1.1754e-01, 1.1320e-01, 1.0887e-01,\n",
       "        1.0453e-01, 1.0019e-01, 9.5846e-02, 9.1502e-02, 8.7156e-02, 8.2808e-02,\n",
       "        7.8459e-02, 7.4109e-02, 6.9756e-02, 6.5403e-02, 6.1049e-02, 5.6693e-02,\n",
       "        5.2336e-02, 4.7978e-02, 4.3619e-02, 3.9260e-02, 3.4899e-02, 3.0538e-02,\n",
       "        2.6177e-02, 2.1815e-02, 1.7452e-02, 1.3090e-02, 8.7264e-03, 4.3632e-03,\n",
       "        4.3711e-08])"
      ]
     },
     "execution_count": 64,
     "metadata": {},
     "output_type": "execute_result"
    }
   ],
   "source": [
    "torch.abs(co)"
   ]
  },
  {
   "cell_type": "code",
   "execution_count": 63,
   "id": "2e0997d5-9ebc-460b-8182-769cc3e42c49",
   "metadata": {},
   "outputs": [
    {
     "data": {
      "text/plain": [
       "tensor([0.0000, 0.0044, 0.0087, 0.0131, 0.0175, 0.0218, 0.0262, 0.0305, 0.0349,\n",
       "        0.0393, 0.0436, 0.0480, 0.0523, 0.0567, 0.0610, 0.0654, 0.0698, 0.0741,\n",
       "        0.0785, 0.0828, 0.0872, 0.0915, 0.0958, 0.1002, 0.1045, 0.1089, 0.1132,\n",
       "        0.1175, 0.1219, 0.1262, 0.1305, 0.1349, 0.1392, 0.1435, 0.1478, 0.1521,\n",
       "        0.1564, 0.1607, 0.1650, 0.1693, 0.1736, 0.1779, 0.1822, 0.1865, 0.1908,\n",
       "        0.1951, 0.1994, 0.2036, 0.2079, 0.2122, 0.2164, 0.2207, 0.2250, 0.2292,\n",
       "        0.2334, 0.2377, 0.2419, 0.2462, 0.2504, 0.2546, 0.2588, 0.2630, 0.2672,\n",
       "        0.2714, 0.2756, 0.2798, 0.2840, 0.2882, 0.2924, 0.2965, 0.3007, 0.3049,\n",
       "        0.3090, 0.3132, 0.3173, 0.3214, 0.3256, 0.3297, 0.3338, 0.3379, 0.3420,\n",
       "        0.3461, 0.3502, 0.3543, 0.3584, 0.3624, 0.3665, 0.3706, 0.3746, 0.3786,\n",
       "        0.3827, 0.3867, 0.3907, 0.3947, 0.3987, 0.4027, 0.4067, 0.4107, 0.4147,\n",
       "        0.4187, 0.4226, 0.4266, 0.4305, 0.4344, 0.4384, 0.4423, 0.4462, 0.4501,\n",
       "        0.4540, 0.4579, 0.4617, 0.4656, 0.4695, 0.4733, 0.4772, 0.4810, 0.4848,\n",
       "        0.4886, 0.4924, 0.4962, 0.5000, 0.5038, 0.5075, 0.5113, 0.5150, 0.5188,\n",
       "        0.5225, 0.5262, 0.5299, 0.5336, 0.5373, 0.5410, 0.5446, 0.5483, 0.5519,\n",
       "        0.5556, 0.5592, 0.5628, 0.5664, 0.5700, 0.5736, 0.5771, 0.5807, 0.5842,\n",
       "        0.5878, 0.5913, 0.5948, 0.5983, 0.6018, 0.6053, 0.6088, 0.6122, 0.6157,\n",
       "        0.6191, 0.6225, 0.6259, 0.6293, 0.6327, 0.6361, 0.6394, 0.6428, 0.6461,\n",
       "        0.6494, 0.6528, 0.6561, 0.6593, 0.6626, 0.6659, 0.6691, 0.6724, 0.6756,\n",
       "        0.6788, 0.6820, 0.6852, 0.6884, 0.6915, 0.6947, 0.6978, 0.7009, 0.7040,\n",
       "        0.7071, 0.7102, 0.7133, 0.7163, 0.7193, 0.7224, 0.7254, 0.7284, 0.7314,\n",
       "        0.7343, 0.7373, 0.7402, 0.7431, 0.7461, 0.7490, 0.7518, 0.7547, 0.7576,\n",
       "        0.7604, 0.7632, 0.7660, 0.7688, 0.7716, 0.7744, 0.7771, 0.7799, 0.7826,\n",
       "        0.7853, 0.7880, 0.7907, 0.7934, 0.7960, 0.7986, 0.8013, 0.8039, 0.8064,\n",
       "        0.8090, 0.8116, 0.8141, 0.8166, 0.8192, 0.8216, 0.8241, 0.8266, 0.8290,\n",
       "        0.8315, 0.8339, 0.8363, 0.8387, 0.8410, 0.8434, 0.8457, 0.8480, 0.8504,\n",
       "        0.8526, 0.8549, 0.8572, 0.8594, 0.8616, 0.8638, 0.8660, 0.8682, 0.8704,\n",
       "        0.8725, 0.8746, 0.8767, 0.8788, 0.8809, 0.8829, 0.8850, 0.8870, 0.8890,\n",
       "        0.8910, 0.8930, 0.8949, 0.8969, 0.8988, 0.9007, 0.9026, 0.9045, 0.9063,\n",
       "        0.9081, 0.9100, 0.9118, 0.9135, 0.9153, 0.9171, 0.9188, 0.9205, 0.9222,\n",
       "        0.9239, 0.9255, 0.9272, 0.9288, 0.9304, 0.9320, 0.9336, 0.9351, 0.9367,\n",
       "        0.9382, 0.9397, 0.9412, 0.9426, 0.9441, 0.9455, 0.9469, 0.9483, 0.9497,\n",
       "        0.9511, 0.9524, 0.9537, 0.9550, 0.9563, 0.9576, 0.9588, 0.9600, 0.9613,\n",
       "        0.9625, 0.9636, 0.9648, 0.9659, 0.9670, 0.9681, 0.9692, 0.9703, 0.9713,\n",
       "        0.9724, 0.9734, 0.9744, 0.9753, 0.9763, 0.9772, 0.9781, 0.9790, 0.9799,\n",
       "        0.9808, 0.9816, 0.9825, 0.9833, 0.9840, 0.9848, 0.9856, 0.9863, 0.9870,\n",
       "        0.9877, 0.9884, 0.9890, 0.9897, 0.9903, 0.9909, 0.9914, 0.9920, 0.9925,\n",
       "        0.9931, 0.9936, 0.9941, 0.9945, 0.9950, 0.9954, 0.9958, 0.9962, 0.9966,\n",
       "        0.9969, 0.9973, 0.9976, 0.9979, 0.9981, 0.9984, 0.9986, 0.9988, 0.9990,\n",
       "        0.9992, 0.9994, 0.9995, 0.9997, 0.9998, 0.9998, 0.9999, 1.0000, 1.0000,\n",
       "        1.0000, 1.0000, 1.0000, 0.9999, 0.9998, 0.9998, 0.9997, 0.9995, 0.9994,\n",
       "        0.9992, 0.9990, 0.9988, 0.9986, 0.9984, 0.9981, 0.9979, 0.9976, 0.9973,\n",
       "        0.9969, 0.9966, 0.9962, 0.9958, 0.9954, 0.9950, 0.9945, 0.9941, 0.9936,\n",
       "        0.9931, 0.9925, 0.9920, 0.9914, 0.9909, 0.9903, 0.9897, 0.9890, 0.9884,\n",
       "        0.9877, 0.9870, 0.9863, 0.9856, 0.9848, 0.9840, 0.9833, 0.9825, 0.9816,\n",
       "        0.9808, 0.9799, 0.9790, 0.9781, 0.9772, 0.9763, 0.9753, 0.9744, 0.9734,\n",
       "        0.9724, 0.9713, 0.9703, 0.9692, 0.9681, 0.9670, 0.9659, 0.9648, 0.9636,\n",
       "        0.9625, 0.9613, 0.9600, 0.9588, 0.9576, 0.9563, 0.9550, 0.9537, 0.9524,\n",
       "        0.9511, 0.9497, 0.9483, 0.9469, 0.9455, 0.9441, 0.9426, 0.9412, 0.9397,\n",
       "        0.9382, 0.9367, 0.9351, 0.9336, 0.9320, 0.9304, 0.9288, 0.9272, 0.9255,\n",
       "        0.9239, 0.9222, 0.9205, 0.9188, 0.9171, 0.9153, 0.9135, 0.9118, 0.9100,\n",
       "        0.9081, 0.9063, 0.9045, 0.9026, 0.9007, 0.8988, 0.8969, 0.8949, 0.8930,\n",
       "        0.8910, 0.8890, 0.8870, 0.8850, 0.8829, 0.8809, 0.8788, 0.8767, 0.8746,\n",
       "        0.8725, 0.8704, 0.8682, 0.8660, 0.8638, 0.8616, 0.8594, 0.8572, 0.8549,\n",
       "        0.8526, 0.8504, 0.8480, 0.8457, 0.8434, 0.8410, 0.8387, 0.8363, 0.8339,\n",
       "        0.8315, 0.8290, 0.8266, 0.8241, 0.8216, 0.8192, 0.8166, 0.8141, 0.8116,\n",
       "        0.8090, 0.8064, 0.8039, 0.8013, 0.7986, 0.7960, 0.7934, 0.7907, 0.7880,\n",
       "        0.7853, 0.7826, 0.7799, 0.7771, 0.7744, 0.7716, 0.7688, 0.7660, 0.7632,\n",
       "        0.7604, 0.7576, 0.7547, 0.7518, 0.7490, 0.7461, 0.7431, 0.7402, 0.7373,\n",
       "        0.7343, 0.7314, 0.7284, 0.7254, 0.7224, 0.7193, 0.7163, 0.7133, 0.7102,\n",
       "        0.7071, 0.7040, 0.7009, 0.6978, 0.6947, 0.6915, 0.6884, 0.6852, 0.6820,\n",
       "        0.6788, 0.6756, 0.6724, 0.6691, 0.6659, 0.6626, 0.6593, 0.6561, 0.6528,\n",
       "        0.6494, 0.6461, 0.6428, 0.6394, 0.6361, 0.6327, 0.6293, 0.6259, 0.6225,\n",
       "        0.6191, 0.6157, 0.6122, 0.6088, 0.6053, 0.6018, 0.5983, 0.5948, 0.5913,\n",
       "        0.5878, 0.5842, 0.5807, 0.5771, 0.5736, 0.5700, 0.5664, 0.5628, 0.5592,\n",
       "        0.5556, 0.5519, 0.5483, 0.5446, 0.5410, 0.5373, 0.5336, 0.5299, 0.5262,\n",
       "        0.5225, 0.5188, 0.5150, 0.5113, 0.5075, 0.5038, 0.5000, 0.4962, 0.4924,\n",
       "        0.4886, 0.4848, 0.4810, 0.4772, 0.4733, 0.4695, 0.4656, 0.4617, 0.4579,\n",
       "        0.4540, 0.4501, 0.4462, 0.4423, 0.4384, 0.4344, 0.4305, 0.4266, 0.4226,\n",
       "        0.4187, 0.4147, 0.4107, 0.4067, 0.4027, 0.3987, 0.3947, 0.3907, 0.3867,\n",
       "        0.3827, 0.3786, 0.3746, 0.3706, 0.3665, 0.3624, 0.3584, 0.3543, 0.3502,\n",
       "        0.3461, 0.3420, 0.3379, 0.3338, 0.3297, 0.3256, 0.3214, 0.3173, 0.3132,\n",
       "        0.3090, 0.3049, 0.3007, 0.2965, 0.2924, 0.2882, 0.2840, 0.2798, 0.2756,\n",
       "        0.2714, 0.2672, 0.2630, 0.2588, 0.2546, 0.2504, 0.2462, 0.2419, 0.2377,\n",
       "        0.2334, 0.2292, 0.2250, 0.2207, 0.2164, 0.2122, 0.2079, 0.2036, 0.1994,\n",
       "        0.1951, 0.1908, 0.1865, 0.1822, 0.1779, 0.1736, 0.1693, 0.1650, 0.1607,\n",
       "        0.1564, 0.1521, 0.1478, 0.1435, 0.1392, 0.1349, 0.1305, 0.1262, 0.1219,\n",
       "        0.1175, 0.1132, 0.1089, 0.1045, 0.1002, 0.0958, 0.0915, 0.0872, 0.0828,\n",
       "        0.0785, 0.0741, 0.0698, 0.0654, 0.0610, 0.0567, 0.0523, 0.0480, 0.0436,\n",
       "        0.0393, 0.0349, 0.0305, 0.0262, 0.0218, 0.0175, 0.0131, 0.0087, 0.0044,\n",
       "        0.0000])"
      ]
     },
     "execution_count": 63,
     "metadata": {},
     "output_type": "execute_result"
    }
   ],
   "source": [
    "torch.clamp(co, min=0.0)"
   ]
  },
  {
   "cell_type": "code",
   "execution_count": 75,
   "id": "951f554a-4d9d-4258-9e64-cd1f63a30e68",
   "metadata": {},
   "outputs": [],
   "source": [
    "quad = torch.tensor(harmonics.quadrature.legendre_gauss_weights(721, -1, 1)[1]) "
   ]
  },
  {
   "cell_type": "code",
   "execution_count": 77,
   "id": "f1acea1f-dd53-4f71-b0ad-78bed89b46dc",
   "metadata": {},
   "outputs": [
    {
     "data": {
      "text/plain": [
       "<matplotlib.legend.Legend at 0x7f5c6808c7d0>"
      ]
     },
     "execution_count": 77,
     "metadata": {},
     "output_type": "execute_result"
    },
    {
     "data": {
      "image/png": "[encoded data removed]",
      "text/plain": [
       "<Figure size 640x480 with 1 Axes>"
      ]
     },
     "metadata": {},
     "output_type": "display_data"
    }
   ],
   "source": [
    "plt.plot(con,label='con')\n",
    "plt.plot(quad,label='quad')\n",
    "plt.legend()"
   ]
  },
  {
   "cell_type": "code",
   "execution_count": null,
   "id": "11f4e704-ba51-40a7-973c-b57387cc4f18",
   "metadata": {},
   "outputs": [],
   "source": []
  }
 ],
 "metadata": {
  "kernelspec": {
   "display_name": "Python 3 (ipykernel)",
   "language": "python",
   "name": "python3"
  },
  "language_info": {
   "codemirror_mode": {
    "name": "ipython",
    "version": 3
   },
   "file_extension": ".py",
   "mimetype": "text/x-python",
   "name": "python",
   "nbconvert_exporter": "python",
   "pygments_lexer": "ipython3",
   "version": "3.11.7"
  }
 },
 "nbformat": 4,
 "nbformat_minor": 5
}
