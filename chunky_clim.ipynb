{
 "cells": [
  {
   "cell_type": "code",
   "execution_count": 1,
   "id": "61389c1f-cf5c-49fc-9e19-4e0f8e02fdd2",
   "metadata": {},
   "outputs": [],
   "source": [
    "import xarray as xr\n",
    "import os\n",
    "import numpy as np\n",
    "import sys\n",
    "import json\n",
    "from datetime import datetime\n",
    "from S2S_on_SFNO.Models.provenance import system_monitor\n",
    "from multiprocessing import Pool, active_children\n",
    "from time import sleep\n",
    "\n",
    "basePath = \"/mnt/qb/goswami/data/era5\"\n",
    "savepath = \"/mnt/qb/work2/goswami0/gkd965/climate/chunky\"\n",
    "monitor_savepath = os.path.join(savepath,\"monitor\"+datetime.now().strftime(\"%Y%m%d-%H%M\")+\".json\")\n",
    "ds = xr.open_mfdataset(os.path.join(basePath, 'single_pressure_level', '10m_v_component_of_wind', \"10m_v_component_of_wind_????.nc\"),parallel=True)\n",
    "\n",
    "ds['hourofyear'] = xr.DataArray(ds.time.dt.strftime('%m-%d %H'), coords=ds.time.coords)"
   ]
  },
  {
   "cell_type": "code",
   "execution_count": 2,
   "id": "1dcffd6f-3bed-4f06-8b82-0c5e77e1ceb1",
   "metadata": {},
   "outputs": [],
   "source": [
    "work = [(lat,long) for lat in range(ds.sizes[\"latitude\"]) for long in range(ds.sizes[\"longitude\"])]\n",
    "len_work = len(work)"
   ]
  },
  {
   "cell_type": "code",
   "execution_count": 4,
   "id": "147a9f56-c083-44a1-b71e-b6382fed5364",
   "metadata": {},
   "outputs": [
    {
     "name": "stderr",
     "output_type": "stream",
     "text": [
      "OMP: Info #277: omp_set_nested routine deprecated, please use omp_set_max_active_levels instead.\n"
     ]
    }
   ],
   "source": [
    "lat, long = work[0]\n",
    "ds_lat_long = ds.isel(latitude=lat,longitude=long)\n",
    "ds_hourofyear = ds_lat_long.groupby(\"hourofyear\").mean()\n",
    "savefile = os.path.join(savepath,f\"10m_v_1959-2021_hourofyear_mean_{lat}-lat_{long}-long.nc\")\n",
    "ds_hourofyear.to_netcdf(savefile)"
   ]
  },
  {
   "cell_type": "code",
   "execution_count": 5,
   "id": "b9f40a10-f3bd-4b47-90ac-eb9c87a96513",
   "metadata": {},
   "outputs": [
    {
     "name": "stdout",
     "output_type": "stream",
     "text": [
      "tt\n"
     ]
    }
   ],
   "source": [
    "print(\"tt\")\n"
   ]
  },
  {
   "cell_type": "code",
   "execution_count": null,
   "id": "eb65ac0a-11c8-482f-b878-95744725f5f4",
   "metadata": {},
   "outputs": [],
   "source": []
  }
 ],
 "metadata": {
  "kernelspec": {
   "display_name": "Python 3 (ipykernel)",
   "language": "python",
   "name": "python3"
  },
  "language_info": {
   "codemirror_mode": {
    "name": "ipython",
    "version": 3
   },
   "file_extension": ".py",
   "mimetype": "text/x-python",
   "name": "python",
   "nbconvert_exporter": "python",
   "pygments_lexer": "ipython3",
   "version": "3.11.6"
  }
 },
 "nbformat": 4,
 "nbformat_minor": 5
}
